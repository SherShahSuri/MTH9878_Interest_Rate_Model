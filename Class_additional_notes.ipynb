{
 "cells": [
  {
   "cell_type": "markdown",
   "metadata": {
    "collapsed": true
   },
   "source": [
    "## Class notes"
   ]
  },
  {
   "cell_type": "markdown",
   "metadata": {},
   "source": [
    "### Lecture 7"
   ]
  },
  {
   "cell_type": "markdown",
   "metadata": {},
   "source": [
    "**P21**\n",
    "$$dS(t)=\\nu dW(t)$$\n",
    "$\\Rightarrow$\n",
    "$$\\sigma_{imp}=\\nu$$\n",
    "\n",
    "$$dS(t)=\\nu(t) dW(t)$$\n",
    "$\\Rightarrow$\n",
    "$$\\sigma_{imp}=\\sqrt{\\frac{1}{T}\\int_0^T \\nu^2(t)dt}$$\n",
    "\n",
    "$$S(t)=S(0)+\\int_0^t\\nu(s)dW(s)$$"
   ]
  },
  {
   "cell_type": "code",
   "execution_count": null,
   "metadata": {
    "collapsed": true
   },
   "outputs": [],
   "source": []
  }
 ],
 "metadata": {
  "kernelspec": {
   "display_name": "Python [conda root]",
   "language": "python",
   "name": "conda-root-py"
  },
  "language_info": {
   "codemirror_mode": {
    "name": "ipython",
    "version": 3
   },
   "file_extension": ".py",
   "mimetype": "text/x-python",
   "name": "python",
   "nbconvert_exporter": "python",
   "pygments_lexer": "ipython3",
   "version": "3.5.2"
  }
 },
 "nbformat": 4,
 "nbformat_minor": 2
}
