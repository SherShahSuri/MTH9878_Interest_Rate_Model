{
 "cells": [
  {
   "cell_type": "markdown",
   "metadata": {},
   "source": [
    "# MTH 9878 IR models Notes\n",
    "## Lecture 2\n",
    "\n",
    "1. 0,S,T: 0 current date, S start date, T maturity\n",
    "2. OIS forward rate F(t,S,T)  day count factor: money market account day period in [S,T] compare the bond market day period\n",
    "3. isda\n",
    "4. modification day period in Excel: yearfrac\n",
    "5. 1-discount factor to the last day of the swap=\n",
    "$$\\sum\n"
   ]
  },
  {
   "cell_type": "markdown",
   "metadata": {},
   "source": [
    "## Lecture 8"
   ]
  },
  {
   "cell_type": "markdown",
   "metadata": {
    "collapsed": true
   },
   "source": [
    "**Final**\n",
    "* 2-hour exam: \n",
    "    * 1-hour True or False questions\n",
    "    * 1-hour calculations\n",
    "* Close book exam\n",
    "    * Remember facts (easy to remember or can be derived in one line)\n",
    "    * Complemented facts (formulas) are provided"
   ]
  },
  {
   "cell_type": "markdown",
   "metadata": {},
   "source": [
    "$$\n",
    "\\int Z(s)dZ(s)=\\frac{1}{2}\\left(Z^2-t\\right)\n",
    "$$"
   ]
  },
  {
   "cell_type": "markdown",
   "metadata": {},
   "source": [
    "**Equation (33) in lecture 8**\n",
    "\n",
    "$$\n",
    "\\sum_{a,b}L^aB_{i,b}I_{a,b}=\\sum_aL^aB_{ia}I_{a,a}+\\sum_{a\\neq b}L^aB_{ib}I_{a,b}=\\sum_aL^aB_{ia}I_{a,a}+\\frac{1}{2}\\sum_{a \\neq b}L^aB_{ib}(I_{a,b}+I(b,a))=\\sum_aL^aB_{ia}I_{a,a}+\\frac{1}{2}\\sum_{a \\neq b}L^aB_{ib}(\\Delta Z_a \\Delta Z_b)=\\sum_aL^aB_{ia}I_{a,a}+\\sum_{a<b}L^aB_{ib}(\\Delta Z_a \\Delta Z_b)\n",
    "$$"
   ]
  },
  {
   "cell_type": "code",
   "execution_count": null,
   "metadata": {
    "collapsed": true
   },
   "outputs": [],
   "source": []
  }
 ],
 "metadata": {
  "kernelspec": {
   "display_name": "Python [conda root]",
   "language": "python",
   "name": "conda-root-py"
  },
  "language_info": {
   "codemirror_mode": {
    "name": "ipython",
    "version": 3
   },
   "file_extension": ".py",
   "mimetype": "text/x-python",
   "name": "python",
   "nbconvert_exporter": "python",
   "pygments_lexer": "ipython3",
   "version": "3.5.2"
  }
 },
 "nbformat": 4,
 "nbformat_minor": 2
}
