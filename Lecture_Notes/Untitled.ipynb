{
 "cells": [
  {
   "cell_type": "markdown",
   "metadata": {},
   "source": [
    "# MTH 9878 IR models Notes\n",
    "## Lecture 2\n",
    "\n",
    "1. 0,S,T: 0 current date, S start date, T maturity\n",
    "2. OIS forward rate F(t,S,T)  day count factor: money market account day period in [S,T] compare the bond market day period\n",
    "3. isda\n",
    "4. modification day period in Excel: yearfrac\n",
    "5. 1-discount factor to the last day of the swap=\n",
    "$$\\sum\n"
   ]
  },
  {
   "cell_type": "code",
   "execution_count": null,
   "metadata": {
    "collapsed": true
   },
   "outputs": [],
   "source": []
  }
 ],
 "metadata": {
  "kernelspec": {
   "display_name": "Python [conda root]",
   "language": "python",
   "name": "conda-root-py"
  },
  "language_info": {
   "codemirror_mode": {
    "name": "ipython",
    "version": 3
   },
   "file_extension": ".py",
   "mimetype": "text/x-python",
   "name": "python",
   "nbconvert_exporter": "python",
   "pygments_lexer": "ipython3",
   "version": "3.5.2"
  }
 },
 "nbformat": 4,
 "nbformat_minor": 2
}
