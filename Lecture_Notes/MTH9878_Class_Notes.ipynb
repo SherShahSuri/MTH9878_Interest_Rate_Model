{
 "cells": [
  {
   "cell_type": "markdown",
   "metadata": {},
   "source": [
    "# MTH 9878 IR models Notes\n",
    "## Lecture 2\n",
    "\n",
    "1. 0,S,T: 0 current date, S start date, T maturity\n",
    "2. OIS forward rate F(t,S,T)  day count factor: money market account day period in [S,T] compare the bond market day period\n",
    "3. isda\n",
    "4. modification day period in Excel: yearfrac\n",
    "5. 1-discount factor to the last day of the swap=\n",
    "$$\\sum\n"
   ]
  },
  {
   "cell_type": "markdown",
   "metadata": {},
   "source": [
    "## Lecture 7"
   ]
  },
  {
   "cell_type": "markdown",
   "metadata": {},
   "source": [
    "**P21**\n",
    "$$dS(t)=\\nu dW(t)$$\n",
    "$\\Rightarrow$\n",
    "$$\\sigma_{imp}=\\nu$$\n",
    "\n",
    "$$dS(t)=\\nu(t) dW(t)$$\n",
    "$\\Rightarrow$\n",
    "$$\\sigma_{imp}=\\sqrt{\\frac{1}{T}\\int_0^T \\nu^2(t)dt}$$\n",
    "\n",
    "$$S(t)=S(0)+\\int_0^t\\nu(s)dW(s)$$"
   ]
  },
  {
   "cell_type": "markdown",
   "metadata": {},
   "source": [
    "## Lecture 8"
   ]
  },
  {
   "cell_type": "markdown",
   "metadata": {
    "collapsed": true
   },
   "source": [
    "**Final**\n",
    "* 2-hour exam: \n",
    "    * 1-hour True or False questions\n",
    "    * 1-hour calculations\n",
    "* Close book exam\n",
    "    * Remember facts (easy to remember or can be derived in one line)\n",
    "    * Complemented facts (formulas) are provided"
   ]
  },
  {
   "cell_type": "markdown",
   "metadata": {},
   "source": [
    "$$\n",
    "\\int Z(s)dZ(s)=\\frac{1}{2}\\left(Z^2-t\\right)\n",
    "$$"
   ]
  },
  {
   "cell_type": "markdown",
   "metadata": {},
   "source": [
    "**Equation (33) in lecture 8**\n",
    "\n",
    "$$\n",
    "\\sum_{a,b}L^aB_{i,b}I_{a,b}=\\sum_aL^aB_{ia}I_{a,a}+\\sum_{a\\neq b}L^aB_{ib}I_{a,b}=\\sum_aL^aB_{ia}I_{a,a}+\\frac{1}{2}\\sum_{a \\neq b}L^aB_{ib}(I_{a,b}+I(b,a))=\\sum_aL^aB_{ia}I_{a,a}+\\frac{1}{2}\\sum_{a \\neq b}L^aB_{ib}(\\Delta Z_a \\Delta Z_b)=\\sum_aL^aB_{ia}I_{a,a}+\\sum_{a<b}L^aB_{ib}(\\Delta Z_a \\Delta Z_b)\n",
    "$$"
   ]
  },
  {
   "cell_type": "markdown",
   "metadata": {
    "collapsed": true
   },
   "source": [
    "## Lecture 9 - MBS"
   ]
  },
  {
   "cell_type": "code",
   "execution_count": 8,
   "metadata": {
    "collapsed": false
   },
   "outputs": [
    {
     "data": {
      "text/plain": [
       "0.0050668530982588686"
      ]
     },
     "execution_count": 8,
     "metadata": {},
     "output_type": "execute_result"
    }
   ],
   "source": [
    "import numpy as np\n",
    "CA=0.045\n",
    "N=360\n",
    "c=CA/12\n",
    "d=1/(1+c)\n",
    "m=c/(1-np.power(d,N))\n",
    "m"
   ]
  },
  {
   "cell_type": "code",
   "execution_count": 9,
   "metadata": {
    "collapsed": false
   },
   "outputs": [
    {
     "data": {
      "text/plain": [
       "1.8240671153731927"
      ]
     },
     "execution_count": 9,
     "metadata": {},
     "output_type": "execute_result"
    }
   ],
   "source": [
    "m*360"
   ]
  },
  {
   "cell_type": "markdown",
   "metadata": {},
   "source": [
    " ### 1."
   ]
  },
  {
   "cell_type": "markdown",
   "metadata": {},
   "source": [
    "* **Monthly payment formula derive**:\n",
    "\n",
    "* $P$: Principal\n",
    "\n",
    "$$\n",
    "P=m\\sum_{i=1}^N \\frac{i}{(1+c)^2}=m\\frac{1}{1+c}\\frac{1-\\frac{1}{(1+c)^N}}{1-\\frac{1}{1+c}}=m\\frac{1-\\frac{1}{(1+c)^N}}{c}\n",
    "$$\n",
    "$\\Rightarrow$\n",
    "$$\n",
    "m=P\\frac{c}{1-\\frac{1}{(1+c)^N}}\n",
    "$$"
   ]
  },
  {
   "cell_type": "markdown",
   "metadata": {},
   "source": [
    "### 2.\n",
    "* Components of $\\hat{C}$ do not go to invest: credit spread and servicing fee (processing payment)"
   ]
  },
  {
   "cell_type": "markdown",
   "metadata": {},
   "source": [
    "* In US, the morgage of a house cannot transfer to another person to continue the morgage. If sell a house has morgage, go through prepayment. The new person starts a new loan not the same loan as the person who sold the house."
   ]
  },
  {
   "cell_type": "markdown",
   "metadata": {},
   "source": [
    "* Guest lecturer: Bjorn Flesaker 4/24"
   ]
  },
  {
   "cell_type": "code",
   "execution_count": null,
   "metadata": {
    "collapsed": true
   },
   "outputs": [],
   "source": []
  }
 ],
 "metadata": {
  "kernelspec": {
   "display_name": "Python [conda root]",
   "language": "python",
   "name": "conda-root-py"
  },
  "language_info": {
   "codemirror_mode": {
    "name": "ipython",
    "version": 3
   },
   "file_extension": ".py",
   "mimetype": "text/x-python",
   "name": "python",
   "nbconvert_exporter": "python",
   "pygments_lexer": "ipython3",
   "version": "3.5.2"
  }
 },
 "nbformat": 4,
 "nbformat_minor": 2
}
