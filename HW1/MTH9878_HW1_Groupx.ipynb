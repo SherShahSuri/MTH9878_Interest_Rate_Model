{
 "cells": [
  {
   "cell_type": "markdown",
   "metadata": {},
   "source": [
    "## MTH9878 Interest Rate Models HW1\n",
    "* Group X (To be determined)\n",
    "* Author: Pan, Hongchao & Zhang, Chendi\n",
    "* Kernel version: Python 2.7\n",
    "* Packages: pandas, numpy, datetime, matplotlib, scipy\n",
    "* Data: From given xls file: DataSheetCurve.xls\n",
    "* Notes:\n",
    "    * The discount factor function (dist) contains the option that the inserest rate is not constant, i.e., a function of time\n",
    "    * The f_const, f_instant examples are arbitrary, and can be modified to the corresponding constant or function."
   ]
  },
  {
   "cell_type": "code",
   "execution_count": 1,
   "metadata": {
    "collapsed": false
   },
   "outputs": [],
   "source": [
    "# load packages and features from version 3.x\n",
    "from __future__ import absolute_import, print_function, division\n",
    "import pandas as pd\n",
    "import numpy as np\n",
    "import math\n",
    "import datetime   # create datetime object\n",
    "import matplotlib.pyplot as plt\n",
    "from scipy.interpolate import interp1d, splrep,splev,spalde"
   ]
  },
  {
   "cell_type": "markdown",
   "metadata": {},
   "source": [
    "### Answer of Q1"
   ]
  },
  {
   "cell_type": "code",
   "execution_count": 2,
   "metadata": {
    "collapsed": true
   },
   "outputs": [],
   "source": [
    "# Define a function to calculate the faction of the date differnence\n",
    "def date_fraction(t1,t2):\n",
    "    # Assume input t1 and t2 are calendar dates with datetime objects\n",
    "    # Use the date convention: actual days/360\n",
    "    return ((t2-t1).days)/360   "
   ]
  },
  {
   "cell_type": "code",
   "execution_count": 3,
   "metadata": {
    "collapsed": true
   },
   "outputs": [],
   "source": [
    "# Define a funtion to compute the integration by using simpson's rule\n",
    "# a: left endpoint; b: right endpoint; n: number of partition intervals\n",
    "# f: instantaneous rate function, f(s)\n",
    "def simpson_rule(a,b,f,n):\n",
    "    h= (b-a)/n\n",
    "    result=(f(a) + f(b))/6\n",
    "\n",
    "    for i in range(1, n):\n",
    "        result += f(a + i*h)/3\n",
    "    for i in range(1, n+1):\n",
    "        result += 2*f(a + (i-0.5)*h)/3\n",
    "\n",
    "    return result*h"
   ]
  },
  {
   "cell_type": "code",
   "execution_count": 4,
   "metadata": {
    "collapsed": true
   },
   "outputs": [],
   "source": [
    "def approx_val_tol(f_method,a,b,f,n,tol):\n",
    "    \"\"\"\n",
    "    # f_method: integration method: mid_point/trape/simpson method; simpson's rule here\n",
    "    # tol=5e-7\n",
    "    # n: number of partition intervals\n",
    "    # f: instantaneous rate function, f(s)\n",
    "    # a: left endpoint, t here; b: right endpoint, T here;\n",
    "    \"\"\"\n",
    "    # By using double strategy to converge\n",
    "    result_old=f_method(a,b,f,n)\n",
    "    n=2*n\n",
    "    result_new=f_method(a,b,f,n)\n",
    "\n",
    "    while(abs(result_old-result_new)>tol):\n",
    "        result_old=result_new\n",
    "        n=2*n\n",
    "        result_new=f_method(a,b,f,n)\n",
    "\n",
    "    return result_new\n"
   ]
  },
  {
   "cell_type": "code",
   "execution_count": 5,
   "metadata": {
    "collapsed": true
   },
   "outputs": [],
   "source": [
    "# Define the interest rate function\n",
    "# the constant interest rate\n",
    "def f_const(x):\n",
    "    # example from given spreedsheet\n",
    "    return 0.55/100   \n",
    "\n",
    "# instantaneous rate, not the case in this homework\n",
    "def f_instant(x):\n",
    "    # Arbitrary example\n",
    "    return math.exp(-x**2)"
   ]
  },
  {
   "cell_type": "code",
   "execution_count": 6,
   "metadata": {
    "collapsed": false
   },
   "outputs": [],
   "source": [
    "# Define a function to compute the discount factor\n",
    "def dist(t,T,f,flag):\n",
    "    \"\"\"\n",
    "    # t: starting date\n",
    "    # T: maturity\n",
    "    # f: interest rate\n",
    "    # flag: indicator of f is constant rate or instantaneous rate\n",
    "    \"\"\"\n",
    "    # Assume input t and T are calendar dates with month notation\n",
    "    \n",
    "    # Get the day fraction\n",
    "    day_frac=date_fraction(t,T)\n",
    "    if(flag=='c'):\n",
    "        # constant interest rate\n",
    "        return math.exp(-f*day_frac)\n",
    "    if(flag=='i'):\n",
    "        # instantaneous rate\n",
    "        # starting intervals: 4\n",
    "        # tolerance: 5e-7\n",
    "        # Since t and T are calendar date, convert them to get day fraction period,\n",
    "        # which is equivalent to 0 to day_frac\n",
    "        return math.exp(-approx_val_tol(simpson_rule,0,day_frac,f,4,5e-7))\n",
    "    else:\n",
    "        print(\"The inputs of are not well defined.\")\n",
    "        return -2"
   ]
  },
  {
   "cell_type": "markdown",
   "metadata": {},
   "source": [
    "### Answer of Q2"
   ]
  },
  {
   "cell_type": "code",
   "execution_count": 7,
   "metadata": {
    "collapsed": false
   },
   "outputs": [],
   "source": [
    "# define a function to calculate the LIBOR forward rate\n",
    "# reference formula: equation (12) in lecture 1\n",
    "def LFR(t,S,T,I,flag):\n",
    "    \"\"\"\n",
    "    # t: spot/observation date\n",
    "    # S: settlement date\n",
    "    # T: maturity\n",
    "    # I: instantaneous forward rate\n",
    "    # T-S: underlying tenor\n",
    "    # flag: indicator of I is constant or function\n",
    "    # Assume input t and T are calendar dates with month notation\n",
    "    \"\"\"\n",
    "    \n",
    "    # get the day fraction\n",
    "    day_frac=date_fraction(S,T)\n",
    "   \n",
    "    if(flag=='c'):\n",
    "        # constant interest rate\n",
    "        return (math.exp(I*day_frac)-1)/day_frac  # equation (12) in lecture 1\n",
    "    if(flag=='i'):\n",
    "        # instantaneous rate\n",
    "        # starting intervals: 4\n",
    "        # tolerance: 5e-7\n",
    "        # Since t and T are calendar date, convert them to get day fraction period,\n",
    "        # which is equivalent to 0 to day_frac\n",
    "        return (math.exp(approx_val_tol(simpson_rule,0,day_frac,I,4,5e-7))-1)/day_frac\n",
    "    else:\n",
    "        print(\"The inputs are not well defined.\")\n",
    "        return -2\n",
    "    "
   ]
  },
  {
   "cell_type": "markdown",
   "metadata": {},
   "source": [
    "### Answer of Q3"
   ]
  },
  {
   "cell_type": "code",
   "execution_count": 8,
   "metadata": {
    "collapsed": true
   },
   "outputs": [],
   "source": [
    "# define a function to compute the cash flow date and value\n",
    "def calculate_flow(coupon, frequency, T0,maturity):\n",
    "    \"\"\"\n",
    "    :param coupon: in dollars\n",
    "    :param frequency: is an int\n",
    "    :param T0: obeservation date, in datetime object\n",
    "    :param maturity: in datetime object\n",
    "    :return: intervals scaled by years\n",
    "    \"This functon calculates cash flow dates and values.\"\n",
    "    \"\"\"\n",
    "    \n",
    "    flow_date=range(maturity,T0,int(-12/frequency))\n",
    "    flow_date.reverse()\n",
    "    flow_date=[t/12 for t in flow_date]   # Convert the date\n",
    "\n",
    "    flow_value=[coupon/frequency for i in flow_date[:-1]]+[coupon/frequency]\n",
    "    # flow_date[:-1] remove the last elements in the list\n",
    "    return flow_date, flow_value\n"
   ]
  },
  {
   "cell_type": "code",
   "execution_count": 9,
   "metadata": {
    "collapsed": false
   },
   "outputs": [],
   "source": [
    "# Define a funtion to compute the spot/forward swap rate\n",
    "# Reference: break-even swap rate, equation (19) in lecture note 1\n",
    "def BE_swap_rate(coupon_f,frequency_f,f_f,flag_f,\n",
    "                 coupon_L,frequency_L,f_L,flag_L,\n",
    "                 t,T0,maturity):\n",
    "    \"\"\"\n",
    "    _f: parameters in fix leg\n",
    "    _L: parameters in LIBOR\n",
    "    :param coupon: in dollars\n",
    "    :param frequency: is an int\n",
    "    :param t: spot date, usually 0\n",
    "    :param T0: obeservation date, in datetime object\n",
    "    :param maturity: in datetime object\n",
    "    :param f: interest rate\n",
    "    :param flag: indicator of interest rate is constant or function\n",
    "    \"\"\"\n",
    "    \n",
    "    # Compute the annuity\n",
    "    flow_date_fix,flow_value_fix=calculate_flow(coupon_f,frequency_f,T0,maturity)\n",
    "    # flow_date is alpha_j in the equation (16)\n",
    "    # flow_value is future cash flows\n",
    "    # compute the discount factors\n",
    "    df=[]\n",
    "    df_append=df.append  # avoid .operation to speed up the computation\n",
    "    \n",
    "    for i in range(len(flow_date_fix)):\n",
    "        df_append(dist(t,flow_date_fix[i],f_f,flag_f))\n",
    "    \n",
    "    annuity_t=sum(a*b for a,b in zip(flow_date,df))\n",
    "    \n",
    "    # Compute the payment of floating leg\n",
    "    # Compute the flow date\n",
    "    flow_date_L, flow_cash_L=calculate_flow(coupon_L,frequency_L,T0,maturity)\n",
    "    # flow_date is delta_j in the equation (17)\n",
    "    # flow_value is future cash flows\n",
    "    # compute the discount factors\n",
    "    df_L=[]\n",
    "    df_L_append=df_L.append  # avoid .operation to speed up the computation\n",
    "    \n",
    "    for i in range(len(flow_date_L)):\n",
    "        df_L_append(dist(t,flow_date_L[i],f_L,flag_L))\n",
    "    \n",
    "    # compute the Lj in equation (17)\n",
    "    Lj=[]\n",
    "    Lj_append=Lj.append\n",
    "    \n",
    "    for i in range(len(flow_date_L)-1):\n",
    "        LJ_append(LFR(0,flow_date_L[i],flow_date_L[i+1],f_L,flag_L))\n",
    "    \n",
    "    P_float=sum([x*y*z for x,y,z in zip(flow_date_L,Lj,df_L)])\n",
    "\n",
    "    return P_float/annuity_t   # break-even swap rate\n",
    "    \n",
    "    "
   ]
  },
  {
   "cell_type": "markdown",
   "metadata": {},
   "source": [
    "### Answer of Q4"
   ]
  },
  {
   "cell_type": "code",
   "execution_count": 10,
   "metadata": {
    "collapsed": false
   },
   "outputs": [],
   "source": [
    "# Define a function to read the data from given excel file\n",
    "def get_data():\n",
    "    file_name='DataSheetCurve.xls'\n",
    "    # activate sheet: 2nd sheet\n",
    "    \n",
    "    # LIBOR\n",
    "    df_LIB=pd.read_excel(io=file_name,sheetname=1,parse_cols=\"B:E\",skiprows=1)[:2]\n",
    "    \n",
    "    # ED Futures\n",
    "    df_EDF=pd.read_excel(io=file_name,sheetname=1,parse_cols=\"B:F\",skiprows=5)[:8]\n",
    "    \n",
    "    # Swap Rates\n",
    "    df_Swap=pd.read_excel(io=file_name,sheetname=1,parse_cols=\"B:E\",skiprows=15)[:11]\n",
    "    \n",
    "    # Fed Funds\n",
    "    df_Fed=pd.read_excel(io=file_name,sheetname=1,parse_cols=\"B:E\",skiprows=28)[:1]\n",
    "    \n",
    "    # Basis Swap Rates\n",
    "    df_BSwap=pd.read_excel(io=file_name,sheetname=1,parse_cols=\"B:E\",skiprows=32)[:16]\n",
    "    \n",
    "    # Rename the 1st column name\n",
    "    df_LIB.rename(columns={df_LIB.columns[0]:'Instruments'},inplace=True)\n",
    "    df_EDF.rename(columns={df_EDF.columns[0]:'Instruments'},inplace=True)\n",
    "    df_Swap.rename(columns={df_Swap.columns[0]:'Instruments'},inplace=True)\n",
    "    df_Fed.rename(columns={df_Fed.columns[0]:'Instruments'},inplace=True)\n",
    "    df_BSwap.rename(columns={df_BSwap.columns[0]:'Instruments'},inplace=True)\n",
    "    \n",
    "    # Compute the year fraction of duration (end date- start date)\n",
    "    df_LIB['Year Fraction of Duration']=[date_fraction(x,y) for x,y in zip(df_LIB['Start Date'],df_LIB['End Date'])]\n",
    "    df_Swap['Year Fraction of Duration']=[date_fraction(x,y) for x,y in zip(df_Swap['Start Date'],df_Swap['End Date'])]\n",
    "    df_Fed['Year Fraction of Duration']=[date_fraction(x,y) for x,y in zip(df_Fed['Start Date'],df_Fed['End Date'])]\n",
    "    df_BSwap['Year Fraction of Duration']=[date_fraction(x,y) for x,y in zip(df_BSwap['Start Date'],df_BSwap['End Date'])]\n",
    "    # For Eurodollar futures: start date: 12/15/2011, end date: IMM date\n",
    "    # Same as 3M LIBOR start date\n",
    "    df_EDF['Start Date']=datetime.datetime(2011,12,15,0,0,0,0)\n",
    "    df_EDF['Year Fraction of Duration']=[date_fraction(x,y) for x,y in zip(df_EDF['Start Date'],df_EDF['IMM date'])]\n",
    "    \n",
    "    df_BSwap['Basis (bp)'] = df_BSwap['Basis (bp)']*1e-4  # basis point\n",
    "    \n",
    "    return df_LIB, df_EDF, df_Swap, df_Fed, df_BSwap"
   ]
  },
  {
   "cell_type": "code",
   "execution_count": 11,
   "metadata": {
    "collapsed": false
   },
   "outputs": [],
   "source": [
    "df_LIB, df_EDF, df_Swap, df_Fed, df_BSwap=get_data()"
   ]
  },
  {
   "cell_type": "code",
   "execution_count": 12,
   "metadata": {
    "collapsed": false
   },
   "outputs": [
    {
     "data": {
      "text/html": [
       "<div>\n",
       "<table border=\"1\" class=\"dataframe\">\n",
       "  <thead>\n",
       "    <tr style=\"text-align: right;\">\n",
       "      <th></th>\n",
       "      <th>Instruments</th>\n",
       "      <th>Start Date</th>\n",
       "      <th>End Date</th>\n",
       "      <th>Rate</th>\n",
       "      <th>Year Fraction of Duration</th>\n",
       "    </tr>\n",
       "  </thead>\n",
       "  <tbody>\n",
       "    <tr>\n",
       "      <th>0</th>\n",
       "      <td>USD O/N</td>\n",
       "      <td>2011-12-13 00:00:00</td>\n",
       "      <td>2011-12-14 00:00:00</td>\n",
       "      <td>0.0054588</td>\n",
       "      <td>0.002778</td>\n",
       "    </tr>\n",
       "    <tr>\n",
       "      <th>1</th>\n",
       "      <td>USD 3M</td>\n",
       "      <td>2011-12-15 00:00:00</td>\n",
       "      <td>2012-03-15 00:00:00</td>\n",
       "      <td>0.0054625</td>\n",
       "      <td>0.252778</td>\n",
       "    </tr>\n",
       "  </tbody>\n",
       "</table>\n",
       "</div>"
      ],
      "text/plain": [
       "  Instruments           Start Date             End Date       Rate  \\\n",
       "0     USD O/N  2011-12-13 00:00:00  2011-12-14 00:00:00  0.0054588   \n",
       "1      USD 3M  2011-12-15 00:00:00  2012-03-15 00:00:00  0.0054625   \n",
       "\n",
       "   Year Fraction of Duration  \n",
       "0                   0.002778  \n",
       "1                   0.252778  "
      ]
     },
     "execution_count": 12,
     "metadata": {},
     "output_type": "execute_result"
    }
   ],
   "source": [
    "df_LIB"
   ]
  },
  {
   "cell_type": "markdown",
   "metadata": {},
   "source": [
    "Table 1 Overview of LIBOR data"
   ]
  },
  {
   "cell_type": "code",
   "execution_count": 13,
   "metadata": {
    "collapsed": false
   },
   "outputs": [
    {
     "data": {
      "text/html": [
       "<div>\n",
       "<table border=\"1\" class=\"dataframe\">\n",
       "  <thead>\n",
       "    <tr style=\"text-align: right;\">\n",
       "      <th></th>\n",
       "      <th>Instruments</th>\n",
       "      <th>IMM date</th>\n",
       "      <th>Price</th>\n",
       "      <th>Conv. Adj. (bp)</th>\n",
       "      <th>Rate</th>\n",
       "      <th>Start Date</th>\n",
       "      <th>Year Fraction of Duration</th>\n",
       "    </tr>\n",
       "  </thead>\n",
       "  <tbody>\n",
       "    <tr>\n",
       "      <th>0</th>\n",
       "      <td>EDZ11</td>\n",
       "      <td>2011-12-21 00:00:00</td>\n",
       "      <td>99.4425</td>\n",
       "      <td>0.01</td>\n",
       "      <td>0.005574</td>\n",
       "      <td>2011-12-15</td>\n",
       "      <td>0.016667</td>\n",
       "    </tr>\n",
       "    <tr>\n",
       "      <th>1</th>\n",
       "      <td>EDH12</td>\n",
       "      <td>2012-03-21 00:00:00</td>\n",
       "      <td>99.355</td>\n",
       "      <td>0.11</td>\n",
       "      <td>0.006439</td>\n",
       "      <td>2011-12-15</td>\n",
       "      <td>0.269444</td>\n",
       "    </tr>\n",
       "    <tr>\n",
       "      <th>2</th>\n",
       "      <td>EDM12</td>\n",
       "      <td>2012-06-20 00:00:00</td>\n",
       "      <td>99.31</td>\n",
       "      <td>0.22</td>\n",
       "      <td>0.006878</td>\n",
       "      <td>2011-12-15</td>\n",
       "      <td>0.522222</td>\n",
       "    </tr>\n",
       "    <tr>\n",
       "      <th>3</th>\n",
       "      <td>EDU12</td>\n",
       "      <td>2012-09-19 00:00:00</td>\n",
       "      <td>99.295</td>\n",
       "      <td>0.35</td>\n",
       "      <td>0.007015</td>\n",
       "      <td>2011-12-15</td>\n",
       "      <td>0.775000</td>\n",
       "    </tr>\n",
       "    <tr>\n",
       "      <th>4</th>\n",
       "      <td>EDZ12</td>\n",
       "      <td>2012-12-19 00:00:00</td>\n",
       "      <td>99.29</td>\n",
       "      <td>0.52</td>\n",
       "      <td>0.007048</td>\n",
       "      <td>2011-12-15</td>\n",
       "      <td>1.027778</td>\n",
       "    </tr>\n",
       "    <tr>\n",
       "      <th>5</th>\n",
       "      <td>EDH13</td>\n",
       "      <td>2013-03-20 00:00:00</td>\n",
       "      <td>99.3</td>\n",
       "      <td>0.72</td>\n",
       "      <td>0.006928</td>\n",
       "      <td>2011-12-15</td>\n",
       "      <td>1.280556</td>\n",
       "    </tr>\n",
       "    <tr>\n",
       "      <th>6</th>\n",
       "      <td>EDM13</td>\n",
       "      <td>2013-06-19 00:00:00</td>\n",
       "      <td>99.29</td>\n",
       "      <td>0.94</td>\n",
       "      <td>0.007006</td>\n",
       "      <td>2011-12-15</td>\n",
       "      <td>1.533333</td>\n",
       "    </tr>\n",
       "    <tr>\n",
       "      <th>7</th>\n",
       "      <td>EDU13</td>\n",
       "      <td>2013-09-18 00:00:00</td>\n",
       "      <td>99.26</td>\n",
       "      <td>1.21</td>\n",
       "      <td>0.007279</td>\n",
       "      <td>2011-12-15</td>\n",
       "      <td>1.786111</td>\n",
       "    </tr>\n",
       "  </tbody>\n",
       "</table>\n",
       "</div>"
      ],
      "text/plain": [
       "  Instruments             IMM date    Price Conv. Adj. (bp)      Rate  \\\n",
       "0       EDZ11  2011-12-21 00:00:00  99.4425            0.01  0.005574   \n",
       "1       EDH12  2012-03-21 00:00:00   99.355            0.11  0.006439   \n",
       "2       EDM12  2012-06-20 00:00:00    99.31            0.22  0.006878   \n",
       "3       EDU12  2012-09-19 00:00:00   99.295            0.35  0.007015   \n",
       "4       EDZ12  2012-12-19 00:00:00    99.29            0.52  0.007048   \n",
       "5       EDH13  2013-03-20 00:00:00     99.3            0.72  0.006928   \n",
       "6       EDM13  2013-06-19 00:00:00    99.29            0.94  0.007006   \n",
       "7       EDU13  2013-09-18 00:00:00    99.26            1.21  0.007279   \n",
       "\n",
       "  Start Date  Year Fraction of Duration  \n",
       "0 2011-12-15                   0.016667  \n",
       "1 2011-12-15                   0.269444  \n",
       "2 2011-12-15                   0.522222  \n",
       "3 2011-12-15                   0.775000  \n",
       "4 2011-12-15                   1.027778  \n",
       "5 2011-12-15                   1.280556  \n",
       "6 2011-12-15                   1.533333  \n",
       "7 2011-12-15                   1.786111  "
      ]
     },
     "execution_count": 13,
     "metadata": {},
     "output_type": "execute_result"
    }
   ],
   "source": [
    "df_EDF"
   ]
  },
  {
   "cell_type": "markdown",
   "metadata": {},
   "source": [
    "Table 2 Overview of Eurodollar future data"
   ]
  },
  {
   "cell_type": "markdown",
   "metadata": {},
   "source": [
    "### 1) Fit the Eurodollar future rate with scipy package"
   ]
  },
  {
   "cell_type": "code",
   "execution_count": 14,
   "metadata": {
    "collapsed": false
   },
   "outputs": [
    {
     "data": {
      "text/html": [
       "<div>\n",
       "<table border=\"1\" class=\"dataframe\">\n",
       "  <thead>\n",
       "    <tr style=\"text-align: right;\">\n",
       "      <th></th>\n",
       "      <th>Instruments</th>\n",
       "      <th>IMM date</th>\n",
       "      <th>Price</th>\n",
       "      <th>Conv. Adj. (bp)</th>\n",
       "      <th>Rate</th>\n",
       "      <th>Start Date</th>\n",
       "      <th>Year Fraction of Duration</th>\n",
       "    </tr>\n",
       "  </thead>\n",
       "  <tbody>\n",
       "    <tr>\n",
       "      <th>0</th>\n",
       "      <td>EDZ11</td>\n",
       "      <td>2011-12-21 00:00:00</td>\n",
       "      <td>99.4425</td>\n",
       "      <td>0.01</td>\n",
       "      <td>0.005574</td>\n",
       "      <td>2011-12-15</td>\n",
       "      <td>0.016667</td>\n",
       "    </tr>\n",
       "    <tr>\n",
       "      <th>1</th>\n",
       "      <td>EDH12</td>\n",
       "      <td>2012-03-21 00:00:00</td>\n",
       "      <td>99.355</td>\n",
       "      <td>0.11</td>\n",
       "      <td>0.006439</td>\n",
       "      <td>2011-12-15</td>\n",
       "      <td>0.269444</td>\n",
       "    </tr>\n",
       "    <tr>\n",
       "      <th>2</th>\n",
       "      <td>EDM12</td>\n",
       "      <td>2012-06-20 00:00:00</td>\n",
       "      <td>99.31</td>\n",
       "      <td>0.22</td>\n",
       "      <td>0.006878</td>\n",
       "      <td>2011-12-15</td>\n",
       "      <td>0.522222</td>\n",
       "    </tr>\n",
       "    <tr>\n",
       "      <th>3</th>\n",
       "      <td>EDU12</td>\n",
       "      <td>2012-09-19 00:00:00</td>\n",
       "      <td>99.295</td>\n",
       "      <td>0.35</td>\n",
       "      <td>0.007015</td>\n",
       "      <td>2011-12-15</td>\n",
       "      <td>0.775000</td>\n",
       "    </tr>\n",
       "    <tr>\n",
       "      <th>4</th>\n",
       "      <td>EDZ12</td>\n",
       "      <td>2012-12-19 00:00:00</td>\n",
       "      <td>99.29</td>\n",
       "      <td>0.52</td>\n",
       "      <td>0.007048</td>\n",
       "      <td>2011-12-15</td>\n",
       "      <td>1.027778</td>\n",
       "    </tr>\n",
       "    <tr>\n",
       "      <th>5</th>\n",
       "      <td>EDH13</td>\n",
       "      <td>2013-03-20 00:00:00</td>\n",
       "      <td>99.3</td>\n",
       "      <td>0.72</td>\n",
       "      <td>0.006928</td>\n",
       "      <td>2011-12-15</td>\n",
       "      <td>1.280556</td>\n",
       "    </tr>\n",
       "    <tr>\n",
       "      <th>6</th>\n",
       "      <td>EDM13</td>\n",
       "      <td>2013-06-19 00:00:00</td>\n",
       "      <td>99.29</td>\n",
       "      <td>0.94</td>\n",
       "      <td>0.007006</td>\n",
       "      <td>2011-12-15</td>\n",
       "      <td>1.533333</td>\n",
       "    </tr>\n",
       "    <tr>\n",
       "      <th>7</th>\n",
       "      <td>EDU13</td>\n",
       "      <td>2013-09-18 00:00:00</td>\n",
       "      <td>99.26</td>\n",
       "      <td>1.21</td>\n",
       "      <td>0.007279</td>\n",
       "      <td>2011-12-15</td>\n",
       "      <td>1.786111</td>\n",
       "    </tr>\n",
       "  </tbody>\n",
       "</table>\n",
       "</div>"
      ],
      "text/plain": [
       "  Instruments             IMM date    Price Conv. Adj. (bp)      Rate  \\\n",
       "0       EDZ11  2011-12-21 00:00:00  99.4425            0.01  0.005574   \n",
       "1       EDH12  2012-03-21 00:00:00   99.355            0.11  0.006439   \n",
       "2       EDM12  2012-06-20 00:00:00    99.31            0.22  0.006878   \n",
       "3       EDU12  2012-09-19 00:00:00   99.295            0.35  0.007015   \n",
       "4       EDZ12  2012-12-19 00:00:00    99.29            0.52  0.007048   \n",
       "5       EDH13  2013-03-20 00:00:00     99.3            0.72  0.006928   \n",
       "6       EDM13  2013-06-19 00:00:00    99.29            0.94  0.007006   \n",
       "7       EDU13  2013-09-18 00:00:00    99.26            1.21  0.007279   \n",
       "\n",
       "  Start Date  Year Fraction of Duration  \n",
       "0 2011-12-15                   0.016667  \n",
       "1 2011-12-15                   0.269444  \n",
       "2 2011-12-15                   0.522222  \n",
       "3 2011-12-15                   0.775000  \n",
       "4 2011-12-15                   1.027778  \n",
       "5 2011-12-15                   1.280556  \n",
       "6 2011-12-15                   1.533333  \n",
       "7 2011-12-15                   1.786111  "
      ]
     },
     "execution_count": 14,
     "metadata": {},
     "output_type": "execute_result"
    }
   ],
   "source": [
    "\"\"\"\n",
    "Eurodollar future also called LIBOR future, thereby using df_EDF to build the \n",
    "instantaneous LIBOR curve. The calibrate method is splrep function in scipy.interpolate\n",
    "\"\"\"\n",
    "df_EDF.sort_values(by='Year Fraction of Duration',inplace=True) # Sort the values by year fraction\n",
    "df_EDF"
   ]
  },
  {
   "cell_type": "markdown",
   "metadata": {},
   "source": [
    "Table 3 Sorted Eurodollar future data with ascending of year fraction"
   ]
  },
  {
   "cell_type": "markdown",
   "metadata": {},
   "source": [
    "#### Compute the LIBOR instantaneous rate from scipy.interpolate for the year fraction from 0 to 2 with increment 0.05"
   ]
  },
  {
   "cell_type": "code",
   "execution_count": 15,
   "metadata": {
    "collapsed": true
   },
   "outputs": [],
   "source": [
    "x=df_EDF['Year Fraction of Duration']\n",
    "y=df_EDF['Rate']\n",
    "tck_LIBOR=splrep(x,y)  # Resutl: knots, coefficients, order of spline\n",
    "x_fit=np.linspace(0,2,num=40,endpoint=True)  # 2/0.05=40  increment: 0.05\n",
    "y_fit=splev(x_fit,tck_LIBOR)  # Compute the fitted y value\n"
   ]
  },
  {
   "cell_type": "code",
   "execution_count": 16,
   "metadata": {
    "collapsed": false
   },
   "outputs": [
    {
     "data": {
      "image/png": "[encoded data removed]",
      "text/plain": [
       "<matplotlib.figure.Figure at 0x10f670f90>"
      ]
     },
     "metadata": {},
     "output_type": "display_data"
    }
   ],
   "source": [
    "# Plot the actual value and fitted value\n",
    "plt.figure(1, figsize=(12,3))\n",
    "plt.plot(x,y,'r-',x_fit,y_fit,'b-')\n",
    "plt.xlabel('Year Fraction')\n",
    "plt.ylabel('Rate (decimal)')\n",
    "plt.legend(['Actual','Cubic'],loc='best')\n",
    "plt.show()"
   ]
  },
  {
   "cell_type": "markdown",
   "metadata": {},
   "source": [
    "Figure 1 **LIBOR instantaneous rate** curves from 0 to 2 years"
   ]
  },
  {
   "cell_type": "markdown",
   "metadata": {},
   "source": [
    "### 2) Fit the swap rate with scipy package"
   ]
  },
  {
   "cell_type": "code",
   "execution_count": 17,
   "metadata": {
    "collapsed": false
   },
   "outputs": [
    {
     "data": {
      "text/html": [
       "<div>\n",
       "<table border=\"1\" class=\"dataframe\">\n",
       "  <thead>\n",
       "    <tr style=\"text-align: right;\">\n",
       "      <th></th>\n",
       "      <th>Instruments</th>\n",
       "      <th>Start Date</th>\n",
       "      <th>End Date</th>\n",
       "      <th>Rate</th>\n",
       "      <th>Year Fraction of Duration</th>\n",
       "    </tr>\n",
       "  </thead>\n",
       "  <tbody>\n",
       "    <tr>\n",
       "      <th>11</th>\n",
       "      <td>USD 3M</td>\n",
       "      <td>2011-12-15 00:00:00</td>\n",
       "      <td>2012-03-15 00:00:00</td>\n",
       "      <td>0.0054625</td>\n",
       "      <td>0.252778</td>\n",
       "    </tr>\n",
       "    <tr>\n",
       "      <th>0</th>\n",
       "      <td>USD SWAP 02Y</td>\n",
       "      <td>2011-12-15 00:00:00</td>\n",
       "      <td>2013-12-15 00:00:00</td>\n",
       "      <td>0.0069</td>\n",
       "      <td>2.030556</td>\n",
       "    </tr>\n",
       "    <tr>\n",
       "      <th>1</th>\n",
       "      <td>USD SWAP 03Y</td>\n",
       "      <td>2011-12-15 00:00:00</td>\n",
       "      <td>2014-12-15 00:00:00</td>\n",
       "      <td>0.00798</td>\n",
       "      <td>3.044444</td>\n",
       "    </tr>\n",
       "    <tr>\n",
       "      <th>2</th>\n",
       "      <td>USD SWAP 04Y</td>\n",
       "      <td>2011-12-15 00:00:00</td>\n",
       "      <td>2015-12-15 00:00:00</td>\n",
       "      <td>0.01008</td>\n",
       "      <td>4.058333</td>\n",
       "    </tr>\n",
       "    <tr>\n",
       "      <th>3</th>\n",
       "      <td>USD SWAP 05Y</td>\n",
       "      <td>2011-12-15 00:00:00</td>\n",
       "      <td>2016-12-15 00:00:00</td>\n",
       "      <td>0.01248</td>\n",
       "      <td>5.075000</td>\n",
       "    </tr>\n",
       "    <tr>\n",
       "      <th>4</th>\n",
       "      <td>USD SWAP 07Y</td>\n",
       "      <td>2011-12-15 00:00:00</td>\n",
       "      <td>2018-12-15 00:00:00</td>\n",
       "      <td>0.0169</td>\n",
       "      <td>7.102778</td>\n",
       "    </tr>\n",
       "    <tr>\n",
       "      <th>5</th>\n",
       "      <td>USD SWAP 10Y</td>\n",
       "      <td>2011-12-15 00:00:00</td>\n",
       "      <td>2021-12-15 00:00:00</td>\n",
       "      <td>0.02106</td>\n",
       "      <td>10.147222</td>\n",
       "    </tr>\n",
       "    <tr>\n",
       "      <th>6</th>\n",
       "      <td>USD SWAP 12Y</td>\n",
       "      <td>2011-12-15 00:00:00</td>\n",
       "      <td>2023-12-15 00:00:00</td>\n",
       "      <td>0.02298</td>\n",
       "      <td>12.175000</td>\n",
       "    </tr>\n",
       "    <tr>\n",
       "      <th>7</th>\n",
       "      <td>USD SWAP 15Y</td>\n",
       "      <td>2011-12-15 00:00:00</td>\n",
       "      <td>2026-12-15 00:00:00</td>\n",
       "      <td>0.02478</td>\n",
       "      <td>15.219444</td>\n",
       "    </tr>\n",
       "    <tr>\n",
       "      <th>8</th>\n",
       "      <td>USD SWAP 20Y</td>\n",
       "      <td>2011-12-15 00:00:00</td>\n",
       "      <td>2031-12-15 00:00:00</td>\n",
       "      <td>0.02599</td>\n",
       "      <td>20.291667</td>\n",
       "    </tr>\n",
       "    <tr>\n",
       "      <th>9</th>\n",
       "      <td>USD SWAP 25Y</td>\n",
       "      <td>2011-12-15 00:00:00</td>\n",
       "      <td>2036-12-15 00:00:00</td>\n",
       "      <td>0.026595</td>\n",
       "      <td>25.366667</td>\n",
       "    </tr>\n",
       "    <tr>\n",
       "      <th>10</th>\n",
       "      <td>USD SWAP 30Y</td>\n",
       "      <td>2011-12-15 00:00:00</td>\n",
       "      <td>2041-12-15 00:00:00</td>\n",
       "      <td>0.02694</td>\n",
       "      <td>30.438889</td>\n",
       "    </tr>\n",
       "  </tbody>\n",
       "</table>\n",
       "</div>"
      ],
      "text/plain": [
       "     Instruments           Start Date             End Date       Rate  \\\n",
       "11        USD 3M  2011-12-15 00:00:00  2012-03-15 00:00:00  0.0054625   \n",
       "0   USD SWAP 02Y  2011-12-15 00:00:00  2013-12-15 00:00:00     0.0069   \n",
       "1   USD SWAP 03Y  2011-12-15 00:00:00  2014-12-15 00:00:00    0.00798   \n",
       "2   USD SWAP 04Y  2011-12-15 00:00:00  2015-12-15 00:00:00    0.01008   \n",
       "3   USD SWAP 05Y  2011-12-15 00:00:00  2016-12-15 00:00:00    0.01248   \n",
       "4   USD SWAP 07Y  2011-12-15 00:00:00  2018-12-15 00:00:00     0.0169   \n",
       "5   USD SWAP 10Y  2011-12-15 00:00:00  2021-12-15 00:00:00    0.02106   \n",
       "6   USD SWAP 12Y  2011-12-15 00:00:00  2023-12-15 00:00:00    0.02298   \n",
       "7   USD SWAP 15Y  2011-12-15 00:00:00  2026-12-15 00:00:00    0.02478   \n",
       "8   USD SWAP 20Y  2011-12-15 00:00:00  2031-12-15 00:00:00    0.02599   \n",
       "9   USD SWAP 25Y  2011-12-15 00:00:00  2036-12-15 00:00:00   0.026595   \n",
       "10  USD SWAP 30Y  2011-12-15 00:00:00  2041-12-15 00:00:00    0.02694   \n",
       "\n",
       "    Year Fraction of Duration  \n",
       "11                   0.252778  \n",
       "0                    2.030556  \n",
       "1                    3.044444  \n",
       "2                    4.058333  \n",
       "3                    5.075000  \n",
       "4                    7.102778  \n",
       "5                   10.147222  \n",
       "6                   12.175000  \n",
       "7                   15.219444  \n",
       "8                   20.291667  \n",
       "9                   25.366667  \n",
       "10                  30.438889  "
      ]
     },
     "execution_count": 17,
     "metadata": {},
     "output_type": "execute_result"
    }
   ],
   "source": [
    "# Add the USD 3M to df_Swap\n",
    "df_Swap=df_Swap.append(df_LIB.iloc[1],ignore_index=True)\n",
    "df_Swap.sort_values(by='Year Fraction of Duration',inplace=True) # Sort the values by year fraction\n",
    "df_Swap"
   ]
  },
  {
   "cell_type": "markdown",
   "metadata": {},
   "source": [
    "Table 4 Combined USD 3M LIBOR with USD Swap data with ascending of year fraction"
   ]
  },
  {
   "cell_type": "markdown",
   "metadata": {},
   "source": [
    "#### Compute the swap rate from scipy.interpolate for the year fraction from 0 to 31 with increment 0.05"
   ]
  },
  {
   "cell_type": "code",
   "execution_count": 18,
   "metadata": {
    "collapsed": true
   },
   "outputs": [],
   "source": [
    "x=df_Swap['Year Fraction of Duration']\n",
    "y=df_Swap['Rate']\n",
    "x_fit=np.linspace(0,31, num=620,endpoint=True) # 31/0.05=620, increment: 0.05\n",
    "tck_swap=splrep(x,y)\n",
    "y_fit=splev(x_fit,tck_swap)"
   ]
  },
  {
   "cell_type": "code",
   "execution_count": 19,
   "metadata": {
    "collapsed": false
   },
   "outputs": [
    {
     "data": {
      "image/png": "[encoded data removed]",
      "text/plain": [
       "<matplotlib.figure.Figure at 0x10f9c87d0>"
      ]
     },
     "metadata": {},
     "output_type": "display_data"
    }
   ],
   "source": [
    "# Plot the actual value and fitted value\n",
    "plt.figure(1, figsize=(12,3))\n",
    "plt.plot(x,y,'r-',x_fit,y_fit,'b-')\n",
    "plt.xlabel('Year Fraction')\n",
    "plt.ylabel('Rate (decimal)')\n",
    "plt.legend(['Actual','Cubic'],loc='best')\n",
    "plt.show()"
   ]
  },
  {
   "cell_type": "markdown",
   "metadata": {},
   "source": [
    "Figure 2 **Swap rate** curves from 0 to 31 years "
   ]
  },
  {
   "cell_type": "markdown",
   "metadata": {},
   "source": [
    "#### 3) Compute the OIS instantaneous rate \n",
    "Since the $B(t,S,T)=L(t,S,T)-F(t,S,T)$, we can compute the OIS instantaneous as following:\n",
    "\n",
    "1. Compute LIBOR forward $L(t,S,T)$ with $S$=3M, $T$=3M,6M,9M,1Y,18M,2Y,3Y,4Y,5Y,7Y,10Y,12Y,15Y,20Y,25Y,30Y. The instantaneous rate fo LIBOR calculated from fitted value above\n",
    "2. Compute OIS forward rate $F(t,S,T)=L(t,S,T)-B(t,S,T)$\n",
    "3. Compute OIS instantaneous rate from equation (12) in lecture 1"
   ]
  },
  {
   "cell_type": "markdown",
   "metadata": {},
   "source": [
    "* Get the LIBOR instantaneous rate "
   ]
  },
  {
   "cell_type": "code",
   "execution_count": 20,
   "metadata": {
    "collapsed": false
   },
   "outputs": [],
   "source": [
    "t_inst=[3/12,6/12,9/12,1,18/12,2,3,4,5,7,10,12,15,20,25,30]\n",
    "rate_inst=splev(t_inst,tck_swap)\n",
    "# Compute the LIBOR forward rate via the defined function LFR\n",
    "forward_LIBOR=np.zeros(len(t_inst))\n",
    "# Convert the year fraction to datetime objects\n",
    "t0=datetime.datetime(2011,12,15)\n",
    "t_date=[t0+datetime.timedelta(i*360) for i in t_inst]  \n",
    "# Year fraction conversion are using 360/year in previous defined function\n",
    "# This conversion makes sure that the day_frac in function LFR is the same as t_inst\n",
    "for i in range(len(t_date)):\n",
    "    forward_LIBOR[i]=LFR(t0,t0,t_date[i],rate_inst[i],'c')\n",
    "\n",
    "\n",
    "# Compute the OIS forward rate\n",
    "forward_OIS=[x-y for x,y in zip(forward_LIBOR,df_BSwap['Basis (bp)'])]\n"
   ]
  },
  {
   "cell_type": "markdown",
   "metadata": {},
   "source": [
    "* From equation (12) in lecture 1 we can get the formula to compute the OIS instantaneous rate as following:\n",
    "$$\n",
    "I(t,S)=\\frac{1}{\\delta}\\,ln(1+\\delta F(t,S,T))\n",
    "$$"
   ]
  },
  {
   "cell_type": "code",
   "execution_count": 21,
   "metadata": {
    "collapsed": true
   },
   "outputs": [],
   "source": [
    "# Implement the above equation\n",
    "def inst_rate(S,T,Frate):\n",
    "    \"\"\"\n",
    "    :param S: settlement date\n",
    "    :param T: maturity\n",
    "    :param Frate: forward rate\n",
    "    \"\"\"\n",
    "    day_frac=date_fraction(S,T)\n",
    "    \n",
    "    return math.log(1+day_frac*Frate)/day_frac\n",
    "    "
   ]
  },
  {
   "cell_type": "code",
   "execution_count": 22,
   "metadata": {
    "collapsed": false
   },
   "outputs": [],
   "source": [
    "# Compute the OIS instantaneous rate\n",
    "inst_OIS=np.zeros(len(forward_OIS))\n",
    "# This is the inverse function of LFR used to compute LIBOR(OIS) forward rate\n",
    "# Therefore, S=t0, T=t_date\n",
    "for i in range(len(inst_OIS)):\n",
    "    inst_OIS[i]=inst_rate(t0,t_date[i],forward_OIS[i])"
   ]
  },
  {
   "cell_type": "markdown",
   "metadata": {
    "collapsed": true
   },
   "source": [
    "#### Compute the OIS instantaneous rate from scipy.interpolate for the year fraction from 0 to 31 with increment 0.05"
   ]
  },
  {
   "cell_type": "code",
   "execution_count": 23,
   "metadata": {
    "collapsed": true
   },
   "outputs": [],
   "source": [
    "# Add the 1day OIS rate\n",
    "x_OIS=[1/360]\n",
    "x_OIS[1:]=t_inst\n",
    "y_OIS=[df_LIB.iloc[0]['Rate']]\n",
    "y_OIS[1:]=inst_OIS\n",
    "x_OIS_fit=np.linspace(0,31, num=620,endpoint=True) # 31/0.05=620, increment: 0.05\n",
    "tck_OIS=splrep(x_OIS,y_OIS)\n",
    "y_OIS_fit=splev(x_OIS_fit,tck_OIS)"
   ]
  },
  {
   "cell_type": "code",
   "execution_count": 24,
   "metadata": {
    "collapsed": false
   },
   "outputs": [
    {
     "data": {
      "image/png": "[encoded data removed]",
      "text/plain": [
       "<matplotlib.figure.Figure at 0x10fa5ab90>"
      ]
     },
     "metadata": {},
     "output_type": "display_data"
    }
   ],
   "source": [
    "# Plot the actual value and fitted value\n",
    "plt.figure(1, figsize=(12,3))\n",
    "plt.plot(x_OIS,y_OIS,'r-',x_OIS_fit,y_OIS_fit,'b-')\n",
    "plt.xlabel('Year Fraction')\n",
    "plt.ylabel('Rate (decimal)')\n",
    "plt.text(-1,0.007,'1day OIS',color='red',fontsize=12)\n",
    "plt.legend(['Actual','Cubic'],loc='best')\n",
    "plt.show()"
   ]
  },
  {
   "cell_type": "markdown",
   "metadata": {},
   "source": [
    "Figure 3 **OIS instantaneous rate** curves from 0 to 31 years (1 day OIS data has been included)"
   ]
  },
  {
   "cell_type": "markdown",
   "metadata": {},
   "source": [
    "### Answer of Q5"
   ]
  },
  {
   "cell_type": "markdown",
   "metadata": {},
   "source": [
    "* Define a function to compute the present value of a swap. The PV of a swap is:\n",
    "$$\n",
    "PV=disc(t,S,T)\\cdot(P^{fix} (t,S,T)-P^{float} (t,S,T))\n",
    "$$"
   ]
  },
  {
   "cell_type": "code",
   "execution_count": 25,
   "metadata": {
    "collapsed": true
   },
   "outputs": [],
   "source": [
    "def PV_swap(coupon_f,frequency_f,f_f,flag_f,\n",
    "            coupon_fl,frequency_fl,f_fl,flag_fl,\n",
    "            t,S,maturity,Notational):\n",
    "    \"\"\"\n",
    "    _f: parameters in fix leg\n",
    "    _fl: parameters in folating leg\n",
    "    :param coupon: in dollars\n",
    "    :param frequency: is an int\n",
    "    :param t: spot date, usually 0\n",
    "    :param S: obeservation date, in datetime object\n",
    "    :param maturity: in datetime object\n",
    "    :param f: interest rate\n",
    "    :param flag: indicator of interest rate is constant or function\n",
    "    :param Notational: notational of the swap\n",
    "    \"\"\"\n",
    "    \n",
    "    # Compute the present value of fix leg\n",
    "    # Compute the annuity\n",
    "    flow_date_fix,flow_value_fix=calculate_flow(coupon_f,frequency_f,S,maturity)\n",
    "    # compute the discount factors\n",
    "    df=[]\n",
    "    df_append=df.append  # avoid .operation to speed up the computation\n",
    "    \n",
    "    for i in range(len(flow_date_fix)):\n",
    "        df_append(dist(t,flow_date_fix[i],f_f,flag_f))\n",
    "    \n",
    "    annuity_t=sum(a*b for a,b in zip(flow_date,df))\n",
    "    \n",
    "    P_fix=coupon_f*annuity_t\n",
    "    \n",
    "    # Compute the payment of floating leg\n",
    "    # Compute the flow date\n",
    "    flow_date_L, flow_cash_L=calculate_flow(coupon_fl,frequency_fl,S,maturity)\n",
    "    # flow_date is delta_j in the equation (17)\n",
    "    # flow_value is future cash flows\n",
    "    # compute the discount factors\n",
    "    df_fl=[]\n",
    "    df_fl_append=df_fl.append  # avoid .operation to speed up the computation\n",
    "    \n",
    "    for i in range(len(flow_date_fl)):\n",
    "        df_fl_append(dist(t,flow_date_fl[i],f_fl,flag_fl))\n",
    "    \n",
    "    # compute the Lj in equation (17)\n",
    "    Lj=[]\n",
    "    Lj_append=Lj.append\n",
    "    \n",
    "    for i in range(len(flow_date_fl)-1):\n",
    "        LJ_append(LFR(0,flow_date_fl[i],flow_date_fl[i+1],f_fl,flag_fl))\n",
    "    \n",
    "    P_float=sum([x*y*z for x,y,z in zip(flow_date_fl,Lj,df_fl)])\n",
    "\n",
    "    return Notational*(P_fix-P_float)\n"
   ]
  }
 ],
 "metadata": {
  "kernelspec": {
   "display_name": "Python 2",
   "language": "python",
   "name": "python2"
  },
  "language_info": {
   "codemirror_mode": {
    "name": "ipython",
    "version": 2
   },
   "file_extension": ".py",
   "mimetype": "text/x-python",
   "name": "python",
   "nbconvert_exporter": "python",
   "pygments_lexer": "ipython2",
   "version": "2.7.13"
  }
 },
 "nbformat": 4,
 "nbformat_minor": 2
}
