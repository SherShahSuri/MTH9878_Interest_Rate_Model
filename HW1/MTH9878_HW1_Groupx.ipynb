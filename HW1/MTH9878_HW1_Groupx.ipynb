{
 "cells": [
  {
   "cell_type": "markdown",
   "metadata": {},
   "source": [
    "## MTH9878 Interest Rate Models HW1\n",
    "* Group X\n",
    "* Author: Pan, Hongchao & Zhang, Chendi\n",
    "* Kernel version: Python 2.7\n",
    "* Packages: \n",
    "* Data: \n",
    "* Notes:"
   ]
  },
  {
   "cell_type": "code",
   "execution_count": 196,
   "metadata": {
    "collapsed": false
   },
   "outputs": [],
   "source": [
    "# load packages and features from version 3.x\n",
    "from __future__ import absolute_import, print_function, division\n",
    "import pandas as pd\n",
    "import numpy as np\n",
    "import math\n",
    "import datetime   # create datetime object\n",
    "import matplotlib.pyplot as plt\n",
    "from scipy.interpolate import interp1d, splrep,splev"
   ]
  },
  {
   "cell_type": "markdown",
   "metadata": {},
   "source": [
    "### Answer of Q1"
   ]
  },
  {
   "cell_type": "code",
   "execution_count": 48,
   "metadata": {
    "collapsed": true
   },
   "outputs": [],
   "source": [
    "# Define a function to calculate the faction of the date differnence\n",
    "def date_fraction(t1,t2):\n",
    "    # Assume input t1 and t2 are calendar dates with datetime objects\n",
    "    # Use the date convention: actual days/360\n",
    "    return ((t2-t1).days)/360   "
   ]
  },
  {
   "cell_type": "code",
   "execution_count": 3,
   "metadata": {
    "collapsed": true
   },
   "outputs": [],
   "source": [
    "# Define a funtion to compute the integration by using simpson's rule\n",
    "# a: left endpoint; b: right endpoint; n: number of partition intervals\n",
    "# f: instantaneous rate function, f(s)\n",
    "def simpson_rule(a,b,f,n):\n",
    "    h= (b-a)/n\n",
    "    result=(f(a) + f(b))/6\n",
    "\n",
    "    for i in range(1, n):\n",
    "        result += f(a + i*h)/3\n",
    "    for i in range(1, n+1):\n",
    "        result += 2*f(a + (i-0.5)*h)/3\n",
    "\n",
    "    return result*h"
   ]
  },
  {
   "cell_type": "code",
   "execution_count": 4,
   "metadata": {
    "collapsed": true
   },
   "outputs": [],
   "source": [
    "def approx_val_tol(f_method,a,b,f,n,tol):\n",
    "    \"\"\"\n",
    "    # f_method: integration method: mid_point/trape/simpson method; simpson's rule here\n",
    "    # tol=5e-7\n",
    "    # n: number of partition intervals\n",
    "    # f: instantaneous rate function, f(s)\n",
    "    # a: left endpoint, t here; b: right endpoint, T here;\n",
    "    \"\"\"\n",
    "    # By using double strategy to converge\n",
    "    result_old=f_method(a,b,f,n)\n",
    "    n=2*n\n",
    "    result_new=f_method(a,b,f,n)\n",
    "\n",
    "    while(abs(result_old-result_new)>tol):\n",
    "        result_old=result_new\n",
    "        n=2*n\n",
    "        result_new=f_method(a,b,f,n)\n",
    "\n",
    "    return result_new\n"
   ]
  },
  {
   "cell_type": "code",
   "execution_count": 5,
   "metadata": {
    "collapsed": true
   },
   "outputs": [],
   "source": [
    "# Define the interest rate function\n",
    "# the constant interest rate\n",
    "def f_const(x):\n",
    "    # example from given spreedsheet\n",
    "    return 0.55/100   \n",
    "\n",
    "# instantaneous rate, not the case in this homework\n",
    "def f_instant(x):\n",
    "    # Arbitrary example\n",
    "    return math.exp(-x^2)"
   ]
  },
  {
   "cell_type": "code",
   "execution_count": 6,
   "metadata": {
    "collapsed": false
   },
   "outputs": [],
   "source": [
    "# Define a function to compute the discount factor\n",
    "def dist(t,T,f,flag):\n",
    "    \"\"\"\n",
    "    # t: starting date\n",
    "    # T: maturity\n",
    "    # f: interest rate\n",
    "    # flag: indicator of f is constant rate or instantaneous rate\n",
    "    \"\"\"\n",
    "    # Assume input t and T are calendar dates with month notation\n",
    "    \n",
    "    # Get the day fraction\n",
    "    day_frac=date_fraction(t,T)\n",
    "    if(flag=='c'):\n",
    "        # constant interest rate\n",
    "        return math.exp(-f*day_frac)\n",
    "    if(flag=='i'):\n",
    "        # instantaneous rate\n",
    "        # starting intervals: 4\n",
    "        # tolerance: 5e-7\n",
    "        # Since t and T are calendar date, convert them to get day fraction period,\n",
    "        # which is equivalent to 0 to day_frac\n",
    "        return math.exp(-approx_val_tol(simpson_rule,0,day_frac,f,4,5e-7))\n",
    "    else:\n",
    "        print(\"The inputs of are not well defined.\")\n",
    "        return -2"
   ]
  },
  {
   "cell_type": "markdown",
   "metadata": {},
   "source": [
    "### Answer of Q2"
   ]
  },
  {
   "cell_type": "code",
   "execution_count": 249,
   "metadata": {
    "collapsed": false
   },
   "outputs": [],
   "source": [
    "# define a function to calculate the LIBOR forward rate\n",
    "# reference formula: equation (12) in lecture 1\n",
    "def LFR(t,S,T,I,flag):\n",
    "    \"\"\"\n",
    "    # t: spot/observation date\n",
    "    # S: settlement date\n",
    "    # T: maturity\n",
    "    # I: instantaneous forward rate\n",
    "    # T-S: underlying tenor\n",
    "    # flag: indicator of I is constant or function\n",
    "    # Assume input t and T are calendar dates with month notation\n",
    "    \"\"\"\n",
    "    \n",
    "    # get the day fraction\n",
    "    day_frac=date_fraction(S,T)\n",
    "   \n",
    "    if(flag=='c'):\n",
    "        # constant interest rate\n",
    "        return (math.exp(I*day_frac)-1)/day_frac  # equation (12) in lecture 1\n",
    "    if(flag=='i'):\n",
    "        # instantaneous rate\n",
    "        # starting intervals: 4\n",
    "        # tolerance: 5e-7\n",
    "        # Since t and T are calendar date, convert them to get day fraction period,\n",
    "        # which is equivalent to 0 to day_frac\n",
    "        return (math.exp(approx_val_tol(simpson_rule,0,day_frac,I,4,5e-7))-1)/day_frac\n",
    "    else:\n",
    "        print(\"The inputs are not well defined.\")\n",
    "        return -2\n",
    "    "
   ]
  },
  {
   "cell_type": "markdown",
   "metadata": {},
   "source": [
    "### Answer of Q3"
   ]
  },
  {
   "cell_type": "code",
   "execution_count": 8,
   "metadata": {
    "collapsed": true
   },
   "outputs": [],
   "source": [
    "# define a function to compute the cash flow date and value\n",
    "def calculate_flow(coupon, frequency, T0,maturity):\n",
    "    \"\"\"\n",
    "    :param coupon: in dollars\n",
    "    :param frequency: is an int\n",
    "    :param T0: obeservation date, in datetime object\n",
    "    :param maturity: in datetime object\n",
    "    :return: intervals scaled by years\n",
    "    \"This functon calculates cash flow dates and values.\"\n",
    "    \"\"\"\n",
    "    \n",
    "    flow_date=range(maturity,T0,int(-12/frequency))\n",
    "    flow_date.reverse()\n",
    "    flow_date=[t/12 for t in flow_date]   # Convert the date\n",
    "\n",
    "    flow_value=[coupon/frequency for i in flow_date[:-1]]+[coupon/frequency]\n",
    "    # flow_date[:-1] remove the last elements in the list\n",
    "    return flow_date, flow_value\n"
   ]
  },
  {
   "cell_type": "code",
   "execution_count": 9,
   "metadata": {
    "collapsed": false
   },
   "outputs": [],
   "source": [
    "# Define a funtion to compute the spot/forward swap rate\n",
    "# Reference: break-even swap rate, equation (19) in lecture note 1\n",
    "def BE_swap_rate(coupon_f,frequency_f,f_f,flag_f,\n",
    "                 coupon_L,frequency_L,f_L,flag_L,\n",
    "                 t,T0,maturity):\n",
    "    \"\"\"\n",
    "    _f: parameters in fix leg\n",
    "    _L: parameters in LIBOR\n",
    "    :param coupon: in dollars\n",
    "    :param frequency: is an int\n",
    "    :param t: spot date, usually 0\n",
    "    :param T0: obeservation date, in datetime object\n",
    "    :param maturity: in datetime object\n",
    "    :param f: interest rate\n",
    "    :param flag: indicator of interest rate is constant or function\n",
    "    \"\"\"\n",
    "    \n",
    "    # Compute the annuity\n",
    "    flow_date_fix,flow_value_fix=calculate_flow(coupon_f,frequency_f,T0,maturity)\n",
    "    # flow_date is alpha_j in the equation (16)\n",
    "    # flow_value is future cash flows\n",
    "    # compute the discount factors\n",
    "    df=[]\n",
    "    df_append=df.append  # avoid .operation to speed up the computation\n",
    "    \n",
    "    for i in range(len(flow_date_fix)):\n",
    "        df_append(dist(t,flow_date_fix[i],f_f,flag_f))\n",
    "    \n",
    "    annuity_t=sum(a*b for a,b in zip(flow_date,df))\n",
    "    \n",
    "    # Compute the payment of floating leg\n",
    "    # Compute the flow date\n",
    "    flow_date_L, flow_cash_L=calculate_flow(coupon_L,frequency_L,T0,maturity)\n",
    "    # flow_date is delta_j in the equation (17)\n",
    "    # flow_value is future cash flows\n",
    "    # compute the discount factors\n",
    "    df_L=[]\n",
    "    df_L_append=df_L.append  # avoid .operation to speed up the computation\n",
    "    \n",
    "    for i in range(len(flow_date_L)):\n",
    "        df_L_append(dist(t,flow_date_L[i],f_L,flag_L))\n",
    "    \n",
    "    # compute the Lj in equation (17)\n",
    "    Lj=[]\n",
    "    Lj_append=Lj.append\n",
    "    \n",
    "    for i in range(len(flow_date_L)-1):\n",
    "        LJ_append(LFR(0,flow_date_L[i],flow_date_L[i+1],f_L,flag_L))\n",
    "    \n",
    "    P_float=sum([x*y*z for x,y,z in zip(flow_date_L,Lj,df_L)])\n",
    "\n",
    "    return P_float/annuity_t   # break-even swap rate\n",
    "    \n",
    "    "
   ]
  },
  {
   "cell_type": "markdown",
   "metadata": {},
   "source": [
    "### Answer of Q4"
   ]
  },
  {
   "cell_type": "code",
   "execution_count": 239,
   "metadata": {
    "collapsed": false
   },
   "outputs": [],
   "source": [
    "# Define a function to read the data from given excel file\n",
    "def get_data():\n",
    "    file_name='DataSheetCurve.xls'\n",
    "    # activate sheet: 2nd sheet\n",
    "    \n",
    "    # LIBOR\n",
    "    df_LIB=pd.read_excel(io=file_name,sheetname=1,parse_cols=\"B:E\",skiprows=1)[:2]\n",
    "    \n",
    "    # ED Futures\n",
    "    df_EDF=pd.read_excel(io=file_name,sheetname=1,parse_cols=\"B:F\",skiprows=5)[:8]\n",
    "    \n",
    "    # Swap Rates\n",
    "    df_Swap=pd.read_excel(io=file_name,sheetname=1,parse_cols=\"B:E\",skiprows=15)[:11]\n",
    "    \n",
    "    # Fed Funds\n",
    "    df_Fed=pd.read_excel(io=file_name,sheetname=1,parse_cols=\"B:E\",skiprows=28)[:1]\n",
    "    \n",
    "    # Basis Swap Rates\n",
    "    df_BSwap=pd.read_excel(io=file_name,sheetname=1,parse_cols=\"B:E\",skiprows=32)[:16]\n",
    "    \n",
    "    # Rename the 1st column name\n",
    "    df_LIB.rename(columns={df_LIB.columns[0]:'Instruments'},inplace=True)\n",
    "    df_EDF.rename(columns={df_EDF.columns[0]:'Instruments'},inplace=True)\n",
    "    df_Swap.rename(columns={df_Swap.columns[0]:'Instruments'},inplace=True)\n",
    "    df_Fed.rename(columns={df_Fed.columns[0]:'Instruments'},inplace=True)\n",
    "    df_BSwap.rename(columns={df_BSwap.columns[0]:'Instruments'},inplace=True)\n",
    "    \n",
    "    # Compute the year fraction of duration (end date- start date)\n",
    "    df_LIB['Year Fraction of Duration']=[date_fraction(x,y) for x,y in zip(df_LIB['Start Date'],df_LIB['End Date'])]\n",
    "    df_Swap['Year Fraction of Duration']=[date_fraction(x,y) for x,y in zip(df_Swap['Start Date'],df_Swap['End Date'])]\n",
    "    df_Fed['Year Fraction of Duration']=[date_fraction(x,y) for x,y in zip(df_Fed['Start Date'],df_Fed['End Date'])]\n",
    "    df_BSwap['Year Fraction of Duration']=[date_fraction(x,y) for x,y in zip(df_BSwap['Start Date'],df_BSwap['End Date'])]\n",
    "    # For Eurodollar futures: start date: 12/15/2011, end date: IMM date\n",
    "    # Same as 3M LIBOR start date\n",
    "    df_EDF['Start Date']=datetime.datetime(2011,12,15,0,0,0,0)\n",
    "    df_EDF['Year Fraction of Duration']=[date_fraction(x,y) for x,y in zip(df_EDF['Start Date'],df_EDF['IMM date'])]\n",
    "    \n",
    "    df_BSwap['Basis (bp)'] = df_BSwap['Basis (bp)']*1e-4  # basis point\n",
    "    \n",
    "    return df_LIB, df_EDF, df_Swap, df_Fed, df_BSwap"
   ]
  },
  {
   "cell_type": "code",
   "execution_count": 240,
   "metadata": {
    "collapsed": false
   },
   "outputs": [],
   "source": [
    "df_LIB, df_EDF, df_Swap, df_Fed, df_BSwap=get_data()"
   ]
  },
  {
   "cell_type": "code",
   "execution_count": 212,
   "metadata": {
    "collapsed": false
   },
   "outputs": [
    {
     "data": {
      "text/html": [
       "<div>\n",
       "<table border=\"1\" class=\"dataframe\">\n",
       "  <thead>\n",
       "    <tr style=\"text-align: right;\">\n",
       "      <th></th>\n",
       "      <th>Instruments</th>\n",
       "      <th>Start Date</th>\n",
       "      <th>End Date</th>\n",
       "      <th>Rate</th>\n",
       "      <th>Year Fraction of Duration</th>\n",
       "    </tr>\n",
       "  </thead>\n",
       "  <tbody>\n",
       "    <tr>\n",
       "      <th>0</th>\n",
       "      <td>USD O/N</td>\n",
       "      <td>2011-12-13 00:00:00</td>\n",
       "      <td>2011-12-14 00:00:00</td>\n",
       "      <td>0.0054588</td>\n",
       "      <td>0.002778</td>\n",
       "    </tr>\n",
       "    <tr>\n",
       "      <th>1</th>\n",
       "      <td>USD 3M</td>\n",
       "      <td>2011-12-15 00:00:00</td>\n",
       "      <td>2012-03-15 00:00:00</td>\n",
       "      <td>0.0054625</td>\n",
       "      <td>0.252778</td>\n",
       "    </tr>\n",
       "  </tbody>\n",
       "</table>\n",
       "</div>"
      ],
      "text/plain": [
       "  Instruments           Start Date             End Date       Rate  \\\n",
       "0     USD O/N  2011-12-13 00:00:00  2011-12-14 00:00:00  0.0054588   \n",
       "1      USD 3M  2011-12-15 00:00:00  2012-03-15 00:00:00  0.0054625   \n",
       "\n",
       "   Year Fraction of Duration  \n",
       "0                   0.002778  \n",
       "1                   0.252778  "
      ]
     },
     "execution_count": 212,
     "metadata": {},
     "output_type": "execute_result"
    }
   ],
   "source": [
    "df_LIB"
   ]
  },
  {
   "cell_type": "code",
   "execution_count": 213,
   "metadata": {
    "collapsed": false
   },
   "outputs": [
    {
     "data": {
      "text/html": [
       "<div>\n",
       "<table border=\"1\" class=\"dataframe\">\n",
       "  <thead>\n",
       "    <tr style=\"text-align: right;\">\n",
       "      <th></th>\n",
       "      <th>Instruments</th>\n",
       "      <th>IMM date</th>\n",
       "      <th>Price</th>\n",
       "      <th>Conv. Adj. (bp)</th>\n",
       "      <th>Rate</th>\n",
       "      <th>Start Date</th>\n",
       "      <th>Year Fraction of Duration</th>\n",
       "    </tr>\n",
       "  </thead>\n",
       "  <tbody>\n",
       "    <tr>\n",
       "      <th>0</th>\n",
       "      <td>EDZ11</td>\n",
       "      <td>2011-12-21 00:00:00</td>\n",
       "      <td>99.4425</td>\n",
       "      <td>0.01</td>\n",
       "      <td>0.005574</td>\n",
       "      <td>2011-12-15</td>\n",
       "      <td>0.016667</td>\n",
       "    </tr>\n",
       "    <tr>\n",
       "      <th>1</th>\n",
       "      <td>EDH12</td>\n",
       "      <td>2012-03-21 00:00:00</td>\n",
       "      <td>99.355</td>\n",
       "      <td>0.11</td>\n",
       "      <td>0.006439</td>\n",
       "      <td>2011-12-15</td>\n",
       "      <td>0.269444</td>\n",
       "    </tr>\n",
       "    <tr>\n",
       "      <th>2</th>\n",
       "      <td>EDM12</td>\n",
       "      <td>2012-06-20 00:00:00</td>\n",
       "      <td>99.31</td>\n",
       "      <td>0.22</td>\n",
       "      <td>0.006878</td>\n",
       "      <td>2011-12-15</td>\n",
       "      <td>0.522222</td>\n",
       "    </tr>\n",
       "    <tr>\n",
       "      <th>3</th>\n",
       "      <td>EDU12</td>\n",
       "      <td>2012-09-19 00:00:00</td>\n",
       "      <td>99.295</td>\n",
       "      <td>0.35</td>\n",
       "      <td>0.007015</td>\n",
       "      <td>2011-12-15</td>\n",
       "      <td>0.775000</td>\n",
       "    </tr>\n",
       "    <tr>\n",
       "      <th>4</th>\n",
       "      <td>EDZ12</td>\n",
       "      <td>2012-12-19 00:00:00</td>\n",
       "      <td>99.29</td>\n",
       "      <td>0.52</td>\n",
       "      <td>0.007048</td>\n",
       "      <td>2011-12-15</td>\n",
       "      <td>1.027778</td>\n",
       "    </tr>\n",
       "    <tr>\n",
       "      <th>5</th>\n",
       "      <td>EDH13</td>\n",
       "      <td>2013-03-20 00:00:00</td>\n",
       "      <td>99.3</td>\n",
       "      <td>0.72</td>\n",
       "      <td>0.006928</td>\n",
       "      <td>2011-12-15</td>\n",
       "      <td>1.280556</td>\n",
       "    </tr>\n",
       "    <tr>\n",
       "      <th>6</th>\n",
       "      <td>EDM13</td>\n",
       "      <td>2013-06-19 00:00:00</td>\n",
       "      <td>99.29</td>\n",
       "      <td>0.94</td>\n",
       "      <td>0.007006</td>\n",
       "      <td>2011-12-15</td>\n",
       "      <td>1.533333</td>\n",
       "    </tr>\n",
       "    <tr>\n",
       "      <th>7</th>\n",
       "      <td>EDU13</td>\n",
       "      <td>2013-09-18 00:00:00</td>\n",
       "      <td>99.26</td>\n",
       "      <td>1.21</td>\n",
       "      <td>0.007279</td>\n",
       "      <td>2011-12-15</td>\n",
       "      <td>1.786111</td>\n",
       "    </tr>\n",
       "  </tbody>\n",
       "</table>\n",
       "</div>"
      ],
      "text/plain": [
       "  Instruments             IMM date    Price Conv. Adj. (bp)      Rate  \\\n",
       "0       EDZ11  2011-12-21 00:00:00  99.4425            0.01  0.005574   \n",
       "1       EDH12  2012-03-21 00:00:00   99.355            0.11  0.006439   \n",
       "2       EDM12  2012-06-20 00:00:00    99.31            0.22  0.006878   \n",
       "3       EDU12  2012-09-19 00:00:00   99.295            0.35  0.007015   \n",
       "4       EDZ12  2012-12-19 00:00:00    99.29            0.52  0.007048   \n",
       "5       EDH13  2013-03-20 00:00:00     99.3            0.72  0.006928   \n",
       "6       EDM13  2013-06-19 00:00:00    99.29            0.94  0.007006   \n",
       "7       EDU13  2013-09-18 00:00:00    99.26            1.21  0.007279   \n",
       "\n",
       "  Start Date  Year Fraction of Duration  \n",
       "0 2011-12-15                   0.016667  \n",
       "1 2011-12-15                   0.269444  \n",
       "2 2011-12-15                   0.522222  \n",
       "3 2011-12-15                   0.775000  \n",
       "4 2011-12-15                   1.027778  \n",
       "5 2011-12-15                   1.280556  \n",
       "6 2011-12-15                   1.533333  \n",
       "7 2011-12-15                   1.786111  "
      ]
     },
     "execution_count": 213,
     "metadata": {},
     "output_type": "execute_result"
    }
   ],
   "source": [
    "df_EDF"
   ]
  },
  {
   "cell_type": "code",
   "execution_count": 214,
   "metadata": {
    "collapsed": false
   },
   "outputs": [
    {
     "data": {
      "text/html": [
       "<div>\n",
       "<table border=\"1\" class=\"dataframe\">\n",
       "  <thead>\n",
       "    <tr style=\"text-align: right;\">\n",
       "      <th></th>\n",
       "      <th>Instruments</th>\n",
       "      <th>Start Date</th>\n",
       "      <th>End Date</th>\n",
       "      <th>Rate</th>\n",
       "      <th>Year Fraction of Duration</th>\n",
       "    </tr>\n",
       "  </thead>\n",
       "  <tbody>\n",
       "    <tr>\n",
       "      <th>0</th>\n",
       "      <td>EDZ11</td>\n",
       "      <td>2011-12-15</td>\n",
       "      <td>2011-12-21 00:00:00</td>\n",
       "      <td>0.005574</td>\n",
       "      <td>0.016667</td>\n",
       "    </tr>\n",
       "    <tr>\n",
       "      <th>8</th>\n",
       "      <td>USD 3M</td>\n",
       "      <td>2011-12-15</td>\n",
       "      <td>2012-03-15 00:00:00</td>\n",
       "      <td>0.005463</td>\n",
       "      <td>0.252778</td>\n",
       "    </tr>\n",
       "    <tr>\n",
       "      <th>1</th>\n",
       "      <td>EDH12</td>\n",
       "      <td>2011-12-15</td>\n",
       "      <td>2012-03-21 00:00:00</td>\n",
       "      <td>0.006439</td>\n",
       "      <td>0.269444</td>\n",
       "    </tr>\n",
       "    <tr>\n",
       "      <th>2</th>\n",
       "      <td>EDM12</td>\n",
       "      <td>2011-12-15</td>\n",
       "      <td>2012-06-20 00:00:00</td>\n",
       "      <td>0.006878</td>\n",
       "      <td>0.522222</td>\n",
       "    </tr>\n",
       "    <tr>\n",
       "      <th>3</th>\n",
       "      <td>EDU12</td>\n",
       "      <td>2011-12-15</td>\n",
       "      <td>2012-09-19 00:00:00</td>\n",
       "      <td>0.007015</td>\n",
       "      <td>0.775000</td>\n",
       "    </tr>\n",
       "    <tr>\n",
       "      <th>4</th>\n",
       "      <td>EDZ12</td>\n",
       "      <td>2011-12-15</td>\n",
       "      <td>2012-12-19 00:00:00</td>\n",
       "      <td>0.007048</td>\n",
       "      <td>1.027778</td>\n",
       "    </tr>\n",
       "    <tr>\n",
       "      <th>5</th>\n",
       "      <td>EDH13</td>\n",
       "      <td>2011-12-15</td>\n",
       "      <td>2013-03-20 00:00:00</td>\n",
       "      <td>0.006928</td>\n",
       "      <td>1.280556</td>\n",
       "    </tr>\n",
       "    <tr>\n",
       "      <th>6</th>\n",
       "      <td>EDM13</td>\n",
       "      <td>2011-12-15</td>\n",
       "      <td>2013-06-19 00:00:00</td>\n",
       "      <td>0.007006</td>\n",
       "      <td>1.533333</td>\n",
       "    </tr>\n",
       "    <tr>\n",
       "      <th>7</th>\n",
       "      <td>EDU13</td>\n",
       "      <td>2011-12-15</td>\n",
       "      <td>2013-09-18 00:00:00</td>\n",
       "      <td>0.007279</td>\n",
       "      <td>1.786111</td>\n",
       "    </tr>\n",
       "  </tbody>\n",
       "</table>\n",
       "</div>"
      ],
      "text/plain": [
       "  Instruments Start Date             End Date      Rate  \\\n",
       "0       EDZ11 2011-12-15  2011-12-21 00:00:00  0.005574   \n",
       "8      USD 3M 2011-12-15  2012-03-15 00:00:00  0.005463   \n",
       "1       EDH12 2011-12-15  2012-03-21 00:00:00  0.006439   \n",
       "2       EDM12 2011-12-15  2012-06-20 00:00:00  0.006878   \n",
       "3       EDU12 2011-12-15  2012-09-19 00:00:00  0.007015   \n",
       "4       EDZ12 2011-12-15  2012-12-19 00:00:00  0.007048   \n",
       "5       EDH13 2011-12-15  2013-03-20 00:00:00  0.006928   \n",
       "6       EDM13 2011-12-15  2013-06-19 00:00:00  0.007006   \n",
       "7       EDU13 2011-12-15  2013-09-18 00:00:00  0.007279   \n",
       "\n",
       "   Year Fraction of Duration  \n",
       "0                   0.016667  \n",
       "8                   0.252778  \n",
       "1                   0.269444  \n",
       "2                   0.522222  \n",
       "3                   0.775000  \n",
       "4                   1.027778  \n",
       "5                   1.280556  \n",
       "6                   1.533333  \n",
       "7                   1.786111  "
      ]
     },
     "execution_count": 214,
     "metadata": {},
     "output_type": "execute_result"
    }
   ],
   "source": [
    "\"\"\"\n",
    "Eurodollar future also called LIBOR future, thereby using df_EDF and 3M LIBOR in df_LIB to\n",
    "build the instantaneous LIBOR curve\n",
    "\"\"\"\n",
    "# Combine the date of 3M LIBOR and Eurodollar futures\n",
    "df_LIBOR=df_EDF[['Instruments','Start Date','IMM date','Rate','Year Fraction of Duration']]\n",
    "df_LIBOR.rename(columns={'IMM date':'End Date'},inplace=True) # change the name of IMM date to End date\n",
    "df_LIBOR=df_LIBOR.append(df_LIB.iloc[1],ignore_index=True)  # Add the 3M LIBOR to the Eurodollar futures\n",
    "df_LIBOR.sort_values(by='Year Fraction of Duration',inplace=True) # Sort the values by year fraction\n",
    "df_LIBOR"
   ]
  },
  {
   "cell_type": "markdown",
   "metadata": {},
   "source": [
    "#### Define a function to compute the instantaneous LIBOR rate from the equation (12) in lecture 1\n",
    "\n",
    "From the equation (12) in letcure 1, we have:\n",
    "$$\n",
    "\\text{Equation } (J1)\\\\\n",
    "I(t,s)=\\frac{1}{\\delta} ln(1+\\delta L)\n",
    "$$\n"
   ]
  },
  {
   "cell_type": "markdown",
   "metadata": {},
   "source": [
    "Implementing the equation J1 avobe as following"
   ]
  },
  {
   "cell_type": "code",
   "execution_count": 254,
   "metadata": {
    "collapsed": true
   },
   "outputs": [],
   "source": [
    "def inst_LIBOR(t,S,T,L):\n",
    "    \"\"\"\n",
    "    :param t: sopt time\n",
    "    :param S: settlement time\n",
    "    :param T: maturity\n",
    "    :param L: LIBOR forward rate\n",
    "    \"\"\"\n",
    "    \n",
    "    day_frac=date_fraction(S,T)\n",
    "    # Constant LIBOR Forward rate\n",
    "    return math.log(1+day_frac)/day_frac"
   ]
  },
  {
   "cell_type": "code",
   "execution_count": 255,
   "metadata": {
    "collapsed": false
   },
   "outputs": [],
   "source": [
    "# Compute the LIBOR forward rates with year fraction from 0.05 to 2 with incresements 0.05\n",
    "t_LIBOR=[datetime.datetime(2011,12,15)+datetime.timedelta(i) for i in range(18,756,18)]\n",
    "LIBOR_spline=[]\n",
    "LIBOR_spline2=[]\n",
    "append=LIBOR_spline.append\n",
    "append2=LIBOR_spline2.append\n",
    "t0=datetime.datetime(2011,12,15)\n",
    "for i in range(len(t_LIBOR)):\n",
    "    for j in range(len(df_LIBOR.index)-1):\n",
    "        if(df_LIBOR.iloc[j]['End Date']<=t_LIBOR[i]<df_LIBOR.iloc[j+1]['End Date']):\n",
    "            L=df_LIBOR.iloc[j]['Rate']\n",
    "            append(LFR(t0,df_LIBOR.iloc[j]['End Date'],t_LIBOR[i],L,'c'))\n",
    "            append2(inst_LIBOR(t0,df_LIBOR.iloc[j]['End Date'],t_LIBOR[i],L))\n",
    "            \n",
    "            # The rate is constant\n"
   ]
  },
  {
   "cell_type": "code",
   "execution_count": 257,
   "metadata": {
    "collapsed": false
   },
   "outputs": [
    {
     "data": {
      "text/plain": [
       "[0.005574517856674621,\n",
       " 0.005575294761965388,\n",
       " 0.005576071811624339,\n",
       " 0.0055768490056836,\n",
       " 0.005577626344170599,\n",
       " 0.006439633469224856,\n",
       " 0.006440670234477313,\n",
       " 0.006441707222284573,\n",
       " 0.006442744432704855,\n",
       " 0.006443781865791139,\n",
       " 0.006878657081900386,\n",
       " 0.006879840040255087,\n",
       " 0.006881023269863169,\n",
       " 0.006882206770797705,\n",
       " 0.006883390543129023,\n",
       " 0.0070156151637768005,\n",
       " 0.007016845707115138,\n",
       " 0.007018076538242823,\n",
       " 0.007019307657237002,\n",
       " 0.0070205390641694026,\n",
       " 0.007048551965523897,\n",
       " 0.007049794098711743,\n",
       " 0.007051036523758502,\n",
       " 0.007052279240748811,\n",
       " 0.007053522249758082,\n",
       " 0.006928466660245698,\n",
       " 0.006929666836189696,\n",
       " 0.006930867289338154,\n",
       " 0.00693206801976487,\n",
       " 0.006933269027538103,\n",
       " 0.0070064090495502995,\n",
       " 0.0070076363892901394,\n",
       " 0.00700886401569686,\n",
       " 0.007010091928847828,\n",
       " 0.007011320128818682]"
      ]
     },
     "execution_count": 257,
     "metadata": {},
     "output_type": "execute_result"
    }
   ],
   "source": [
    "LIBOR_spline"
   ]
  },
  {
   "cell_type": "code",
   "execution_count": 197,
   "metadata": {
    "collapsed": false
   },
   "outputs": [],
   "source": [
    "# Get the curve of instantaneous LIBOR rates\n",
    "\"\"\"\n",
    "knot points: column 'Year Fraction of Duration'\n",
    "Actual value: column 'Rate'\n",
    "\"\"\"\n",
    "x=df_LIBOR['Year Fraction of Duration']\n",
    "#x=np.linspace(0,2,num=8,endpoint=True)\n",
    "y=df_LIBOR['Rate']\n",
    "fitted_LIBOR_Linear=interp1d(x,y)\n",
    "tck=splrep(x, y, k=3)\n",
    "fitted_LIBOR=splev(x,tck)"
   ]
  },
  {
   "cell_type": "code",
   "execution_count": 198,
   "metadata": {
    "collapsed": false
   },
   "outputs": [
    {
     "data": {
      "text/plain": [
       "array([ 0.005574,  0.006439,  0.006878,  0.007015,  0.007048,  0.006928,\n",
       "        0.007006,  0.007279])"
      ]
     },
     "execution_count": 198,
     "metadata": {},
     "output_type": "execute_result"
    }
   ],
   "source": [
    "fitted_LIBOR"
   ]
  },
  {
   "cell_type": "code",
   "execution_count": 209,
   "metadata": {
    "collapsed": false
   },
   "outputs": [
    {
     "data": {
      "image/png": "[encoded data removed]",
      "text/plain": [
       "<matplotlib.figure.Figure at 0x116a49cd0>"
      ]
     },
     "metadata": {},
     "output_type": "display_data"
    }
   ],
   "source": [
    "plt.figure(1, figsize=(12,2))\n",
    "plt.plot(x,y,'o')\n",
    "plt.plot(x,fitted_LIBOR,'--')\n",
    "plt.legend(['Actual','Cubic'],loc='best')\n",
    "plt.show()"
   ]
  },
  {
   "cell_type": "code",
   "execution_count": 88,
   "metadata": {
    "collapsed": false
   },
   "outputs": [],
   "source": [
    "# Define the knot points with year notation\n",
    "knots_year  = [-3.0, -2.0, -1.0, 0.0, 1.0, 2.0, 3.0, 5.0, 7.0, 10.0, 15.0, \n",
    "             20.0, 25.0, 31.0, 32.0, 33.0, 34.0, 35.0]\n"
   ]
  },
  {
   "cell_type": "code",
   "execution_count": null,
   "metadata": {
    "collapsed": true
   },
   "outputs": [],
   "source": []
  }
 ],
 "metadata": {
  "kernelspec": {
   "display_name": "Python 2",
   "language": "python",
   "name": "python2"
  },
  "language_info": {
   "codemirror_mode": {
    "name": "ipython",
    "version": 2
   },
   "file_extension": ".py",
   "mimetype": "text/x-python",
   "name": "python",
   "nbconvert_exporter": "python",
   "pygments_lexer": "ipython2",
   "version": "2.7.13"
  }
 },
 "nbformat": 4,
 "nbformat_minor": 2
}
