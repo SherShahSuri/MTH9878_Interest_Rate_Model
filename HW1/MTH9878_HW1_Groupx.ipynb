{
 "cells": [
  {
   "cell_type": "markdown",
   "metadata": {},
   "source": [
    "## MTH9878 Interest Rate Models HW1\n",
    "* Group X\n",
    "* Author: Pan, Hongchao & Zhang, Chendi\n",
    "* Kernel version: Python 2.7\n",
    "* Packages: \n",
    "* Data: \n",
    "* Notes:"
   ]
  },
  {
   "cell_type": "code",
   "execution_count": 1,
   "metadata": {
    "collapsed": false
   },
   "outputs": [],
   "source": [
    "# load packages and features from version 3.x\n",
    "from __future__ import absolute_import, print_function, division\n",
    "import pandas as pd\n",
    "import numpy as np\n",
    "import math"
   ]
  },
  {
   "cell_type": "markdown",
   "metadata": {},
   "source": [
    "### Answer of Q1"
   ]
  },
  {
   "cell_type": "code",
   "execution_count": 2,
   "metadata": {
    "collapsed": true
   },
   "outputs": [],
   "source": [
    "# Define a function to calculate the faction of the date differnence\n",
    "def date_fraction(t1,t2):\n",
    "    # Assume input t1 and t2 are calendar dates with month notation\n",
    "    # Use the date convention: actual/12\n",
    "    return (t2-t1)/12  "
   ]
  },
  {
   "cell_type": "code",
   "execution_count": 3,
   "metadata": {
    "collapsed": true
   },
   "outputs": [],
   "source": [
    "# Define a funtion to compute the integration by using simpson's rule\n",
    "# a: left endpoint; b: right endpoint; n: number of partition intervals\n",
    "# f: instantaneous rate function, f(s)\n",
    "def simpson_rule(a,b,f,n):\n",
    "    h= (b-a)/n\n",
    "    result=(f(a) + f(b))/6\n",
    "\n",
    "    for i in range(1, n):\n",
    "        result += f(a + i*h)/3\n",
    "    for i in range(1, n+1):\n",
    "        result += 2*f(a + (i-0.5)*h)/3\n",
    "\n",
    "    return result*h"
   ]
  },
  {
   "cell_type": "code",
   "execution_count": 4,
   "metadata": {
    "collapsed": true
   },
   "outputs": [],
   "source": [
    "def approx_val_tol(f_method,a,b,f,n,tol):\n",
    "    \"\"\"\n",
    "    # f_method: integration method: mid_point/trape/simpson method; simpson's rule here\n",
    "    # tol=5e-7\n",
    "    # n: number of partition intervals\n",
    "    # f: instantaneous rate function, f(s)\n",
    "    # a: left endpoint, t here; b: right endpoint, T here;\n",
    "    \"\"\"\n",
    "    \n",
    "    result_old=f_method(a,b,f,n)\n",
    "    n=2*n\n",
    "    result_new=f_method(a,b,f,n)\n",
    "\n",
    "    while(abs(result_old-result_new)>tol):\n",
    "        result_old=result_new\n",
    "        n=2*n\n",
    "        result_new=f_method(a,b,f,n)\n",
    "\n",
    "    return result_new\n"
   ]
  },
  {
   "cell_type": "code",
   "execution_count": 5,
   "metadata": {
    "collapsed": true
   },
   "outputs": [],
   "source": [
    "# Define the interest rate function\n",
    "# the constant interest rate\n",
    "def f_const(x):\n",
    "    # example from given spreedsheet\n",
    "    return 0.55/100   \n",
    "\n",
    "# instantaneous rate, not the case in this homework\n",
    "def f_instant(x):\n",
    "    # Arbitrary example\n",
    "    return math.exp(-x^2)"
   ]
  },
  {
   "cell_type": "code",
   "execution_count": 6,
   "metadata": {
    "collapsed": false
   },
   "outputs": [],
   "source": [
    "# Define a function to compute the discount factor\n",
    "def dist(t,T,f,flag):\n",
    "    \"\"\"\n",
    "    # t: starting date\n",
    "    # T: maturity\n",
    "    # f: interest rate\n",
    "    # flag: indicator of f is constant rate or instantaneous rate\n",
    "    \"\"\"\n",
    "    # Assume input t and T are calendar dates with month notation\n",
    "    \n",
    "    # Get the day fraction\n",
    "    day_frac=date_fraction(t,T)\n",
    "    if(flag=='c'):\n",
    "        # constant interest rate\n",
    "        return math.exp(-f*day_frac)\n",
    "    if(flag=='i'):\n",
    "        # instantaneous rate\n",
    "        # starting intervals: 4\n",
    "        # tolerance: 5e-7\n",
    "        # Since t and T are calendar date, convert them to get day fraction period,\n",
    "        # which is equivalent to 0 to day_frac\n",
    "        return math.exp(-approx_val_tol(simpson_rule,0,day_frac,f,4,5e-7))\n",
    "    else:\n",
    "        print(\"The inputs of are not well defined.\")\n",
    "        return -2"
   ]
  },
  {
   "cell_type": "markdown",
   "metadata": {},
   "source": [
    "### Answer of Q2"
   ]
  },
  {
   "cell_type": "code",
   "execution_count": 7,
   "metadata": {
    "collapsed": false
   },
   "outputs": [],
   "source": [
    "# define a function to calculate the LIBOR forward rate\n",
    "# reference formula: equation (12) in lecture 1\n",
    "def LFR(t,S,T,I,flag):\n",
    "    \"\"\"\n",
    "    # t: spot/observation date\n",
    "    # S: settlement date\n",
    "    # T: maturity\n",
    "    # I: instantaneous forward rate\n",
    "    # T-S: underlying tenor\n",
    "    # flag: indicator of I is constant or function\n",
    "    # Assume input t and T are calendar dates with month notation\n",
    "    \"\"\"\n",
    "    \n",
    "    # get the day fraction\n",
    "    day_frac=date_fraction(S,T)\n",
    "   \n",
    "    if(flag=='c'):\n",
    "        # constant interest rate\n",
    "        return (math.exp(I*day_frac)-1)/day_frac  # equation (12) in lecture 1\n",
    "    if(flag=='i'):\n",
    "        # instantaneous rate\n",
    "        # starting intervals: 4\n",
    "        # tolerance: 5e-7\n",
    "        # Since t and T are calendar date, convert them to get day fraction period,\n",
    "        # which is equivalent to 0 to day_frac\n",
    "        return (math.exp(approx_val_tol(simpson_rule,0,day_frac,I,4,5e-7))-1)/day_frac\n",
    "    else:\n",
    "        print(\"The inputs are not well defined.\")\n",
    "        return -2\n",
    "    "
   ]
  },
  {
   "cell_type": "markdown",
   "metadata": {},
   "source": [
    "### Answer of Q3"
   ]
  },
  {
   "cell_type": "code",
   "execution_count": 10,
   "metadata": {
    "collapsed": true
   },
   "outputs": [],
   "source": [
    "# define a function to compute the cash flow date and value\n",
    "def calculate_flow(coupon, frequency, T0,maturity):\n",
    "    \"\"\"\n",
    "    :param coupon: in dollars\n",
    "    :param frequency: is an int\n",
    "    :param T0: obeservation date, in months\n",
    "    :param maturity: in months\n",
    "    :return: intervals scaled by years\n",
    "    \"This functon calculates cash flow dates and values.\"\n",
    "    \"\"\"\n",
    "    \n",
    "    flow_date=range(maturity,T0,int(-12/frequency))\n",
    "    flow_date.reverse()\n",
    "    flow_date=[t/12 for t in flow_date]   # Convert the date\n",
    "\n",
    "    flow_value=[coupon/frequency for i in flow_date[:-1]]+[coupon/frequency]\n",
    "    # flow_date[:-1] remove the last elements in the list\n",
    "    return flow_date, flow_value\n"
   ]
  },
  {
   "cell_type": "code",
   "execution_count": 16,
   "metadata": {
    "collapsed": false
   },
   "outputs": [],
   "source": [
    "# Define a funtion to compute the spot/forward swap rate\n",
    "# Reference: break-even swap rate, equation (19) in lecture note 1\n",
    "def BE_swap_rate(coupon_f,frequency_f,f_f,flag_f,\n",
    "                 coupon_L,frequency_L,f_L,flag_L,\n",
    "                 t,T0,maturity):\n",
    "    \"\"\"\n",
    "    _f: parameters in fix leg\n",
    "    _L: parameters in LIBOR\n",
    "    :param coupon: in dollars\n",
    "    :param frequency: is an int\n",
    "    :param t: spot date, in months, usually 0\n",
    "    :param T0: obeservation date, in months\n",
    "    :param maturity: in months\n",
    "    :param f: interest rate\n",
    "    :param flag: indicator of interest rate is constant or function\n",
    "    \"\"\"\n",
    "    \n",
    "    # Compute the annuity\n",
    "    flow_date_fix,flow_value_fix=calculate_flow(coupon_f,frequency_f,T0,maturity)\n",
    "    # flow_date is alpha_j in the equation (16)\n",
    "    # flow_value is future cash flows\n",
    "    # compute the discount factors\n",
    "    df=[]\n",
    "    df_append=df.append  # avoid .operation to speed up the computation\n",
    "    \n",
    "    for i in range(len(flow_date_fix)):\n",
    "        df_append(dist(t,flow_date_fix[i],f_f,flag_f))\n",
    "    \n",
    "    annuity_t=sum(a*b for a,b in zip(flow_date,df))\n",
    "    \n",
    "    # Compute the payment of floating leg\n",
    "    # Compute the flow date\n",
    "    flow_date_L, flow_cash_L=calculate_flow(coupon_L,frequency_L,T0,maturity)\n",
    "    # flow_date is delta_j in the equation (17)\n",
    "    # flow_value is future cash flows\n",
    "    # compute the discount factors\n",
    "    df_L=[]\n",
    "    df_L_append=df_L.append  # avoid .operation to speed up the computation\n",
    "    \n",
    "    for i in range(len(flow_date_L)):\n",
    "        df_L_append(dist(t,flow_date_L[i],f_L,flag_L))\n",
    "    \n",
    "    # compute the Lj in equation (17)\n",
    "    Lj=[]\n",
    "    Lj_append=Lj.append\n",
    "    \n",
    "    for i in range(len(flow_date_L)-1):\n",
    "        LJ_append(LFR(0,flow_date_L[i],flow_date_L[i+1],f_L,flag_L))\n",
    "    \n",
    "    P_float=sum([x*y*z for x,y,z in zip(flow_date_L,Lj,df_L)])\n",
    "\n",
    "    return P_float/annuity_t   # break-even swap rate\n",
    "    \n",
    "    "
   ]
  },
  {
   "cell_type": "markdown",
   "metadata": {},
   "source": [
    "### Answer of Q4"
   ]
  },
  {
   "cell_type": "code",
   "execution_count": null,
   "metadata": {
    "collapsed": true
   },
   "outputs": [],
   "source": []
  }
 ],
 "metadata": {
  "kernelspec": {
   "display_name": "Python 2",
   "language": "python",
   "name": "python2"
  },
  "language_info": {
   "codemirror_mode": {
    "name": "ipython",
    "version": 2
   },
   "file_extension": ".py",
   "mimetype": "text/x-python",
   "name": "python",
   "nbconvert_exporter": "python",
   "pygments_lexer": "ipython2",
   "version": "2.7.13"
  }
 },
 "nbformat": 4,
 "nbformat_minor": 2
}
