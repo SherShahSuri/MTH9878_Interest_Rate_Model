{
 "cells": [
  {
   "cell_type": "markdown",
   "metadata": {},
   "source": [
    "## MTH9878 Interest Rate Models HW1\n",
    "* Group X\n",
    "* Author: Pan, Hongchao & Zhang, Chendi\n",
    "* Kernel version: Python 2.7\n",
    "* Packages: \n",
    "* Data: \n",
    "* Notes:"
   ]
  },
  {
   "cell_type": "code",
   "execution_count": 1,
   "metadata": {
    "collapsed": false
   },
   "outputs": [],
   "source": [
    "# load packages and features from version 3.x\n",
    "from __future__ import absolute_import, print_function, division\n",
    "import pandas as pd\n",
    "import numpy as np\n",
    "import math"
   ]
  },
  {
   "cell_type": "markdown",
   "metadata": {},
   "source": [
    "### Answer of Q1"
   ]
  },
  {
   "cell_type": "code",
   "execution_count": 2,
   "metadata": {
    "collapsed": true
   },
   "outputs": [],
   "source": [
    "# Define a function to calculate the faction of the date differnence\n",
    "def date_fraction(t1,t2):\n",
    "    # Assume input t1 and t2 are calendar dates\n",
    "    days=(t2-t1).days\n",
    "    # Use the date convention: actual/360\n",
    "    return days/360  "
   ]
  },
  {
   "cell_type": "code",
   "execution_count": 3,
   "metadata": {
    "collapsed": true
   },
   "outputs": [],
   "source": [
    "# Define a funtion to compute the integration by using simpson's rule\n",
    "# a: left endpoint; b: right endpoint; n: number of partition intervals\n",
    "# f: instantaneous rate function, f(s)\n",
    "def simpson_rule(a,b,f,n):\n",
    "    h= (b-a)/n\n",
    "    result=(f(a) + f(b))/6\n",
    "\n",
    "    for i in range(1, n):\n",
    "        result += f(a + i*h)/3\n",
    "    for i in range(1, n+1):\n",
    "        result += 2*f(a + (i-0.5)*h)/3\n",
    "\n",
    "    return result*h"
   ]
  },
  {
   "cell_type": "code",
   "execution_count": 4,
   "metadata": {
    "collapsed": true
   },
   "outputs": [],
   "source": [
    "def approx_val_tol(f_method,a,b,f,n,tol):\n",
    "    # f_method: integration method: mid_point/trape/simpson method; simpson's rule here\n",
    "    # tol=5e-7\n",
    "    # n: number of partition intervals\n",
    "    # f: instantaneous rate function, f(s)\n",
    "    # a: left endpoint, t here; b: right endpoint, T here;\n",
    "    result_old=f_method(a,b,f,n)\n",
    "    n=2*n\n",
    "    result_new=f_method(a,b,f,n)\n",
    "\n",
    "    while(abs(result_old-result_new)>tol):\n",
    "        result_old=result_new\n",
    "        n=2*n\n",
    "        result_new=f_method(a,b,f,n)\n",
    "\n",
    "    return result_new\n"
   ]
  },
  {
   "cell_type": "code",
   "execution_count": 5,
   "metadata": {
    "collapsed": true
   },
   "outputs": [],
   "source": [
    "# Define the interest rate function\n",
    "# the constant interest rate\n",
    "def f_const(x):\n",
    "    return 0.55/100   \n",
    "\n",
    "# instantaneous rate, not the case in this homework\n",
    "def f_instant(x):\n",
    "    return math.exp(-x^2)"
   ]
  },
  {
   "cell_type": "code",
   "execution_count": 6,
   "metadata": {
    "collapsed": false
   },
   "outputs": [],
   "source": [
    "# Define a function to compute the discount factor\n",
    "def dist(t,T,f,flag):\n",
    "    # t: starting date\n",
    "    # T: maturity\n",
    "    # f: interest rate\n",
    "    # flag: indicator of f is constant rate or instantaneous rate\n",
    "    \n",
    "    # Assume input t and T are calendar dates\n",
    "    \n",
    "    # Get the day fraction\n",
    "    day_frac=date_fraction(t,T)\n",
    "    if(flag=='c'):\n",
    "        # constant interest rate\n",
    "        return math.exp(-f*day_frac)\n",
    "    if(flag=='i'):\n",
    "        # instantaneous rate\n",
    "        # starting intervals: 4\n",
    "        # tolerance: 5e-7\n",
    "        # Since t and T are calendar date, convert them to get day fraction period,\n",
    "        # which is equivalent to 0 to day_frac\n",
    "        return math.exp(-approx_val_tol(simpson_rule,0,day_frac,f,4,5e-7))\n",
    "    else:\n",
    "        print(\"The inputs of are not well defined.\")\n",
    "        return -2"
   ]
  },
  {
   "cell_type": "markdown",
   "metadata": {},
   "source": [
    "### Answer of Q2"
   ]
  },
  {
   "cell_type": "code",
   "execution_count": 9,
   "metadata": {
    "collapsed": false
   },
   "outputs": [],
   "source": [
    "# define a function to calculate the LIBOR forward rate\n",
    "# reference formula: equation (12) in lecture 1\n",
    "def LFR(S,T,I,flag):\n",
    "    # S: settlement date\n",
    "    # T: maturity\n",
    "    # I: instantaneous forward rate\n",
    "    # flag: indicator of I is constant or function\n",
    "    \n",
    "    # get the day fraction\n",
    "    day_frac=date_fraction(t,T)\n",
    "   \n",
    "    if(flag=='c'):\n",
    "        # constant interest rate\n",
    "        return (math.exp(I*day_frac)-1)/day_frac  # equation (12) in lecture 1\n",
    "    if(flag=='i'):\n",
    "        # instantaneous rate\n",
    "        # starting intervals: 4\n",
    "        # tolerance: 5e-7\n",
    "        # Since t and T are calendar date, convert them to get day fraction period,\n",
    "        # which is equivalent to 0 to day_frac\n",
    "        return (math.exp(approx_val_tol(simpson_rule,0,day_frac,I,4,5e-7))-1)/day_frac\n",
    "    else:\n",
    "        print(\"The inputs are not well defined.\")\n",
    "        return -2\n",
    "    "
   ]
  },
  {
   "cell_type": "code",
   "execution_count": null,
   "metadata": {
    "collapsed": true
   },
   "outputs": [],
   "source": []
  }
 ],
 "metadata": {
  "kernelspec": {
   "display_name": "Python 2",
   "language": "python",
   "name": "python2"
  },
  "language_info": {
   "codemirror_mode": {
    "name": "ipython",
    "version": 2
   },
   "file_extension": ".py",
   "mimetype": "text/x-python",
   "name": "python",
   "nbconvert_exporter": "python",
   "pygments_lexer": "ipython2",
   "version": "2.7.13"
  }
 },
 "nbformat": 4,
 "nbformat_minor": 2
}
