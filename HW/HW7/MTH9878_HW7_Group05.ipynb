{
 "cells": [
  {
   "cell_type": "markdown",
   "metadata": {},
   "source": [
    "## MTH9878 Interest Rate Models HW7\n",
    "* Group 05\n",
    "* Author: Pan, Hongchao & Zhang, Chendi\n",
    "* Kernel version: Python 2.7\n",
    "* Packages: pandas, numpy, math, matplotlib, scipy, time, datetime, dateutil.relativedelta\n",
    "* Data: Given DataSheetCurve data\n",
    "* Notes:\n",
    "    * The notes and steps to deduce formulas had been put at corresponding cells.\n",
    "    * Build two classes from previous assignments to do simulation.\n",
    "    * Notes of model build and simulation are added by Markdown."
   ]
  },
  {
   "cell_type": "markdown",
   "metadata": {},
   "source": [
    "### Q1: Implement the LIBOR market model"
   ]
  },
  {
   "cell_type": "code",
   "execution_count": 15,
   "metadata": {
    "collapsed": true
   },
   "outputs": [],
   "source": [
    "import math\n",
    "import pandas as pd\n",
    "import numpy as np\n",
    "import time\n",
    "\n",
    "from datetime import date\n",
    "from datetime import timedelta\n",
    "from scipy.interpolate import splev, splrep, splint\n",
    "from dateutil.relativedelta import relativedelta\n",
    "\n",
    "def diff_years(day_1,day_2):\n",
    "    # to calculate the diff between two days\n",
    "    diff_in_years = relativedelta(day_2, day_1).years\n",
    "    diff_in_months = relativedelta(day_2, day_1).months\n",
    "    diff_in_days = relativedelta(day_2, day_1).days\n",
    "    return diff_in_years+diff_in_months/12.+diff_in_days/360."
   ]
  },
  {
   "cell_type": "markdown",
   "metadata": {},
   "source": [
    "### Build a LIBOR curve class and a swap class"
   ]
  },
  {
   "cell_type": "code",
   "execution_count": 18,
   "metadata": {
    "collapsed": false
   },
   "outputs": [],
   "source": [
    "import matplotlib.pyplot as plt\n",
    "%matplotlib inline\n",
    "\n",
    "# Define a Curve class for Libor/OIS rates\n",
    "class Curve():\n",
    "    # constructor\n",
    "    def __init__(self, _df,_spot_time):\n",
    "        \"\"\"\n",
    "        #  _df: input dataframe which contains data of rates and T\n",
    "        \"\"\"\n",
    "        self.Ts  = _df['T']\n",
    "        self.rates = _df['Rate']\n",
    "        self.tck = splrep(self.Ts, self.rates)\n",
    "        self.spot_time = _spot_time\n",
    "    \n",
    "\n",
    "    def disf(self,day_1,day_2):\n",
    "        # function that computes the discount factor between any two dates\n",
    "        # return the discount factor between day_1 and day_2\n",
    "        # based on data from self.Ts and self.rates\n",
    "\n",
    "\n",
    "        # get input time interval fraom day_1 and day_2\n",
    "        T_begin = diff_years(self.spot_time,day_1)\n",
    "        T_end = diff_years(self.spot_time,day_2)\n",
    "\n",
    "        # calculate the discount factor\n",
    "        disf = math.exp(-splint(T_begin, T_end, self.tck))\n",
    "\n",
    "        return disf\n",
    "    \n",
    "    \n",
    "    # To compute the forward LIBOR rate for any settlement and underlying tenor\n",
    "    def forward_rate(self,S,T):\n",
    "        # return the forward LIBOR rate for start S and maturity T (tenor T-S)\n",
    "        # based on data from self.Ts and self.rates\n",
    "        \n",
    "        # get input time interval from day_1 and day_2\n",
    "        T_begin = diff_years(self.spot_time,S)\n",
    "        T_end = diff_years(self.spot_time,T)\n",
    "        \n",
    "        # calculate the forward rate\n",
    "        forward_rate = (math.exp(splint(T_begin,T_end,self.tck))-1)/(T_end-T_begin)\n",
    "\n",
    "        return forward_rate\n",
    "    \n",
    "    def dev(self,T,n):\n",
    "        #to calculate nth degree derivative of the curve\n",
    "        return splev(T,self.tck,der=n)"
   ]
  },
  {
   "cell_type": "code",
   "execution_count": 19,
   "metadata": {
    "collapsed": true
   },
   "outputs": [],
   "source": [
    "# Create a Swap class for swaps\n",
    "\n",
    "class Swap():\n",
    "    def __init__(self, _OIS_curve, _LIBOR_curve, _spot_time):\n",
    "        self.OIS_curve = _OIS_curve\n",
    "        self.LIBOR_curve = _LIBOR_curve\n",
    "        self.spot_time = _spot_time\n",
    "     \n",
    "\n",
    "    # function that computes the (spot or forward) swap rate for any settlement and underlying tenor\n",
    "    def swap_rate(self, _maturity_time, strike, start_year, libor_forward):\n",
    "        # fixed leg payment\n",
    "        fixed_leg = 0.\n",
    "        maturity = _maturity_time\n",
    "        while maturity > self.spot_time:\n",
    "            fixed_leg += 0.5 * self.OIS_curve.disf(start_year,maturity+relativedelta(years=1))*strike\n",
    "            maturity = maturity -  relativedelta(months=6)\n",
    "\n",
    "        # floating leg payment\n",
    "        maturity = _maturity_time\n",
    "        float_leg = 0.\n",
    "        while maturity > self.spot_time:\n",
    "            float_leg += 0.25 * libor_forward[int(diff_years(_maturity_time, maturity)*4)-1]*ois.disf(start_year,maturity+relativedelta(years=1))\n",
    "            maturity = maturity - relativedelta(months=3)\n",
    "        \n",
    "        return float_leg/fixed_leg, float_leg, fixed_leg\n",
    "    \n",
    "    # calculate the break-even basis rates\n",
    "    def basis_rate(self, _maturity_time):\n",
    "        # print(_maturity_time)\n",
    "        maturity = _maturity_time\n",
    "        # LIBOR leg\n",
    "        LIBOR_leg = 0.\n",
    "        while maturity > self.spot_time:\n",
    "            LIBOR_leg += 0.25 * (self.LIBOR_curve.forward_rate(maturity-relativedelta(months=3),maturity)-self.OIS_curve.forward_rate(maturity-relativedelta(months=3),maturity))*self.OIS_curve.disf(self.spot_time,maturity)\n",
    "            maturity = maturity -  relativedelta(months=3)\n",
    "        \n",
    "        # OIS and spread leg\n",
    "        # print(_maturity_time)\n",
    "        maturity = _maturity_time\n",
    "        OIS_leg = 0.\n",
    "        while maturity > self.spot_time:\n",
    "            OIS_leg+= 0.25 *self.OIS_curve.disf(self.spot_time,maturity)\n",
    "            maturity = maturity -  relativedelta(months=3)\n",
    "       \n",
    "        return LIBOR_leg/OIS_leg  "
   ]
  },
  {
   "cell_type": "markdown",
   "metadata": {},
   "source": [
    "### Get data from the DataSheetCurve"
   ]
  },
  {
   "cell_type": "code",
   "execution_count": 20,
   "metadata": {
    "collapsed": true
   },
   "outputs": [],
   "source": [
    "import scipy.optimize as sco\n",
    "from scipy import integrate\n",
    "\n",
    "\n",
    "# target function that we want to minize\n",
    "def min_func(rate):\n",
    "    OIS_rates = rate[0:18].copy()\n",
    "    LIBOR_rates = rate[18:].copy()\n",
    "    \n",
    "    Ts = [-15.0, -10.0, -5.0, 0.0, 1.0, 2.0, 3.0, 5.0, 7.0, 10.0, 15.0, 20.0, 25.0, 30.0, 35.0, 40.0, 45.0, 50.0]\n",
    "    \n",
    "    # get maturities\n",
    "    spot_date = date(2011,12,15)\n",
    "    OIS_dates = [spot_date +  relativedelta(months=int(T*12)) for T in Ts]\n",
    "    LIBOR_dates = [spot_date +  relativedelta(months=int(T*12)) for T in Ts]\n",
    "    \n",
    "    #create temporary dataframe for OIS and LIBOR\n",
    "    tmp_OIS_df = pd.DataFrame(OIS_rates,columns=['Rate'])\n",
    "    tmp_OIS_df['T'] = Ts\n",
    "    # print(tmp_OIS_df)\n",
    "    \n",
    "    tmp_LIBOR_df = pd.DataFrame(LIBOR_rates,columns=['Rate'])\n",
    "    tmp_LIBOR_df['T'] = Ts\n",
    "    \n",
    "    # create class objects\n",
    "    OIS_obj = Curve(tmp_OIS_df,spot_date)\n",
    "    LIBOR_obj = Curve(tmp_LIBOR_df,spot_date)\n",
    "    swap_obj = Swap(OIS_obj,LIBOR_obj,spot_date)\n",
    "    \n",
    "    # optimization goal function\n",
    "\n",
    "    goal = sum(([swap_obj.basis_rate(spot_date + relativedelta(months = int(T*12.))) for T in Basis_Swap_Rates_df['T']]-Basis_Swap_Rates_df['Basis (bp)']*1e-4)**2)+\\\n",
    "           sum(([LIBOR_obj.forward_rate(spot_date + relativedelta(months = int(T*12.)),spot_date + relativedelta(months = 3) + relativedelta(months = int(T*12.))) for T in ED_Futures_df['T']]-ED_Futures_df['Rate'])**2)+\\\n",
    "           sum(([swap_obj.swap_rate(spot_date + relativedelta(months = int(T*12.))) for T in Swap_Rates_df['T']]-Swap_Rates_df['Rate'])**2)\n",
    "      \n",
    "    # penalty lambda = 0.05\n",
    "    penalty  = 1./2. * 0.05*integrate.quad(lambda x:OIS_obj.dev(x,2)**2 + LIBOR_obj.dev(x,2)**2,0,30)[0]\n",
    "\n",
    "    return goal/2. + penalty"
   ]
  },
  {
   "cell_type": "code",
   "execution_count": 21,
   "metadata": {
    "collapsed": true
   },
   "outputs": [],
   "source": [
    "curve_data = pd.read_excel('DataSheetCurve.xls',sheetname=1)\n",
    "\n",
    "# LIBOR data\n",
    "LIBOR_df = curve_data.iloc[1:3,[0,1,2,3]].copy()\n",
    "LIBOR_df.columns = ['Index','Start Date','End Date','Rate']\n",
    "LIBOR_df.set_index('Index',inplace=True)\n",
    "\n",
    "# get time interval T in the data\n",
    "LIBOR_df['T'] = [0.,0.25]\n",
    "\n",
    "# ED Futures data\n",
    "ED_Futures_df = curve_data.iloc[5:13,[0,1,2,3,4]].copy()\n",
    "ED_Futures_df.columns = ['Index','IMM date','Price','Conv. Adj. (bp)','Rate']\n",
    "ED_Futures_df.set_index('Index',inplace=True)\n",
    "\n",
    "# get time interval T in the data\n",
    "ED_Futures_df['T'] = [0.,0.25,0.5,0.75,1.,1.25,1.5,1.75]\n",
    "\n",
    "# Swap Rates data\n",
    "Swap_Rates_df = curve_data.iloc[15:26,[0,1,2,3]].copy()\n",
    "Swap_Rates_df.columns = ['Index','Start Date','End Date','Rate']\n",
    "Swap_Rates_df.set_index('Index',inplace=True)\n",
    "\n",
    "# get time interval T in the data\n",
    "Swap_Rates_df['T'] = [2.,3.,4.,5.,7.,10.,12.,15.,20.,25.,30.]\n",
    "\n",
    "# Fed Funds data\n",
    "Fed_Funds_df = curve_data.iloc[28:29,[0,1,2,3]].copy()\n",
    "Fed_Funds_df.columns = ['Index','Start Date','End Date','Rate']\n",
    "Fed_Funds_df.set_index('Index',inplace=True)\n",
    "\n",
    "# get time interval T in the data\n",
    "Fed_Funds_df['T'] = [0.]\n",
    "\n",
    "# Basis Swap Rates data\n",
    "Basis_Swap_Rates_df = curve_data.iloc[32:58,[0,1,2,3]].copy()\n",
    "Basis_Swap_Rates_df.columns = ['Index','Start Date','End Date','Basis (bp)']\n",
    "Basis_Swap_Rates_df.set_index('Index',inplace=True)\n",
    "\n",
    "# get time interval T in the data\n",
    "Basis_Swap_Rates_df['T'] = [0.25,0.5,0.75,1.,1.5,2.,3.,4.,5.,7.,10.,12.,15.,20.,25.,30.]"
   ]
  },
  {
   "cell_type": "code",
   "execution_count": 22,
   "metadata": {
    "collapsed": true
   },
   "outputs": [],
   "source": [
    "Ts = [-3.0,-2.0,-1.0,0.0,1.0,2.0,3.0,5.0,7.0,10.0,15.0,20.0,25.0,31.0,32.0,33.0,34.0,35.0]\n",
    "\n",
    "LIBOR_rates = np.array([ 0.00948189,  0.01414475, -0.00917321,  0.00723922,  0.00633716,\n",
    "        0.00864967,  0.01474671,  0.02575979,  0.03156454,  0.03448485,\n",
    "        0.03298521,  0.03002743,  0.0298039 ,  0.02931985,  0.02442053,\n",
    "        0.00629368,  0.01080132,  0.00989984])"
   ]
  },
  {
   "cell_type": "code",
   "execution_count": 23,
   "metadata": {
    "collapsed": true
   },
   "outputs": [],
   "source": [
    "OIS_rates = np.array([ 0.00948189,  0.01414475, -0.00917321,  0.00723922,  0.00633716,\n",
    "        0.00864967,  0.01474671,  0.02575979,  0.03156454,  0.03448485,\n",
    "        0.03298521,  0.03002743,  0.0298039 ,  0.02931985,  0.02442053,\n",
    "        0.00629368,  0.01080132,  0.00989984])"
   ]
  },
  {
   "cell_type": "markdown",
   "metadata": {},
   "source": [
    "### Implement the spectral decomposition method to simulate a Brownian motion"
   ]
  },
  {
   "cell_type": "code",
   "execution_count": 24,
   "metadata": {
    "collapsed": true
   },
   "outputs": [],
   "source": [
    "# spectral decomposition method\n",
    "class spectral_decomposition_method:\n",
    "    def __init__(self, dt, n, p):\n",
    "        self.cov = np.ones((n,n))\n",
    "        self.p = p\n",
    "        \n",
    "        for i in range(1,n+1):\n",
    "            for j in range(1,n+1):\n",
    "                self.cov[i-1,j-1] = np.minimum(i,j) * dt\n",
    "\n",
    "        self.eigen_val, self.eigen_vec = np.linalg.eig(self.cov)\n",
    "        \n",
    "        # np.random.seed(19)\n",
    "        self.wt = np.sum((np.sqrt(self.eigen_val) * self.eigen_vec.T * np.random.normal(size = n))[:p],axis = 0)\n",
    "        self.wt = np.insert(self.wt, 0, 0.)\n",
    "        self.dwt = np.diff(self.wt)\n",
    "        # print(self.dwt)\n",
    "    \n",
    "    def get_value(self, t):\n",
    "        return self.dwt[t]"
   ]
  },
  {
   "cell_type": "markdown",
   "metadata": {},
   "source": [
    "### 1-factor LMM using Euler’s scheme"
   ]
  },
  {
   "cell_type": "code",
   "execution_count": 25,
   "metadata": {
    "collapsed": true
   },
   "outputs": [],
   "source": [
    "class LMM:\n",
    "    def __init__(self, steps, periods, libor_0, frozen = False):\n",
    "        self.steps = steps\n",
    "        self.periods = periods\n",
    "        self.libor = np.ones((periods,steps + 1))\n",
    "        self.libor[:,0] = libor_0\n",
    "        self.dt = 1./steps\n",
    "        self.vol = 0.0085\n",
    "        self.frozen = frozen\n",
    "    \n",
    "    def simulate(self):\n",
    "        self.get_brownian = spectral_decomposition_method(self.dt, self.steps, self.steps)\n",
    "        for i in range(self.steps):\n",
    "            # dw = self.get_brownian.get_value()\n",
    "            for j in range(self.periods):\n",
    "                # get self.drift\n",
    "                self.drift = 0\n",
    "                if not self.frozen:\n",
    "                    for k in range(j,self.periods):\n",
    "                        self.drift = self.drift - 0.25 * (self.vol**2)/(1. + 0.25 * self.libor[k][i-1]) if i > 0 else self.drift - 0.25 * (self.vol**2)/(1. + 0.25 * self.libor[k][i])\n",
    "                else:\n",
    "                    for k in range(j,self.periods):\n",
    "                        self.drift = self.drift - 0.25 * (self.vol**2)/(1. + 0.25 * self.libor[k][0])\n",
    "                \n",
    "                # update libor\n",
    "                self.libor[j,i + 1] = np.max(self.libor[j,i] + self.drift*self.dt + self.vol*self.get_brownian.get_value(i),0)\n",
    "                \n",
    "        return self.libor[:,-1]\n",
    "    \n",
    "    def evaluation(self, ois, start_year, N_MC, maturity, strike):\n",
    "        value_sum = 0.0\n",
    "        for i in range(N_MC):\n",
    "            libor_forward = self.simulate()\n",
    "            # print(libor_forward)\n",
    "            \n",
    "            # get a swap\n",
    "            T = np.linspace(1,40,40)\n",
    "            libor_df = pd.DataFrame(np.array([T,libor_forward]).T, columns=['T','Rate'])\n",
    "            libor = Curve(libor_df, start_year)\n",
    "            swap = Swap(ois, libor, start_year - relativedelta(years=1))\n",
    "            \n",
    "            _temp_, float_, fixed_ = swap.swap_rate(maturity, strike, start_year, libor_forward)\n",
    "            \n",
    "            #payoff\n",
    "            value_ = (fixed_ - float_) * 100.\n",
    "            \n",
    "            # print(value_, float_, fixed_)\n",
    "            if value_ > 0:\n",
    "                value_sum += value_\n",
    "       \n",
    "        simulated_value = value_sum*ois.disf(date(2000,1,1),start_year)/N_MC\n",
    "        return simulated_value  "
   ]
  },
  {
   "cell_type": "code",
   "execution_count": 26,
   "metadata": {
    "collapsed": true
   },
   "outputs": [],
   "source": [
    "spot_date = date(2000,1,1)\n",
    "\n",
    "libor_df = pd.DataFrame(np.array([Ts,LIBOR_rates]).T, columns=['T','Rate'])\n",
    "ois_df = pd.DataFrame(np.array([Ts,OIS_rates]).T, columns=['T','Rate'])\n",
    "libor = Curve(libor_df,spot_date)\n",
    "ois = Curve(ois_df,spot_date)"
   ]
  },
  {
   "cell_type": "code",
   "execution_count": 27,
   "metadata": {
    "collapsed": false
   },
   "outputs": [],
   "source": [
    "# get LMM\n",
    "steps = 30\n",
    "periods = 40\n",
    "\n",
    "# get initial value of libor\n",
    "libor_0 = [libor.forward_rate(spot_date+relativedelta(years=(1+3*i//12))+relativedelta(month=3*i%12),\n",
    "                                          spot_date+relativedelta(years=(1+3*(i+1)//12))+relativedelta(month=3*(i+1)%12)) for i in range(periods)]\n",
    "libor_0 = np.array(libor_0)\n",
    "\n",
    "#with or without frozen curve\n",
    "LMM_model_1 = LMM(steps,periods,libor_0,frozen = True)\n",
    "LMM_model_2 = LMM(steps,periods,libor_0,frozen = False)"
   ]
  },
  {
   "cell_type": "markdown",
   "metadata": {},
   "source": [
    "### Q2 Simulation"
   ]
  },
  {
   "cell_type": "markdown",
   "metadata": {},
   "source": [
    "### LMM exact calculation"
   ]
  },
  {
   "cell_type": "code",
   "execution_count": 28,
   "metadata": {
    "collapsed": false
   },
   "outputs": [
    {
     "name": "stdout",
     "output_type": "stream",
     "text": [
      "2000 simulatison: 13.0257415649\n",
      "Takes 132.153088093 seconds.\n",
      "5000 simulatison: 13.0144942451\n",
      "Takes 332.962799072 seconds.\n"
     ]
    }
   ],
   "source": [
    "# evaluate 1Y into 10Y European receiver swaption\n",
    "import time\n",
    "# exact calculation\n",
    "start_time = time.time()\n",
    "n = 2000\n",
    "print('2000 simulatison: {}'.format(LMM_model_2.evaluation(ois, date(2001,1,1), n, maturity=date(2010,1,1), strike=0.03872)))\n",
    "end_time = time.time()\n",
    "print('Takes {} seconds.'.format(end_time - start_time))\n",
    "\n",
    "n = 5000\n",
    "start_time = time.time()\n",
    "print('5000 simulatison: {}'.format(LMM_model_2.evaluation(ois, date(2001,1,1), n, maturity=date(2010,1,1), strike=0.03872)))\n",
    "end_time = time.time()\n",
    "print('Takes {} seconds.'.format(end_time - start_time))"
   ]
  },
  {
   "cell_type": "markdown",
   "metadata": {},
   "source": [
    "### The results between 2000 and 5000 simulated paths are close. Calculation is accurate."
   ]
  },
  {
   "cell_type": "markdown",
   "metadata": {},
   "source": [
    "### Then we simulate LMM with frozen curve approximation"
   ]
  },
  {
   "cell_type": "code",
   "execution_count": 29,
   "metadata": {
    "collapsed": false
   },
   "outputs": [
    {
     "name": "stdout",
     "output_type": "stream",
     "text": [
      "2000 simulatison: 13.0413159982\n",
      "Takes 136.426939964 seconds.\n",
      "5000 simulatison: 12.9919277063\n",
      "Takes 344.23606801 seconds.\n"
     ]
    }
   ],
   "source": [
    "# frozen curve approximation\n",
    "start_time = time.time()\n",
    "n = 2000\n",
    "print('2000 simulatison: {}'.format(LMM_model_1.evaluation(ois, date(2001,1,1), n, maturity=date(2010,1,1), strike=0.03872)))\n",
    "end_time = time.time()\n",
    "print('Takes {} seconds.'.format(end_time - start_time))\n",
    "\n",
    "n = 5000\n",
    "start_time = time.time()\n",
    "print('5000 simulatison: {}'.format(LMM_model_1.evaluation(ois, date(2001,1,1), n, maturity=date(2010,1,1), strike=0.03872)))\n",
    "end_time = time.time()\n",
    "print('Takes {} seconds.'.format(end_time - start_time))"
   ]
  },
  {
   "cell_type": "markdown",
   "metadata": {},
   "source": [
    "### Conclusion: The results between two drift term calculation methods are similar. And they are both accurate."
   ]
  }
 ],
 "metadata": {
  "anaconda-cloud": {},
  "kernelspec": {
   "display_name": "Python [Root]",
   "language": "python",
   "name": "Python [Root]"
  },
  "language_info": {
   "codemirror_mode": {
    "name": "ipython",
    "version": 2
   },
   "file_extension": ".py",
   "mimetype": "text/x-python",
   "name": "python",
   "nbconvert_exporter": "python",
   "pygments_lexer": "ipython2",
   "version": "2.7.12"
  }
 },
 "nbformat": 4,
 "nbformat_minor": 0
}
