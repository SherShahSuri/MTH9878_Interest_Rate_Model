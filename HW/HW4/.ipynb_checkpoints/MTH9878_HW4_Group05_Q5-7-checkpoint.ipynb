{
 "cells": [
  {
   "cell_type": "markdown",
   "metadata": {
    "collapsed": true
   },
   "source": [
    "## MTH9878 Interest Rate Models HW4\n",
    "* Group 05\n",
    "* Author: Pan, Hongchao & Zhang, Chendi\n",
    "* Kernel version: Python 2.7\n",
    "* Packages: pandas, numpy, matplotlib, scipy\n",
    "* Data: Given SwaptionVolData data\n",
    "* Notes:\n",
    "    * The notes and steps to deduce formulas had been put at corresponding cells.\n",
    "    * The close formula of ATM SABR implied lognormal vol came from the original SABR model. The comparison of notations had been put in the Markdown.\n",
    "    * The deduction of close formula of ATM SABR implied normal vol by using l’Hopital’s rule had been put in the Markdown"
   ]
  },
  {
   "cell_type": "code",
   "execution_count": 1,
   "metadata": {
    "collapsed": false
   },
   "outputs": [],
   "source": [
    "# load packages/features from version 3.x\n",
    "from __future__ import absolute_import, print_function, division\n",
    "# load packages\n",
    "import pandas as pd\n",
    "import numpy as np\n",
    "import math\n",
    "import matplotlib.pyplot as plt\n",
    "from scipy.stats import norm\n",
    "from scipy.optimize import minimize # SABR calibration\n",
    "import matplotlib.ticker as ticker"
   ]
  },
  {
   "cell_type": "markdown",
   "metadata": {},
   "source": [
    "### Q1: Implement normal and lognormal model"
   ]
  },
  {
   "cell_type": "markdown",
   "metadata": {},
   "source": [
    "* Normal model by using forward price\n",
    "\n",
    "\n",
    "* $N(x)=\\frac{1}{\\sqrt{2\\pi}}\\int_{-\\infty}^x e^{-\\frac{z^2}{2}}dz$\n",
    "\n",
    "\n",
    "* $N'(x)=\\frac{1}{\\sqrt{2\\pi}}e^{-\\frac{x^2}{2}}$"
   ]
  },
  {
   "cell_type": "code",
   "execution_count": 2,
   "metadata": {
    "collapsed": true
   },
   "outputs": [],
   "source": [
    "# Discount factor function\n",
    "def disf(r,t,T):\n",
    "    '''\n",
    "    :param r: interest rate\n",
    "    :param t: starting date\n",
    "    :param T: end date\n",
    "    '''\n",
    "#    return math.exp(-r*(T-t))\n",
    "    return 1  # All discount factor is 1 in Q1-4\n",
    "\n",
    "def Normal_forward(r,t,T,K,F0,vol,opt_type=None):\n",
    "    '''\n",
    "    :param r: interest rate, 0 in this question\n",
    "    :param t: start date\n",
    "    :param T: maturity data\n",
    "    :param K: strike\n",
    "    :param F0: forward price at time t\n",
    "    :param vol: volatility\n",
    "    :param opt_type: indicator of call or put option\n",
    "    return: option price\n",
    "    '''\n",
    "    # Compute d1 and d2 in normal model\n",
    "    # Reference: formula (25) in lecture notes 3\n",
    "    d1=(F0-K)/(vol*math.sqrt(T-t))\n",
    "    d2=-d1\n",
    "    \n",
    "    disc=disf(r,t,T)\n",
    "    \n",
    "    call_price=disc*vol*math.sqrt(T-t)*(d1*norm.cdf(d1)+\n",
    "                                                    math.exp(-0.5*d1*d1)/math.sqrt(2*np.pi))\n",
    "    put_price=disc*vol*math.sqrt(T-t)*(d2*norm.cdf(d2)+\n",
    "                                                   math.exp(-0.5*d2*d2)/math.sqrt(2*np.pi))\n",
    "    \n",
    "    if(opt_type is None):\n",
    "        print(\"Normal model: No option type indicated, assuming CALL.\")\n",
    "        return call_price\n",
    "    if (opt_type.upper()==\"CALL\"):\n",
    "        return call_price\n",
    "    if(opt_type.upper()==\"PUT\"):\n",
    "        return put_price\n",
    "    else:\n",
    "        print(\"Option type is invaild.\")\n",
    "        return -1"
   ]
  },
  {
   "cell_type": "markdown",
   "metadata": {},
   "source": [
    "* Lognormal model - BS model by using forward price"
   ]
  },
  {
   "cell_type": "code",
   "execution_count": 3,
   "metadata": {
    "collapsed": true
   },
   "outputs": [],
   "source": [
    "def BS_forward(r,t,T,K,F0,vol,opt_type=None):\n",
    "    '''\n",
    "    :param r: interest rate, 0 in this question\n",
    "    :param t: start date\n",
    "    :param T: maturity data\n",
    "    :param K: strike\n",
    "    :param F0: forward price at time t\n",
    "    :param vol: volatility\n",
    "    :param opt_type: indicator of call or put option\n",
    "    return: option price\n",
    "    '''\n",
    "    # Reference: formula (6) in lecture notes 3 and\n",
    "    # https://github.com/hongchaopan/Baruch_AC/blob/master/black_scholes.py\n",
    "    d1=(np.log(F0/K)+(0.5*vol*vol)*(T-t))/(vol*math.sqrt(T-t))\n",
    "    d2=d1-vol*math.sqrt(T-t)\n",
    "    \n",
    "    disc=disf(r,t,T)\n",
    "    \n",
    "    call_price=disc*(F0*norm.cdf(d1)-K*norm.cdf(d2))\n",
    "    put_price=disc*(K*norm.cdf(-d2)-F0*norm.cdf(-d1))\n",
    "    \n",
    "    if(opt_type is None):\n",
    "        print(\"Normal model: No option type indicated, assuming CALL.\")\n",
    "        return call_price\n",
    "    if (opt_type.upper()==\"CALL\"):\n",
    "        return call_price\n",
    "    if(opt_type.upper()==\"PUT\"):\n",
    "        return put_price\n",
    "    else:\n",
    "        print(\"Option type is invaild.\")\n",
    "        return -1"
   ]
  },
  {
   "cell_type": "markdown",
   "metadata": {},
   "source": [
    "* **Test normal and Lognormal model**"
   ]
  },
  {
   "cell_type": "code",
   "execution_count": 4,
   "metadata": {
    "collapsed": false
   },
   "outputs": [],
   "source": [
    "# Set up parameters\n",
    "# Since the Q1-Q4 assumed the discount factors =1, \n",
    "# r should be 0 and assume q=0 (no dividend)\n",
    "r=0\n",
    "t=0\n",
    "T=2\n",
    "F0=0.8\n",
    "K=F0+20/10000 # ATM+20basis point\n",
    "vol=0.4\n",
    "option=[\"CALL\",\"PUT\"]\n",
    "# Compute the option prices\n",
    "prices=[]\n",
    "prices.append(Normal_forward(r,t,T,K,F0,vol,option[0]))\n",
    "prices.append(Normal_forward(r,t,T,K,F0,vol,option[1]))\n",
    "prices.append(BS_forward(r,t,T,K,F0,vol,option[0]))\n",
    "prices.append(BS_forward(r,t,T,K,F0,vol,option[1]))"
   ]
  },
  {
   "cell_type": "markdown",
   "metadata": {},
   "source": [
    "* Check the results\n",
    "\n",
    "* BS formula using stock price\n",
    "$$\n",
    "P^{\\text{call}}=S_0^{-q(T-t)}N(d_1)-Ke^{-r(T-t)}N(d_2)\\\\\n",
    "P^{\\text{put}}=Ke^{-r(T-t)}N(-d_2)-S_0^{-q(T-t)}N(-d_1)\n",
    "$$\n",
    "with\n",
    "$$\n",
    "d_1=\\frac{log\\left(\\frac{S_0}{K}\\right)+\\left(r-q+\\frac{1}{2}\\sigma^2\\right)(T-t)}{\\sigma\\sqrt{T-t}}\\\\\n",
    "d_2=d_1-\\sigma\\sqrt{T-t}\n",
    "$$\n",
    "Therefore, if r=q=0, changing $S_0$ to $F_0$, we will get BS formula using forward price. Thus, we can us BS online calculator to verify BS price.\n",
    "\n",
    "\n",
    "* BS online calculator: http://www.math.drexel.edu/~pg/fin/VanillaCalculator.html"
   ]
  },
  {
   "cell_type": "code",
   "execution_count": 5,
   "metadata": {
    "collapsed": false
   },
   "outputs": [
    {
     "name": "stdout",
     "output_type": "stream",
     "text": [
      "The call price from Normal model is:  0.224677244\n",
      "The call price from Lognormal model is:  0.177386466\n",
      "The put price from Normal model is:  0.226677244\n",
      "The put price from Lognormal model is:  0.179386466\n"
     ]
    }
   ],
   "source": [
    "print(\"The call price from Normal model is: \", '{:.9f}'.format(prices[0]))\n",
    "print(\"The call price from Lognormal model is: \",'{:.9f}'.format(prices[2]))\n",
    "print(\"The put price from Normal model is: \",'{:.9f}'.format(prices[1]))\n",
    "print(\"The put price from Lognormal model is: \",'{:.9f}'.format(prices[3]))"
   ]
  },
  {
   "cell_type": "markdown",
   "metadata": {},
   "source": [
    "### Q2: Convert lognormal implied vol to normal implied vol"
   ]
  },
  {
   "cell_type": "markdown",
   "metadata": {},
   "source": [
    "* Define functions to compute lognormal implied vol\n",
    "\n",
    "* Set $f(\\sigma)=P_{ln}-P_M$, where $P_M$ is market price\n",
    "$\\Rightarrow$\n",
    "$$\n",
    "\\frac{df}{d\\sigma}=\\frac{P_{ln}}{d\\sigma}=\\text{Vega}_{ln}\n",
    "$$\n",
    "\n",
    "\n",
    "* $$P_{ln}=e^{-r(T-t)}[F_0N(d_1)-KN(d_2)]$$\n",
    "with \n",
    "$$\n",
    "d_{1,2}=\\frac{log(\\frac{F_0}{K})\\pm \\frac{\\sigma^2}{2}(T-t)}{\\sigma\\sqrt{(T-t)}}\n",
    "$$\n",
    "$\\Rightarrow$\n",
    "$$\n",
    "\\text{Vega}_{ln}=e^{-r(T-t)}[F_0N'(d_1)\\frac{dd_1}{d\\sigma}-KN'(d_2)\\frac{dd_2}{d\\sigma}]\n",
    "$$\n",
    "with\n",
    "$$\n",
    "N'(x)=\\frac{1}{\\sqrt{2\\pi}}e^{\\frac{-x^2}{2}}\\\\\n",
    "\\frac{dd_1}{d\\sigma}=\\frac{log(\\frac{F_0}{K})}{\\sqrt{(T-t)}}\\left(-\\frac{1}{\\sigma^2}\\right)+\\frac{\\sqrt{(T-t)}}{2}\\\\\n",
    "\\frac{dd_2}{d\\sigma}=\\frac{log(\\frac{F_0}{K})}{\\sqrt{(T-t)}}\\left(-\\frac{1}{\\sigma^2}\\right)-\\frac{\\sqrt{(T-t)}}{2}\n",
    "$$"
   ]
  },
  {
   "cell_type": "markdown",
   "metadata": {},
   "source": [
    "* Define function to compute Vega"
   ]
  },
  {
   "cell_type": "code",
   "execution_count": 6,
   "metadata": {
    "collapsed": true
   },
   "outputs": [],
   "source": [
    "# Define a function to compute N'(x)\n",
    "\n",
    "def N_prime(x):\n",
    "    return math.exp(-0.5*x*x)/math.sqrt(2*np.pi)\n",
    "\n",
    "def Vega_forward(r,t,T,K,F0,vol):\n",
    "    '''\n",
    "    :param r: interest rate, 0 in this question\n",
    "    :param t: start date\n",
    "    :param T: maturity data\n",
    "    :param K: strike\n",
    "    :param F0: forward price at time t\n",
    "    No option type needed, since Vega for BS put and BS call are the same\n",
    "    return: Vega in BS formed by forward price\n",
    "    '''\n",
    "    d1=(np.log(F0/K)+(0.5*vol*vol)*(T-t))/(vol*math.sqrt(T-t))\n",
    "    d2=d1-vol*math.sqrt(T-t)    \n",
    "    \n",
    "    d1_prime=-np.log(F0/K)/(math.sqrt(T-t)*vol*vol)+math.sqrt(T-t)/2\n",
    "    d2_prime=d1_prime-math.sqrt(T-t)\n",
    "    \n",
    "    disc=disf(r,t,T)\n",
    "    \n",
    "    return disc*(F0*N_prime(d1)*d1_prime-K*N_prime(d2)*d2_prime)\n",
    "    "
   ]
  },
  {
   "cell_type": "code",
   "execution_count": 7,
   "metadata": {
    "collapsed": false
   },
   "outputs": [],
   "source": [
    "def imp_vol_BS_forward(r,t,T,K,F0,P,tol,opt_type=None):\n",
    "    '''\n",
    "    :param r: interest rate, 0 in this question\n",
    "    :param t: start date\n",
    "    :param T: maturity data\n",
    "    :param K: strike\n",
    "    :param F0: forward price at time t\n",
    "    :param P: market price\n",
    "    :param opt_type: indicator of call or put option\n",
    "    :param tol: tolerence for declaring convergence of Newtown's method\n",
    "    return: implied lognormal volatility\n",
    "    '''\n",
    "    x0=0.25 # Initial guess: 25% volatility\n",
    "    x_new=x0\n",
    "    x_old=x0-1\n",
    "    # f_x and f_prime is given here\n",
    "\n",
    "    while abs(x_new-x_old)>tol:\n",
    "        x_old=x_new\n",
    "        V_BS=BS_forward(r,t,T,K,F0,x_new,opt_type)\n",
    "        V_vega=Vega_forward(r,t,T,K,F0,x_new)\n",
    "        x_new=x_new-(V_BS-P)/V_vega\n",
    "\n",
    "    return x_new"
   ]
  },
  {
   "cell_type": "code",
   "execution_count": 8,
   "metadata": {
    "collapsed": false
   },
   "outputs": [
    {
     "name": "stdout",
     "output_type": "stream",
     "text": [
      "The implied lognormal volatility computed by given Call option is:  0.224424\n",
      "The implied lognormal volatility computed by given Put option is:  0.687805\n"
     ]
    }
   ],
   "source": [
    "# Compute lognormal volatility\n",
    "# Use parameters in Q1\n",
    "r=0\n",
    "t=0\n",
    "T_ln=2\n",
    "F0_ln=0.8\n",
    "K=F0_ln+20/10000 # ATM+20basis point\n",
    "#vol=0.4\n",
    "option=[\"CALL\",\"PUT\"]\n",
    "# Market Put price\n",
    "P_m=0.3\n",
    "# Market Call price\n",
    "C_m=0.1\n",
    "sigma_ln_C=imp_vol_BS_forward(r,t,T_ln,K,F0_ln,C_m,tol=1e-6,opt_type=option[0])\n",
    "sigma_ln_P=imp_vol_BS_forward(r,t,T_ln,K,F0_ln,P_m,tol=1e-6,opt_type=option[1])\n",
    "print(\"The implied lognormal volatility computed by given Call option is: \",\n",
    "      '{:.6f}'.format(sigma_ln_C))\n",
    "print(\"The implied lognormal volatility computed by given Put option is: \",\n",
    "      '{:.6f}'.format(sigma_ln_P))"
   ]
  },
  {
   "cell_type": "markdown",
   "metadata": {},
   "source": [
    "* Convert implied lognormal volatility to normal implied volatility based on formula of Q2(a) in HW3\n",
    "\n",
    "* The formula is given as:\n",
    "$$\n",
    "\\sigma_n=\\sqrt{\\frac{2\\pi}{T}}F_0\\text{erf} \\left(\\frac{\\sqrt{T}}{2\\sqrt{2}}\\sigma_{ln}\\right)\n",
    "$$\n",
    "with\n",
    "$$\n",
    "\\text{erf}(x)=\\frac{2}{\\sqrt{\\pi}}\\int_0^xe^{-u^2}du\n",
    "$$"
   ]
  },
  {
   "cell_type": "markdown",
   "metadata": {},
   "source": [
    "* Define the error function by using Simpson's rule\n",
    "\n",
    "* Reference: https://github.com/hongchaopan/Baruch_AC/blob/master/Numerical_integration_methods.py"
   ]
  },
  {
   "cell_type": "code",
   "execution_count": 9,
   "metadata": {
    "collapsed": true
   },
   "outputs": [],
   "source": [
    "def f_x(x):\n",
    "    '''\n",
    "    Function in the integration part\n",
    "    '''\n",
    "    return math.exp(-x*x)\n",
    "\n",
    "# Simpson's rule\n",
    "def simpson_rule(a,b,f,n):\n",
    "    '''\n",
    "    :param a: left endpoint\n",
    "    :param b: right endpoint\n",
    "    :param f: to be integrated function\n",
    "    :param n: number of partition intervals\n",
    "    '''\n",
    "    h= (b-a)/n\n",
    "    result=(f(a) + f(b))/6\n",
    "\n",
    "    for i in range(1, n):\n",
    "        result += f(a + i*h)/3\n",
    "    for i in range(1, n+1):\n",
    "        result += 2*f(a + (i-0.5)*h)/3\n",
    "\n",
    "    return result*h\n",
    "\n",
    "# Convergence\n",
    "def approx_val_tol(f_med,a,b,f,n,tol):\n",
    "    '''\n",
    "    :param f_med: approximation method: mid_point/Trapezoidal/Simpson's rule\n",
    "    :param a: left endpoint\n",
    "    :param b: right endpoint\n",
    "    :param f: to be integrated function\n",
    "    :param n: starting number of partition intervals\n",
    "    :param tol: tolerence for declaring convergence\n",
    "    '''\n",
    "    #tol=5e-7\n",
    "    result_old=f_med(a,b,f,n)\n",
    "    n=2*n # Using doubling strategy\n",
    "    result_new=f_med(a,b,f,n)\n",
    "\n",
    "    while(abs(result_old-result_new)>tol):\n",
    "        result_old=result_new\n",
    "        n=2*n\n",
    "        result_new=f_med(a,b,f,n)\n",
    "\n",
    "    return result_new\n",
    "\n",
    "# erf function\n",
    "\n",
    "def erf(a,b,f,n,tol):\n",
    "    '''\n",
    "    :param a: left endpoint\n",
    "    :param b: right endpoint\n",
    "    :param f: to be integrated function\n",
    "    :param n: starting number of partition intervals\n",
    "    :param tol: tolerence for declaring convergence\n",
    "    '''\n",
    "    return approx_val_tol(simpson_rule,a,b,f,n,tol)"
   ]
  },
  {
   "cell_type": "code",
   "execution_count": 10,
   "metadata": {
    "collapsed": false
   },
   "outputs": [
    {
     "name": "stdout",
     "output_type": "stream",
     "text": [
      "The value of erf is:  0.111743037\n"
     ]
    }
   ],
   "source": [
    "# Compute erf\n",
    "a=0\n",
    "b=math.sqrt(T_ln)*sigma_ln_C/(2*math.sqrt(2))\n",
    "n=4 # Starting intervals\n",
    "tol=1e-9\n",
    "erf_ln=erf(a,b,f_x,n,tol)\n",
    "print(\"The value of erf is: \",'{:.9f}'.format(erf_ln))"
   ]
  },
  {
   "cell_type": "markdown",
   "metadata": {},
   "source": [
    "* Convert the implied lognormal volatility to implied normal volatility"
   ]
  },
  {
   "cell_type": "code",
   "execution_count": 11,
   "metadata": {
    "collapsed": false
   },
   "outputs": [
    {
     "name": "stdout",
     "output_type": "stream",
     "text": [
      "The implied normal volatility converted from implied lognormal volatility is:  0.158448\n"
     ]
    }
   ],
   "source": [
    "sigma_n=math.sqrt(2*np.pi/T_ln)*F0_ln*erf_ln\n",
    "print(\"The implied normal volatility converted from implied lognormal volatility is: \",\n",
    "      '{:.6f}'.format(sigma_n))"
   ]
  },
  {
   "cell_type": "markdown",
   "metadata": {},
   "source": [
    "### Q3: Implement SABR implied normal volatility\n",
    "\n",
    "* Reference: Use formula (14) approximately SABR implied normal volatility in Lecture notes 4 to avoid $O(\\epsilon)$ in formula (13) and SABR item in Wikipedia: https://en.wikipedia.org/wiki/SABR_volatility_model\n",
    "\n",
    "\n",
    "* $$C(F_{mid})=F_{mid}^{\\beta}$$\n",
    "$\\Rightarrow$\n",
    "$$\n",
    "\\frac{C'(F_{mid})}{C(F_{mid})}=\\frac{\\beta}{F_{mid}}\\\\\n",
    "\\frac{C''(F_{mid})}{C(F_{mid})}=\\frac{-\\beta(1-\\beta)}{F_{mid}^2}\n",
    "$$\n",
    "\n",
    "\n",
    "* $$\\epsilon=T\\alpha^2<<1$$\n",
    "\n",
    "\n",
    "* Also include SABR implied lognormal volatility\n",
    "\n",
    "\n",
    "* For ATM SABR implied vol, used formula in the original paper introducing the SABR model by Andrew. However the notations are slightly different than what we used in the class. The comparison of notations is showing below:\n",
    "\n",
    "**Original Paper** | **Our class**\n",
    "----- | -----\n",
    "$\\nu$|$\\alpha$\n",
    "$\\alpha$|$\\sigma$\n",
    "$\\beta$|$\\beta$\n",
    "$\\rho$|$\\rho$\n",
    "\n",
    "* Original paper introducing the SABR model: http://www.javaquant.net/papers/managing_smile_risk.pdf\n",
    "\n",
    "\n",
    "* Boundary conditions for SABR model with our class's notation is:\n",
    "\n",
    "$$\\sigma>0, 0<\\beta<1, -1<\\rho<1, \\alpha>0$$\n",
    "\n",
    "\n",
    "* For ATM SABR normal implied vol, we have two approaches:\n",
    "    * Convert ATM SABR lognormal vol to normal vol by using erf function\n",
    "    * By using l’Hopital’s rule\n",
    "    $$\n",
    "    \\frac{dD(\\xi)}{dK}=\\frac{dD(\\xi)}{d\\xi}\\frac{d\\xi}{dK}=\\frac{-\\alpha K^{-\\beta}}{\\sigma_0\\sqrt{1-2\\rho\\xi+\\xi^2}}\n",
    "    $$\n",
    "    $\\Rightarrow$\n",
    "    $$\n",
    "    \\left(\\frac{F0-K}{D(\\xi)}\\right)'_K=\\frac{\\sigma_0K^{\\beta}}{\\alpha }\n",
    "    $$\n",
    "    since $K\\rightarrow0$, $\\xi\\rightarrow0.$\n",
    "    \n",
    "    and\n",
    "    Denote\n",
    "    $$\n",
    "    A=\\left(1+\\left(\\frac{2\\gamma_2-\\gamma_1^2}{24}\\left(\\frac{\\sigma_0 C(F_{mid})}{\\alpha}\\right)^2+\\frac{\\rho\\gamma_1}{4}\\frac{\\sigma_0 C(F_{mid})}{\\alpha}+\\frac{2-3\\rho^2}{24}\\right)\\epsilon\\right)\\\\\n",
    "    F_{mid}=\\frac{F+K}{2}\n",
    "    $$\n",
    "    $\\Rightarrow$\n",
    "    $$\n",
    "    A'_K=\\left(\\frac{2\\beta(1-\\beta)^2\\sigma^0F_{mid}^{2\\beta-3}}{24\\alpha^2}+\\frac{\\rho\\sigma_0\\beta(\\beta-1)F_{mid}^{\\beta-2}}{8\\alpha}\\right)\\epsilon\n",
    "    $$\n",
    "    Therefore,\n",
    "    $$\n",
    "    \\sigma_n^{ATM}=\\alpha \\frac{F0-K}{D(\\xi)}A=\\sigma_0K^{\\beta}A+\\alpha \\frac{F0-K}{D(\\xi)}A'_K\n",
    "    $$\n",
    "    \n",
    "    Since for ATM SBAR normol model, $\\sigma_n^{ATM}=\\sigma_0K^{\\beta}(1+O(\\epsilon))+O(h)$, where $O(h)$ denote the part from $\\alpha \\frac{F0-K}{D(\\xi)}A'_K.$  Thus the major contribute part is $\\sigma_0K^{\\beta}$. Therefore, for ATM SABR implied normal vol, the close fomula is:\n",
    "    $$\n",
    "    \\sigma_n^{ATM}=\\sigma_0K^{\\beta}(1+O(\\epsilon))=\\sigma_n^{ATM}=\\sigma_0K^{\\beta}A\n",
    "    $$\n",
    "    \n",
    "    \n",
    "* **We chose the l’Hopital’s rule to compute ATM SABR implied normal vol**"
   ]
  },
  {
   "cell_type": "code",
   "execution_count": 12,
   "metadata": {
    "collapsed": false
   },
   "outputs": [],
   "source": [
    "def SABR_implied_Vol(T,K,F0,sigma0,alpha,beta,rho,flag):\n",
    "    '''\n",
    "    :param T: maturity\n",
    "    :param K: strike\n",
    "    :param sigma0: initial guess of market vol\n",
    "    :param alpha,beta,rho: model parameters\n",
    "    :param flag: return type: normal vol or lognormal vol\n",
    "    :return: SABR implied normal vol \n",
    "    '''\n",
    "    # Same notations in the formula\n",
    "    \n",
    "    epsilon=T*np.power(alpha,2)\n",
    "    \n",
    "    zeta=alpha*(np.power(F0,(1-beta))-np.power(K,(1-beta)))/(sigma0*(1-beta))\n",
    "    \n",
    "    D_zeta=np.log((math.sqrt(1-2*rho*zeta+np.power(zeta,2))+zeta-rho)/(1-rho))\n",
    "    \n",
    "    F_mid=(F0+K)/2\n",
    "    \n",
    "    C_mid=np.power(F_mid,beta)\n",
    "    \n",
    "    gamma1=beta/F_mid\n",
    "    gamma2=-beta*(1-beta)/np.power(F_mid,2) \n",
    "    \n",
    "    \n",
    "    # SABR implied Normal vol\n",
    "    if (flag=='n'):\n",
    "        A=1+((2*gamma2-np.power(gamma1,2))*np.power((sigma0*C_mid/alpha),2)/24+\n",
    "             rho*gamma1*sigma0*C_mid/(4*alpha)+(2-3*np.power(rho,2))/24)*epsilon\n",
    "        \n",
    "        if(F0!=K):\n",
    "            # Non-ATM\n",
    "            sigma_n=alpha*(F0-K)*A/D_zeta\n",
    "            return sigma_n\n",
    "        if(F0==K):\n",
    "            # ATM\n",
    "            A_prime=(2*beta*np.power((1-beta),2)*np.power(sigma0,2)*np.power(F_mid,(2*beta-3))/\n",
    "                    (24*np.power(alpha,2)) + rho*sigma0*beta*(beta-1)*\n",
    "                     np.power(F_mid,(beta-2))/(4*alpha))*epsilon\n",
    "            sigma_ATM_n=sigma0*np.power(K,beta)*A\n",
    "            return sigma_ATM_n\n",
    "    \n",
    "    # SABR implied lognormal vol    \n",
    "    if(flag=='ln'):\n",
    "        if(F0!=K):\n",
    "        # Non-ATM\n",
    "            A_ln=1+((2*gamma2-np.power(gamma1,2)+1/np.power(F_mid,2))*\n",
    "                    np.power((sigma0*C_mid/alpha),2)+rho*gamma1*sigma0*\n",
    "                    C_mid/(4*alpha)+(2-3*np.power(rho,2))/24)*epsilon\n",
    "            sigma_ln=alpha*np.log(F0/K)*A_ln/D_zeta\n",
    "            return sigma_ln\n",
    "        \n",
    "        if(F0==K):\n",
    "            # ATM\n",
    "            V = np.power(F0,(1-beta))\n",
    "            B = 1+(np.power((1-beta),2)*np.power(sigma0,2)/(24*np.power(F0,(2-2*beta)))+\n",
    "                   rho*beta*alpha*sigma0/(4*np.power(F0,(1-beta)))+\n",
    "                   (2-3*np.power(rho,2))*np.power(alpha,2)/24)*T\n",
    "            sigma_ATM_ln=sigma0*B/V\n",
    "            return sigma_ATM_ln\n",
    "        "
   ]
  },
  {
   "cell_type": "markdown",
   "metadata": {},
   "source": [
    "* Test SABR implied vol function"
   ]
  },
  {
   "cell_type": "code",
   "execution_count": 13,
   "metadata": {
    "collapsed": false
   },
   "outputs": [
    {
     "name": "stdout",
     "output_type": "stream",
     "text": [
      "The SABR implied normal volatility is:  0.070043\n",
      "The SABR implied lognormal volatility is:  0.158223\n"
     ]
    }
   ],
   "source": [
    "# Set up parameters\n",
    "# require: T*alpha^2<<1\n",
    "T=2\n",
    "K=0.5\n",
    "F0=0.4\n",
    "vol0=0.1\n",
    "alpha=0.3\n",
    "beta=0.5\n",
    "rho=0.0\n",
    "\n",
    "sigma_imp_n=SABR_implied_Vol(T,K,F0,vol0,alpha,beta,rho,\"n\")\n",
    "sigma_imp_ln=SABR_implied_Vol(T,K,F0,vol0,alpha,beta,rho,\"ln\")\n",
    "\n",
    "print(\"The SABR implied normal volatility is: \",\n",
    "      '{:.6f}'.format(sigma_imp_n))\n",
    "print(\"The SABR implied lognormal volatility is: \",\n",
    "      '{:.6f}'.format(sigma_imp_ln))"
   ]
  },
  {
   "cell_type": "markdown",
   "metadata": {},
   "source": [
    "### Q4: Calibrate the SABR model parameters"
   ]
  },
  {
   "cell_type": "markdown",
   "metadata": {},
   "source": [
    "* Read data from given excel file"
   ]
  },
  {
   "cell_type": "code",
   "execution_count": 14,
   "metadata": {
    "collapsed": false
   },
   "outputs": [],
   "source": [
    "# Get the data of implied vol\n",
    "df_imp=pd.read_excel(io='SwaptionVolData.xls',sheetname=0,\n",
    "                     parse_cols=\"B:O\",skiprows=4)[:6]\n",
    "# Get the data of forward swap rates\n",
    "df_fsr=pd.read_excel(io='SwaptionVolData.xls',sheetname=0,\n",
    "                     parse_cols=\"B:C\",skiprows=16)[:6]"
   ]
  },
  {
   "cell_type": "markdown",
   "metadata": {},
   "source": [
    "* From lecture notes, we know if we calibrate the parameters by fixing $\\beta=0.5$, ***\"this methodology works quite well under 'Normal' conditions\" (Quoted from lecture notes).***\n",
    "\n",
    "\n",
    "* Therefore, we calibrate the parameters by using SABR implied normal volatility\n",
    "\n",
    "\n",
    "* Use optimize.minimize in scipy. to calibrate.\n",
    "    * Ref: https://docs.scipy.org/doc/scipy/reference/generated/scipy.optimize.minimize.html\n",
    "    \n",
    "    \n",
    "* Reference paper: SABR calibration in Python.\n",
    "    * URL: https://papers.ssrn.com/sol3/papers.cfm?abstract_id=2725485"
   ]
  },
  {
   "cell_type": "code",
   "execution_count": 15,
   "metadata": {
    "collapsed": false
   },
   "outputs": [],
   "source": [
    "# Define an object function to be given to minimize() function\n",
    "def objfunc(para,beta,T,K,F0,MKvol,flag):\n",
    "    '''\n",
    "    :param para: model parameters: alpha,rho,sigma0\n",
    "    :param beta: model parameter beta fixed at 0.5\n",
    "    :param T: maturity\n",
    "    :param K: strike, 1darray like\n",
    "    :param F0: Forward swap rate\n",
    "    :MKvol: market volatility, 1darray like\n",
    "    :flag: Compute SABR normal or lognormal implied vol\n",
    "    '''\n",
    "    alpha=para[0]\n",
    "    rho=para[1]\n",
    "    sigma0=para[2]\n",
    "    \n",
    "    sum_sq_diff=0\n",
    "    for i in range(len(K)):\n",
    "        sigma_n=SABR_implied_Vol(T,K[i],F0,sigma0,alpha,beta,rho,flag)\n",
    "        sum_sq_diff=sum_sq_diff+np.power((sigma_n-MKvol[i]),2)\n",
    "#       if(sigma_n ==np.nan):\n",
    "#           print(\"Sigma_n\",sigma_n)\n",
    "#       print(\"i:\",i,\"j:\",j,\"Sigma_n\",sigma_n)\n",
    "\n",
    "    return math.sqrt(sum_sq_diff)\n",
    "    "
   ]
  },
  {
   "cell_type": "code",
   "execution_count": 16,
   "metadata": {
    "collapsed": false
   },
   "outputs": [],
   "source": [
    "# Deinfe the calibration function by using minimize() function\n",
    "def calibration(initial_para,beta,T,K,F0,MKvol,flag):\n",
    "    '''\n",
    "    All parameters are array like: 1darray except K and MKvol is pandas dataframe\n",
    "    :param initial_para: initial guess of model parameters: alpha,rho,sigma0\n",
    "    :param beta: model parameter beta fixed at 0.5\n",
    "    :param T: maturity\n",
    "    :param K: strike\n",
    "    :param F0: Forward swap rate\n",
    "    :MKvol: market volatility\n",
    "    :flag: Compute SABR normal or lognormal implied vol\n",
    "    '''    \n",
    "    # Calibrate for each given forward rate and corresponding maturity\n",
    "    alpha_cal=np.zeros(len(F0))\n",
    "    rho_cal=np.zeros(len(F0))\n",
    "    sigma0_cal=np.zeros(len(F0))\n",
    "\n",
    "    for i in range(len(F0)):\n",
    "        x0=initial_para\n",
    "        # Boundary conditionary for alpha, rho, and sigma0 based on the paper\n",
    "        # alpha: Min:0.001~Max:None\n",
    "        # rho: Min:0.001~Max:None\n",
    "        # sigma0: Min:0~Max:1\n",
    "        bound_cond=((0.001,None) , (-0.999,0.999),(0.001,None))\n",
    "        \n",
    "        res=minimize(objfunc,x0,(beta,T[i],K.iloc[i,:],F0[i],MKvol.loc[i,:],flag),\n",
    "                     bounds=bound_cond,method='SLSQP')\n",
    "        # SLSQP: constrained minimization of multivariate scalar functions\n",
    "        \n",
    "        if (res.success):\n",
    "            # If calibration process succeeded\n",
    "            alpha_cal[i]=res.x[0]\n",
    "            rho_cal[i]=res.x[1]\n",
    "            sigma0_cal[i]=res.x[2]\n",
    "        else:\n",
    "            print(\"The calibration process failed.\")\n",
    "    \n",
    "    return alpha_cal,rho_cal,sigma0_cal\n",
    "    "
   ]
  },
  {
   "cell_type": "code",
   "execution_count": 17,
   "metadata": {
    "collapsed": false
   },
   "outputs": [],
   "source": [
    "# Get the corresponding data sets\n",
    "F=df_fsr['Rate']\n",
    "bps_raw=[-250+50*x for x  in range(5)]+[-25,0,25]+[50+50*i for i in range(5)]\n",
    "bps=[i/10000 for i in bps_raw] # Change bps to %\n",
    "K=np.zeros((len(F),len(bps)))\n",
    "for i in range(len(F)):\n",
    "    for j in range(len(bps)):\n",
    "        K[i][j]=F[i]-bps[j]\n",
    "T=df_fsr['Mat yrs']\n",
    "K=pd.DataFrame(K)\n",
    "MKvol=df_imp[df_imp.columns[1:]]\n",
    "\n",
    "beta=0.5\n",
    "flag=\"n\" # SABR normal vol; \"ln\" for SABR lognormal vol\n",
    "# Initial guess of alpha, rho, sigma0\n",
    "initial_guess=[0.3,0.0,0.1]"
   ]
  },
  {
   "cell_type": "markdown",
   "metadata": {},
   "source": [
    "* Plot the market vol to check whether outliers exist"
   ]
  },
  {
   "cell_type": "code",
   "execution_count": 18,
   "metadata": {
    "collapsed": false
   },
   "outputs": [
    {
     "data": {
      "text/plain": [
       "<matplotlib.text.Text at 0x119148990>"
      ]
     },
     "execution_count": 18,
     "metadata": {},
     "output_type": "execute_result"
    },
    {
     "data": {
      "image/png": "[encoded data removed]",
      "text/plain": [
       "<matplotlib.figure.Figure at 0x116c67310>"
      ]
     },
     "metadata": {},
     "output_type": "display_data"
    }
   ],
   "source": [
    "%matplotlib inline\n",
    "plt.figure(1, figsize=(12,5))\n",
    "for i in range(len(df_imp.index)):\n",
    "    plt.plot(bps_raw,df_imp.iloc[i,1:],'x')\n",
    "    \n",
    "plt.legend(['Mat - 0.25','Mat - 0.5','Mat - 1', 'Mat - 2','Mat - 3','Mat - 5'],\n",
    "          loc='best')\n",
    "ax=plt.axes()\n",
    "ax.xaxis.set_major_locator(ticker.MultipleLocator(50))\n",
    "plt.xlabel('Basis point')\n",
    "plt.ylabel('Market Vol')\n",
    "plt.title(\"Market vol VS strike (basis point)\")"
   ]
  },
  {
   "cell_type": "markdown",
   "metadata": {},
   "source": [
    "* The raw data looks good, proceed to calibration"
   ]
  },
  {
   "cell_type": "code",
   "execution_count": 19,
   "metadata": {
    "collapsed": false
   },
   "outputs": [
    {
     "data": {
      "text/html": [
       "<div>\n",
       "<table border=\"1\" class=\"dataframe\">\n",
       "  <thead>\n",
       "    <tr style=\"text-align: right;\">\n",
       "      <th></th>\n",
       "      <th>Alpha_n</th>\n",
       "      <th>rho_n</th>\n",
       "      <th>sigma0_n</th>\n",
       "      <th>Alpha_ln</th>\n",
       "      <th>rho_ln</th>\n",
       "      <th>sigma0_ln</th>\n",
       "    </tr>\n",
       "  </thead>\n",
       "  <tbody>\n",
       "    <tr>\n",
       "      <th>0</th>\n",
       "      <td>9.599098</td>\n",
       "      <td>-0.216663</td>\n",
       "      <td>0.755626</td>\n",
       "      <td>0.558514</td>\n",
       "      <td>0.673201</td>\n",
       "      <td>0.066031</td>\n",
       "    </tr>\n",
       "    <tr>\n",
       "      <th>1</th>\n",
       "      <td>7.340077</td>\n",
       "      <td>-0.180760</td>\n",
       "      <td>0.635165</td>\n",
       "      <td>0.533979</td>\n",
       "      <td>0.696438</td>\n",
       "      <td>0.063306</td>\n",
       "    </tr>\n",
       "    <tr>\n",
       "      <th>2</th>\n",
       "      <td>5.486785</td>\n",
       "      <td>-0.132514</td>\n",
       "      <td>0.511230</td>\n",
       "      <td>0.513821</td>\n",
       "      <td>0.697775</td>\n",
       "      <td>0.059230</td>\n",
       "    </tr>\n",
       "    <tr>\n",
       "      <th>3</th>\n",
       "      <td>4.049668</td>\n",
       "      <td>-0.083373</td>\n",
       "      <td>0.398010</td>\n",
       "      <td>0.495756</td>\n",
       "      <td>0.673576</td>\n",
       "      <td>0.054918</td>\n",
       "    </tr>\n",
       "    <tr>\n",
       "      <th>4</th>\n",
       "      <td>3.317659</td>\n",
       "      <td>-0.004548</td>\n",
       "      <td>0.326366</td>\n",
       "      <td>0.491079</td>\n",
       "      <td>0.666307</td>\n",
       "      <td>0.050697</td>\n",
       "    </tr>\n",
       "    <tr>\n",
       "      <th>5</th>\n",
       "      <td>2.642101</td>\n",
       "      <td>0.091633</td>\n",
       "      <td>0.256727</td>\n",
       "      <td>0.001000</td>\n",
       "      <td>-0.073669</td>\n",
       "      <td>0.048111</td>\n",
       "    </tr>\n",
       "  </tbody>\n",
       "</table>\n",
       "</div>"
      ],
      "text/plain": [
       "    Alpha_n     rho_n  sigma0_n  Alpha_ln    rho_ln  sigma0_ln\n",
       "0  9.599098 -0.216663  0.755626  0.558514  0.673201   0.066031\n",
       "1  7.340077 -0.180760  0.635165  0.533979  0.696438   0.063306\n",
       "2  5.486785 -0.132514  0.511230  0.513821  0.697775   0.059230\n",
       "3  4.049668 -0.083373  0.398010  0.495756  0.673576   0.054918\n",
       "4  3.317659 -0.004548  0.326366  0.491079  0.666307   0.050697\n",
       "5  2.642101  0.091633  0.256727  0.001000 -0.073669   0.048111"
      ]
     },
     "execution_count": 19,
     "metadata": {},
     "output_type": "execute_result"
    }
   ],
   "source": [
    "# Calibration of SABR implied normal vol\n",
    "alpha_cal,rho_cal,sigma0_cal=calibration(initial_guess,beta=0.5,\n",
    "                                         T=T,K=K,F0=F,MKvol=MKvol,flag=flag)\n",
    "alpha_cal_ln,rho_cal_ln,sigma0_cal_ln=calibration(initial_guess,beta=0.5,\n",
    "                                         T=T,K=K,F0=F,MKvol=MKvol,flag='ln')\n",
    "para_cal=pd.DataFrame(zip(list(alpha_cal),list(rho_cal),list(sigma0_cal),\n",
    "                         list(alpha_cal_ln),list(rho_cal_ln),list(sigma0_cal_ln)),\n",
    "                      columns=['Alpha_n','rho_n','sigma0_n','Alpha_ln','rho_ln','sigma0_ln'])\n",
    "para_cal"
   ]
  },
  {
   "cell_type": "code",
   "execution_count": 20,
   "metadata": {
    "collapsed": false
   },
   "outputs": [
    {
     "name": "stdout",
     "output_type": "stream",
     "text": [
      "Calibrated alpha, rho, and sigma0 for maturity  0.25 is:  9.599098 -0.216663 0.755626\n",
      "Calibrated alpha, rho, and sigma0 for maturity  0.5 is:  7.340077 -0.180760 0.635165\n",
      "Calibrated alpha, rho, and sigma0 for maturity  1.0 is:  5.486785 -0.132514 0.511230\n",
      "Calibrated alpha, rho, and sigma0 for maturity  2.0 is:  4.049668 -0.083373 0.398010\n",
      "Calibrated alpha, rho, and sigma0 for maturity  3.0 is:  3.317659 -0.004548 0.326366\n",
      "Calibrated alpha, rho, and sigma0 for maturity  5.0 is:  2.642101 0.091633 0.256727\n"
     ]
    }
   ],
   "source": [
    "# Get the calibrated parameters\n",
    "for i in range(len(F)):\n",
    "    print(\"Calibrated alpha, rho, and sigma0 for maturity \",df_fsr.iloc[i]['Mat yrs'],\"is: \",\n",
    "          '{:.6f}'.format(alpha_cal[i]),'{:.6f}'.format(rho_cal[i]),\n",
    "          '{:.6f}'.format(sigma0_cal[i]))"
   ]
  },
  {
   "cell_type": "markdown",
   "metadata": {},
   "source": [
    "* Compute SABR implied normal volatility by using calibrated parameters"
   ]
  },
  {
   "cell_type": "code",
   "execution_count": 21,
   "metadata": {
    "collapsed": false
   },
   "outputs": [],
   "source": [
    "IMPvol=np.zeros((len(MKvol),len(MKvol.columns)))\n",
    "for i in range(len(IMPvol)):\n",
    "    for j in range(len(IMPvol[0])):\n",
    "        IMPvol[i][j]=SABR_implied_Vol(T[i],K.iloc[i,j],F[i],\n",
    "                                      sigma0_cal[i],alpha_cal[i],0.5,rho_cal[i],flag)\n",
    "# Convert matrix to pandas dataframe\n",
    "IMPvol=pd.DataFrame(IMPvol)"
   ]
  },
  {
   "cell_type": "markdown",
   "metadata": {},
   "source": [
    "#### Plot the fitted value (SABR implied vol) and market vol\n",
    "\n",
    "* Fix strike(-250 bp), plot implied vol and market vol VS froward rate"
   ]
  },
  {
   "cell_type": "code",
   "execution_count": 22,
   "metadata": {
    "collapsed": false
   },
   "outputs": [
    {
     "data": {
      "text/plain": [
       "<matplotlib.text.Text at 0x119d68c90>"
      ]
     },
     "execution_count": 22,
     "metadata": {},
     "output_type": "execute_result"
    },
    {
     "data": {
      "image/png": "[encoded data removed]",
      "text/plain": [
       "<matplotlib.figure.Figure at 0x1199fb410>"
      ]
     },
     "metadata": {},
     "output_type": "display_data"
    }
   ],
   "source": [
    "# Plot the market vol and fitted vol VS forward rate\n",
    "indcol=1  # column index in IMPvol, range(0-10), plot 3 plots once a time\n",
    "plt.figure(1, figsize=(12,8))\n",
    "\n",
    "plt.subplot(311)\n",
    "plt.plot(F,IMPvol.iloc[:,indcol],'r-',F,df_imp.iloc[:,indcol+1],'bx')\n",
    "plt.legend(['SABR','Market'],loc='best')\n",
    "#plt.xlabel('Forward rate')\n",
    "plt.ylabel('Volatility')\n",
    "plt.title(\"Market and SABR implied normal vol VS forward rate\")\n",
    "\n",
    "plt.subplot(312)\n",
    "plt.plot(F,IMPvol.iloc[:,indcol+1],'r-',F,df_imp.iloc[:,indcol+2],'bx')\n",
    "plt.legend(['SABR','Market'],loc='best')\n",
    "#plt.xlabel('Forward rate')\n",
    "plt.ylabel('Volatility')\n",
    "\n",
    "plt.subplot(313)\n",
    "plt.plot(F,IMPvol.iloc[:,indcol+2],'r-',F,df_imp.iloc[:,indcol+3],'bx')\n",
    "plt.legend(['SABR','Market'],loc='best')\n",
    "plt.xlabel('Forward rate')\n",
    "plt.ylabel('Volatility')\n"
   ]
  },
  {
   "cell_type": "code",
   "execution_count": 23,
   "metadata": {
    "collapsed": false
   },
   "outputs": [
    {
     "data": {
      "text/plain": [
       "<matplotlib.text.Text at 0x11a3617d0>"
      ]
     },
     "execution_count": 23,
     "metadata": {},
     "output_type": "execute_result"
    },
    {
     "data": {
      "image/png": "[encoded data removed]",
      "text/plain": [
       "<matplotlib.figure.Figure at 0x1199f5950>"
      ]
     },
     "metadata": {},
     "output_type": "display_data"
    }
   ],
   "source": [
    "# Plot the market vol and fitted vol VS strike\n",
    "ind=0 # Row number of maturity, range(0-5)\n",
    "fig2=plt.figure(1, figsize=(12,8))\n",
    "for ind in range(len(IMPvol)):\n",
    "    plt.plot(bps_raw,IMPvol.iloc[ind,:],'-',bps_raw,df_imp.iloc[ind,1:],'x')\n",
    "plt.legend(['Market - 0.25','SABR - 0.25','Market - 0.5','SABR - 0.5','Market - 1', 'SABR - 1',\n",
    "            'Market - 2','SABR - 2','Market - 3','SABR - 3','Market - 5','SABR - 5']\n",
    "           ,loc='upper right',fontsize=8)\n",
    "ax=plt.axes()\n",
    "ax.xaxis.set_major_locator(ticker.MultipleLocator(50))\n",
    "plt.xlabel(\"Basis point\")\n",
    "plt.ylabel('Volatility')\n",
    "plt.title(\"Market and SABR implied normal vol VS strike (basis point)\")"
   ]
  },
  {
   "cell_type": "markdown",
   "metadata": {},
   "source": [
    "### Q5: Generate correlated Gaussian random numbers"
   ]
  },
  {
   "cell_type": "markdown",
   "metadata": {},
   "source": [
    "* How to do it:\n",
    "* First assume we have two uncorrelated Gaussian random variables $X$ and $Y$ ($X$, $Y$ ~ $N(0,1)$) and we need them to be correlated with $\\rho$.\n",
    "* By letting $U=X$ and $V=\\rho X+\\sqrt{1-\\rho^2}Y$, we have two new standard normal random variables $U$ and $V$ with correlation $\\rho$.\n",
    "* We can verify that by the following proof: \n",
    "\n",
    "Obviously $U$, $V$ are still standard normal r.v.s, we only need to verify their correlation is $\\rho$. And,\n",
    "\n",
    "$$Cov(U,V)=Cov(X,\\rho X+\\sqrt{1-\\rho^2}Y)=\\rho Cov(X,X)+0=\\rho$$\n",
    "Thus, $U$ and $V$ are two standard normal random variables with correlation $\\rho$."
   ]
  },
  {
   "cell_type": "code",
   "execution_count": 24,
   "metadata": {
    "collapsed": false
   },
   "outputs": [
    {
     "data": {
      "text/plain": [
       "array([[ 1.        ,  0.51473554],\n",
       "       [ 0.51473554,  1.        ]])"
      ]
     },
     "execution_count": 24,
     "metadata": {},
     "output_type": "execute_result"
    }
   ],
   "source": [
    "x=np.random.normal(0,1,10000)\n",
    "y=np.random.normal(0,1,10000)\n",
    "rho=0.5 #We presumably set rho equal to 0.5\n",
    "u=x\n",
    "v=rho*x+math.sqrt(1-np.power(rho,2))*y\n",
    "\n",
    "#Now we have two groups of Gaussian random numbers, we verify their correlation is rho(0.5).\n",
    "np.corrcoef(u,v)"
   ]
  },
  {
   "cell_type": "markdown",
   "metadata": {},
   "source": [
    "### Q6: Generating MC paths for the SABR model"
   ]
  },
  {
   "cell_type": "code",
   "execution_count": 25,
   "metadata": {
    "collapsed": false
   },
   "outputs": [],
   "source": [
    "from numba import jit  #for computational efficiency\n",
    "@jit\n",
    "def MC_path(T,F0,sigma0,alpha,beta,rho,numStep):\n",
    "    '''\n",
    "    :param T: maturity\n",
    "    :param F0: current value of the forward\n",
    "    :param sigma0: initial guess of market vol\n",
    "    :param alpha, beta, rho: model parameters\n",
    "    :param numStep: number of steps in discretization\n",
    "    :return: MC paths of F and sigma\n",
    "    '''\n",
    "    delta_t=T/numStep #time step\n",
    "    u=np.random.normal(0,1,numStep) #generate correlated normal r.v.s\n",
    "    v=np.random.normal(0,1,numStep)\n",
    "    x=u\n",
    "    y=rho*u+math.sqrt(1-np.power(rho,2))*v\n",
    "    \n",
    "    F=np.zeros(numStep+1)\n",
    "    sigma=np.zeros(numStep+1)\n",
    "    F[0]=F0\n",
    "    sigma[0]=sigma0\n",
    "    for i in range(numStep):  #discretization\n",
    "        F[i+1]=max(F[i]+sigma[i]*np.power(F[i],beta)*math.sqrt(delta_t)*x[i],0)\n",
    "        sigma[i+1]=sigma[i]*math.exp(alpha*math.sqrt(delta_t)*y[i]-alpha**2*delta_t/2)\n",
    "    return F,sigma"
   ]
  },
  {
   "cell_type": "markdown",
   "metadata": {},
   "source": [
    "### Q7: Comparation between two methods"
   ]
  },
  {
   "cell_type": "markdown",
   "metadata": {},
   "source": [
    "* First we use Monte Carlo method to price options"
   ]
  },
  {
   "cell_type": "code",
   "execution_count": 26,
   "metadata": {
    "collapsed": false
   },
   "outputs": [],
   "source": [
    "def MC_SABR_call(T,F0,K,sigma0,alpha,beta,rho,numStep):\n",
    "    '''\n",
    "    :param T: maturity\n",
    "    :param F0: current value of the forward\n",
    "    :param K: strike\n",
    "    :param sigma0: initial guess of market vol\n",
    "    :param alpha, beta, rho: model parameters\n",
    "    :param numStep: number of steps in discretization\n",
    "    :return: call price\n",
    "    '''\n",
    "    F,sigma=MC_path(T,F0,sigma0,alpha,beta,rho,numStep)\n",
    "    F_price=F[numStep]\n",
    "    \n",
    "    call_price=max(F_price-K,0)\n",
    "\n",
    "    return call_price"
   ]
  },
  {
   "cell_type": "code",
   "execution_count": 27,
   "metadata": {
    "collapsed": true
   },
   "outputs": [],
   "source": [
    "def MC_SABR_put(T,F0,K,sigma0,alpha,beta,rho,numStep):\n",
    "    '''\n",
    "    :param T: maturity\n",
    "    :param F0: current value of the forward\n",
    "    :param K: strike\n",
    "    :param sigma0: initial guess of market vol\n",
    "    :param alpha, beta, rho: model parameters\n",
    "    :param numStep: number of steps in discretization\n",
    "    :return: put price\n",
    "    '''\n",
    "    F,sigma=MC_path(T,F0,sigma0,alpha,beta,rho,numStep)\n",
    "    F_price=F[numStep]\n",
    "    \n",
    "    put_price=max(-F_price+K,0)\n",
    "\n",
    "    return put_price"
   ]
  },
  {
   "cell_type": "code",
   "execution_count": 28,
   "metadata": {
    "collapsed": false
   },
   "outputs": [
    {
     "name": "stdout",
     "output_type": "stream",
     "text": [
      "1.19805387424e-05\n",
      "2.54735513453e-06\n",
      "5.73732967577e-05\n",
      "0.000271826178725\n",
      "0.00241607979384\n",
      "0.000861150517958\n",
      "0.00302675859162\n",
      "0.00235636627375\n",
      "0.00402267236978\n",
      "0.00224601098203\n"
     ]
    }
   ],
   "source": [
    "call=np.zeros(10)  #price the call options in Table 1 with MC method\n",
    "for j in range(5000): #get accumulated price\n",
    "    call[0]=call[0]+MC_SABR_call(0.25,0.005,0.01,0.0072,1.1,0.2,0.8,10000)\n",
    "    call[1]=call[1]+MC_SABR_call(0.25,0.05,0.06,0.0224,0.8,0.5,-0.2,10000)\n",
    "    call[2]=call[2]+MC_SABR_call(0.5,0.01,0.02,0.0400,0.8,0.5,0.7,10000)\n",
    "    call[3]=call[3]+MC_SABR_call(0.5,0.05,0.06,0.0182,0.7,0.2,-0.3,10000)\n",
    "    call[4]=call[4]+MC_SABR_call(1,0.015,0.02,0.0232,0.6,0.2,0.4,10000)\n",
    "    call[5]=call[5]+MC_SABR_call(1,0.04,0.05,0.0500,0.5,0.5,-0.3,10000)\n",
    "    call[6]=call[6]+MC_SABR_call(2,0.02,0.03,0.0707,0.5,0.5,0.3,10000)\n",
    "    call[7]=call[7]+MC_SABR_call(2,0.06,0.07,0.0176,0.5,0.2,-0.1,10000)\n",
    "    call[8]=call[8]+MC_SABR_call(5,0.05,0.06,0.0146,0.4,0.2,0.2,10000)\n",
    "    call[9]=call[9]+MC_SABR_call(5,0.05,0.07,0.0447,0.3,0.5,-0.5,10000)\n",
    "for i in range(10): \n",
    "    call[i]=call[i]/5000   #get the mean of accumulated price\n",
    "    print(call[i])"
   ]
  },
  {
   "cell_type": "code",
   "execution_count": 29,
   "metadata": {
    "collapsed": false
   },
   "outputs": [
    {
     "name": "stdout",
     "output_type": "stream",
     "text": [
      "5.06664750757e-08\n",
      "0.0\n",
      "1.51360617749e-05\n",
      "0.000274629163393\n",
      "5.12340599231e-05\n",
      "0.0011692474951\n",
      "0.000946495982603\n",
      "0.00126533985342\n",
      "0.00238602696958\n",
      "0.00266070837724\n"
     ]
    }
   ],
   "source": [
    "put=np.zeros(10) #price the put options in Table 1 with MC method\n",
    "for j in range(5000):  #get accumulated price\n",
    "    put[0]=put[0]+MC_SABR_put(0.25,0.005,0.002,0.0354,0.9,0.5,0.8,10000)\n",
    "    put[1]=put[1]+MC_SABR_put(0.25,0.04,0.02,0.0095,0.2,0.2,-0.0,10000)\n",
    "    put[2]=put[2]+MC_SABR_put(0.5,0.01,0.005,0.0400,0.7,0.5,0.4,10000)\n",
    "    put[3]=put[3]+MC_SABR_put(0.5,0.03,0.02,0.0577,0.6,0.5,-0.2,10000)\n",
    "    put[4]=put[4]+MC_SABR_put(1,0.03,0.01,0.0202,0.6,0.2,0.5,10000)\n",
    "    put[5]=put[5]+MC_SABR_put(1,0.05,0.04,0.0182,0.6,0.2,-0.5,10000)\n",
    "    put[6]=put[6]+MC_SABR_put(2,0.04,0.025,0.0500,0.5,0.5,0.2,10000)\n",
    "    put[7]=put[7]+MC_SABR_put(2,0.05,0.035,0.0447,0.5,0.5,-0.1,10000)\n",
    "    put[8]=put[8]+MC_SABR_put(5,0.05,0.035,0.0146,0.4,0.2,0.1,10000)\n",
    "    put[9]=put[9]+MC_SABR_put(5,0.06,0.04,0.0176,0.4,0.2,0.0,10000)\n",
    "for i in range(10):\n",
    "    put[i]=put[i]/5000  #get the mean of accumulated price\n",
    "    print(put[i])"
   ]
  },
  {
   "cell_type": "markdown",
   "metadata": {},
   "source": [
    "* Next, we compute the SABR implied volatility for Normal mdel and then price the options with Normal model"
   ]
  },
  {
   "cell_type": "code",
   "execution_count": 30,
   "metadata": {
    "collapsed": false
   },
   "outputs": [],
   "source": [
    "def price_normal_call(T,F0,K,sigma0,alpha,beta,rho):\n",
    "    '''\n",
    "    :param T: maturity\n",
    "    :param F0: current value of the forward\n",
    "    :param K: strike\n",
    "    :param sigma0: initial guess of market vol\n",
    "    :param alpha, beta, rho: model parameters\n",
    "    :param numStep: number of steps in discretization\n",
    "    :return: put price\n",
    "    '''\n",
    "    #Compute Zeta by formula (15) in lecture notes 4 and then D_zeta\n",
    "    zeta=alpha/sigma0/(1-beta)*(F0**(1-beta)-K**(1-beta))\n",
    "    D_zeta=math.log((math.sqrt(1-2*rho*zeta+zeta**2)+zeta-rho)/(1-rho))\n",
    "    #Compute implied normal volatility in the case of normal SABR model\n",
    "    vol=alpha*(F0-K)/D_zeta\n",
    "    #price the call option with Normal model\n",
    "    disc=1\n",
    "    d1=(F0-K)/(vol*math.sqrt(T))\n",
    "    d2=-d1\n",
    "    call_price=disc*vol*math.sqrt(T)*(d1*norm.cdf(d1)+\n",
    "                                                    math.exp(-0.5*d1*d1)/math.sqrt(2*np.pi))\n",
    "    return call_price"
   ]
  },
  {
   "cell_type": "code",
   "execution_count": 31,
   "metadata": {
    "collapsed": false
   },
   "outputs": [
    {
     "name": "stdout",
     "output_type": "stream",
     "text": [
      "1.48852015304e-05\n",
      "4.17083996541e-07\n",
      "6.96554792992e-05\n",
      "0.000243898007978\n",
      "0.00233951944152\n",
      "0.000888178928002\n",
      "0.00297764024029\n",
      "0.00214544994626\n",
      "0.00386610998723\n",
      "0.00220100669614\n"
     ]
    }
   ],
   "source": [
    "call_normal=np.zeros(10)\n",
    "call_normal[0]=price_normal_call(0.25,0.005,0.01,0.0072,1.1,0.2,0.8)\n",
    "call_normal[1]=price_normal_call(0.25,0.05,0.06,0.0224,0.8,0.5,-0.2)\n",
    "call_normal[2]=price_normal_call(0.5,0.01,0.02,0.0400,0.8,0.5,0.7)\n",
    "call_normal[3]=price_normal_call(0.5,0.05,0.06,0.0182,0.7,0.2,-0.3)\n",
    "call_normal[4]=price_normal_call(1,0.015,0.02,0.0232,0.6,0.2,0.4)\n",
    "call_normal[5]=price_normal_call(1,0.04,0.05,0.0500,0.5,0.5,-0.3)\n",
    "call_normal[6]=price_normal_call(2,0.02,0.03,0.0707,0.5,0.5,0.3)\n",
    "call_normal[7]=price_normal_call(2,0.06,0.07,0.0176,0.5,0.2,-0.1)\n",
    "call_normal[8]=price_normal_call(5,0.05,0.06,0.0146,0.4,0.2,0.2)\n",
    "call_normal[9]=price_normal_call(5,0.05,0.07,0.0447,0.3,0.5,-0.5)\n",
    "\n",
    "for i in range(10):\n",
    "    print(call_normal[i])"
   ]
  },
  {
   "cell_type": "code",
   "execution_count": 32,
   "metadata": {
    "collapsed": true
   },
   "outputs": [],
   "source": [
    "def price_normal_put(T,F0,K,sigma0,alpha,beta,rho):\n",
    "    '''\n",
    "    :param T: maturity\n",
    "    :param F0: current value of the forward\n",
    "    :param K: strike\n",
    "    :param sigma0: initial guess of market vol\n",
    "    :param alpha, beta, rho: model parameters\n",
    "    :param numStep: number of steps in discretization\n",
    "    :return: put price\n",
    "    '''\n",
    "    #Compute Zeta by formula (15) in lecture notes 4 and then D_zeta\n",
    "    zeta=alpha/sigma0/(1-beta)*(F0**(1-beta)-K**(1-beta))\n",
    "    D_zeta=math.log((math.sqrt(1-2*rho*zeta+zeta**2)+zeta-rho)/(1-rho))\n",
    "    #Compute implied normal volatility in the case of normal SABR model\n",
    "    vol=alpha*(F0-K)/D_zeta\n",
    "    #price the put option with Normal model\n",
    "    disc=1\n",
    "    d1=(F0-K)/(vol*math.sqrt(T))\n",
    "    d2=-d1\n",
    "    put_price=disc*vol*math.sqrt(T)*(d2*norm.cdf(d2)+\n",
    "                                                   math.exp(-0.5*d2*d2)/math.sqrt(2*np.pi))\n",
    "    return put_price"
   ]
  },
  {
   "cell_type": "code",
   "execution_count": 33,
   "metadata": {
    "collapsed": false
   },
   "outputs": [
    {
     "name": "stdout",
     "output_type": "stream",
     "text": [
      "2.19402644673e-09\n",
      "1.67821316574e-18\n",
      "1.33181551527e-05\n",
      "0.000268661029597\n",
      "3.06109286885e-05\n",
      "0.00122969518057\n",
      "0.000805055310936\n",
      "0.00116326911866\n",
      "0.00211645581339\n",
      "0.00263279561313\n"
     ]
    }
   ],
   "source": [
    "put_normal=np.zeros(10)\n",
    "put_normal[0]=price_normal_put(0.25,0.005,0.002,0.0354,0.9,0.5,0.8)\n",
    "put_normal[1]=price_normal_put(0.25,0.04,0.02,0.0095,0.2,0.2,-0.0)\n",
    "put_normal[2]=price_normal_put(0.5,0.01,0.005,0.0400,0.7,0.5,0.4)\n",
    "put_normal[3]=price_normal_put(0.5,0.03,0.02,0.0577,0.6,0.5,-0.2)\n",
    "put_normal[4]=price_normal_put(1,0.03,0.01,0.0202,0.6,0.2,0.5)\n",
    "put_normal[5]=price_normal_put(1,0.05,0.04,0.0182,0.6,0.2,-0.5)\n",
    "put_normal[6]=price_normal_put(2,0.04,0.025,0.0500,0.5,0.5,0.2)\n",
    "put_normal[7]=price_normal_put(2,0.05,0.035,0.0447,0.5,0.5,-0.1)\n",
    "put_normal[8]=price_normal_put(5,0.05,0.035,0.0146,0.4,0.2,0.1)\n",
    "put_normal[9]=price_normal_put(5,0.06,0.04,0.0176,0.4,0.2,0.0)\n",
    "\n",
    "for i in range(10):\n",
    "    print(put_normal[i])"
   ]
  },
  {
   "cell_type": "markdown",
   "metadata": {},
   "source": [
    "* In the end, we compare the results given by two different methods."
   ]
  },
  {
   "cell_type": "code",
   "execution_count": 34,
   "metadata": {
    "collapsed": true
   },
   "outputs": [],
   "source": [
    "%matplotlib inline"
   ]
  },
  {
   "cell_type": "code",
   "execution_count": 35,
   "metadata": {
    "collapsed": false
   },
   "outputs": [
    {
     "data": {
      "text/plain": [
       "<matplotlib.legend.Legend at 0x11a3f8910>"
      ]
     },
     "execution_count": 35,
     "metadata": {},
     "output_type": "execute_result"
    },
    {
     "data": {
      "image/png": "[encoded data removed]",
      "text/plain": [
       "<matplotlib.figure.Figure at 0x11d217a10>"
      ]
     },
     "metadata": {},
     "output_type": "display_data"
    }
   ],
   "source": [
    "plt.plot(call)\n",
    "plt.plot(call_normal)\n",
    "plt.xlabel('No. of call option')\n",
    "plt.ylabel('price')\n",
    "plt.legend(['Monte Carlo','Black Normal Model'],loc='best')"
   ]
  },
  {
   "cell_type": "code",
   "execution_count": 36,
   "metadata": {
    "collapsed": false
   },
   "outputs": [
    {
     "data": {
      "text/plain": [
       "<matplotlib.legend.Legend at 0x11d25a750>"
      ]
     },
     "execution_count": 36,
     "metadata": {},
     "output_type": "execute_result"
    },
    {
     "data": {
      "image/png": "[encoded data removed]",
      "text/plain": [
       "<matplotlib.figure.Figure at 0x11d32ecd0>"
      ]
     },
     "metadata": {},
     "output_type": "display_data"
    }
   ],
   "source": [
    "plt.plot(put)\n",
    "plt.plot(put_normal)\n",
    "plt.xlabel('No. of put option')\n",
    "plt.ylabel('price')\n",
    "plt.legend(['Monte Carlo','Black Normal Model'],loc='best')"
   ]
  },
  {
   "cell_type": "markdown",
   "metadata": {},
   "source": [
    "* From the graphs, we find the prices of options given by Monte Carlo method and Black Formula are quite matched."
   ]
  }
 ],
 "metadata": {
  "kernelspec": {
   "display_name": "Python 2",
   "language": "python",
   "name": "python2"
  },
  "language_info": {
   "codemirror_mode": {
    "name": "ipython",
    "version": 2
   },
   "file_extension": ".py",
   "mimetype": "text/x-python",
   "name": "python",
   "nbconvert_exporter": "python",
   "pygments_lexer": "ipython2",
   "version": "2.7.13"
  }
 },
 "nbformat": 4,
 "nbformat_minor": 2
}
