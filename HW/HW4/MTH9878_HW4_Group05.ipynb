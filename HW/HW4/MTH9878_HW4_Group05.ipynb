{
 "cells": [
  {
   "cell_type": "markdown",
   "metadata": {
    "collapsed": true
   },
   "source": [
    "## MTH9878 Interest Rate Models HW4\n",
    "### Answers of Q1-4\n",
    "* Group 05\n",
    "* Author: Pan, Hongchao & Zhang, Chendi\n",
    "* Kernel version: Python 2.7\n",
    "* Packages: pandas, numpy, datetime, matplotlib, scipy\n",
    "* Data: \n",
    "* Notes:"
   ]
  },
  {
   "cell_type": "code",
   "execution_count": 1,
   "metadata": {
    "collapsed": true
   },
   "outputs": [],
   "source": [
    "# load packages/features from version 3.x\n",
    "from __future__ import absolute_import, print_function, division\n",
    "# load packages\n",
    "import pandas as pd\n",
    "import numpy as np\n",
    "import math\n",
    "import matplotlib.pyplot as plt\n",
    "from scipy.stats import norm\n",
    "from scipy.optimize import minimize # SABR calibration"
   ]
  },
  {
   "cell_type": "markdown",
   "metadata": {},
   "source": [
    "### Q1: Implement normal and lognormal model"
   ]
  },
  {
   "cell_type": "markdown",
   "metadata": {},
   "source": [
    "* Normal model by using forward price\n",
    "\n",
    "\n",
    "* $N(x)=\\frac{1}{\\sqrt{2\\pi}}\\int_{-\\infty}^x e^{-\\frac{z^2}{2}}dz$\n",
    "\n",
    "\n",
    "* $N'(x)=\\frac{1}{\\sqrt{2\\pi}}e^{-\\frac{x^2}{2}}$"
   ]
  },
  {
   "cell_type": "code",
   "execution_count": 2,
   "metadata": {
    "collapsed": true
   },
   "outputs": [],
   "source": [
    "def Normal_forward(r,t,T,K,F0,vol,opt_type=None):\n",
    "    '''\n",
    "    :param r: interest rate, 0 in this question\n",
    "    :param t: start date\n",
    "    :param T: maturity data\n",
    "    :param K: strike\n",
    "    :param F0: forward price at time t\n",
    "    :param vol: volatility\n",
    "    :param opt_type: indicator of call or put option\n",
    "    return: option price\n",
    "    '''\n",
    "    # Compute d1 and d2 in normal model\n",
    "    # Reference: formula (25) in lecture notes 3\n",
    "    d1=(F0-K)/(vol*math.sqrt(T-t))\n",
    "    d2=-d1\n",
    "    \n",
    "    call_price=math.exp(-r*(T-t))*vol*math.sqrt(T-t)*(d1*norm.cdf(d1)+\n",
    "                                                    math.exp(-0.5*d1*d1)/math.sqrt(2*np.pi))\n",
    "    put_price=math.exp(-r*(T-t))*vol*math.sqrt(T-t)*(d2*norm.cdf(d2)+\n",
    "                                                   math.exp(-0.5*d2*d2)/math.sqrt(2*np.pi))\n",
    "    \n",
    "    if(opt_type is None):\n",
    "        print(\"Normal model: No option type indicated, assuming CALL.\")\n",
    "        return call_price\n",
    "    if (opt_type.upper()==\"CALL\"):\n",
    "        return call_price\n",
    "    if(opt_type.upper()==\"PUT\"):\n",
    "        return put_price\n",
    "    else:\n",
    "        print(\"Option type is invaild.\")\n",
    "        return -1"
   ]
  },
  {
   "cell_type": "markdown",
   "metadata": {},
   "source": [
    "* Lognormal model - BS model by using forward price"
   ]
  },
  {
   "cell_type": "code",
   "execution_count": 3,
   "metadata": {
    "collapsed": true
   },
   "outputs": [],
   "source": [
    "def BS_forward(r,t,T,K,F0,vol,opt_type=None):\n",
    "    '''\n",
    "    :param r: interest rate, 0 in this question\n",
    "    :param t: start date\n",
    "    :param T: maturity data\n",
    "    :param K: strike\n",
    "    :param F0: forward price at time t\n",
    "    :param vol: volatility\n",
    "    :param opt_type: indicator of call or put option\n",
    "    return: option price\n",
    "    '''\n",
    "    # Reference: formula (6) in lecture notes 3 and\n",
    "    # https://github.com/hongchaopan/Baruch_AC/blob/master/black_scholes.py\n",
    "    d1=(np.log(F0/K)+(0.5*vol*vol)*(T-t))/(vol*math.sqrt(T-t))\n",
    "    d2=d1-vol*math.sqrt(T-t)\n",
    "    \n",
    "    call_price=np.exp(-r*(T-t))*(F0*norm.cdf(d1)-K*norm.cdf(d2))\n",
    "    put_price=np.exp(-r*(T-t))*(K*norm.cdf(-d2)-F0*norm.cdf(-d1))\n",
    "    \n",
    "    if(opt_type is None):\n",
    "        print(\"Normal model: No option type indicated, assuming CALL.\")\n",
    "        return call_price\n",
    "    if (opt_type.upper()==\"CALL\"):\n",
    "        return call_price\n",
    "    if(opt_type.upper()==\"PUT\"):\n",
    "        return put_price\n",
    "    else:\n",
    "        print(\"Option type is invaild.\")\n",
    "        return -1"
   ]
  },
  {
   "cell_type": "markdown",
   "metadata": {},
   "source": [
    "* **Test normal and Lognormal model**"
   ]
  },
  {
   "cell_type": "code",
   "execution_count": 4,
   "metadata": {
    "collapsed": false
   },
   "outputs": [],
   "source": [
    "# Set up parameters\n",
    "# Since the Q1-Q4 assumed the discount factors =1, \n",
    "# r should be 0 and assume q=0 (no dividend)\n",
    "r=0\n",
    "t=0\n",
    "T=2\n",
    "K=1\n",
    "F0=0.8\n",
    "vol=0.4\n",
    "option=[\"CALL\",\"PUT\"]\n",
    "# Compute the option prices\n",
    "prices=[]\n",
    "prices.append(Normal_forward(r,t,T,K,F0,vol,option[0]))\n",
    "prices.append(Normal_forward(r,t,T,K,F0,vol,option[1]))\n",
    "prices.append(BS_forward(r,t,T,K,F0,vol,option[0]))\n",
    "prices.append(BS_forward(r,t,T,K,F0,vol,option[1]))"
   ]
  },
  {
   "cell_type": "markdown",
   "metadata": {},
   "source": [
    "* Check the results\n",
    "\n",
    "* BS formula using stock price\n",
    "$$\n",
    "P^{\\text{call}}=S_0^{-q(T-t)}N(d_1)-Ke^{-r(T-t)}N(d_2)\\\\\n",
    "P^{\\text{put}}=Ke^{-r(T-t)}N(-d_2)-S_0^{-q(T-t)}N(-d_1)\n",
    "$$\n",
    "with\n",
    "$$\n",
    "d_1=\\frac{log\\left(\\frac{S_0}{K}\\right)+\\left(r-q+\\frac{1}{2}\\sigma^2\\right)(T-t)}{\\sigma\\sqrt{T-t}}\\\\\n",
    "d_2=d_1-\\sigma\\sqrt{T-t}\n",
    "$$\n",
    "Therefore, if r=q=0, changing $S_0$ to $F_0$, we will get BS formula using forward price. Thus, we can us BS online calculator to verify BS price.\n",
    "\n",
    "\n",
    "* BS online calculator: http://www.math.drexel.edu/~pg/fin/VanillaCalculator.html"
   ]
  },
  {
   "cell_type": "code",
   "execution_count": 5,
   "metadata": {
    "collapsed": false
   },
   "outputs": [
    {
     "name": "stdout",
     "output_type": "stream",
     "text": [
      "The call price from Normal model is:  0.139635465\n",
      "The call price from Lognormal model is:  0.115343791\n",
      "The put price from Normal model is:  0.339635465\n",
      "The put price from Lognormal model is:  0.315343791\n"
     ]
    }
   ],
   "source": [
    "print(\"The call price from Normal model is: \", '{:.9f}'.format(prices[0]))\n",
    "print(\"The call price from Lognormal model is: \",'{:.9f}'.format(prices[2]))\n",
    "print(\"The put price from Normal model is: \",'{:.9f}'.format(prices[1]))\n",
    "print(\"The put price from Lognormal model is: \",'{:.9f}'.format(prices[3]))"
   ]
  },
  {
   "cell_type": "markdown",
   "metadata": {},
   "source": [
    "### Q2: Convert lognormal implied vol to normal implied vol"
   ]
  },
  {
   "cell_type": "markdown",
   "metadata": {},
   "source": [
    "* Define functions to compute lognormal implied vol\n",
    "\n",
    "* Set $f(\\sigma)=P_{ln}-P_M$, where $P_M$ is market price\n",
    "$\\Rightarrow$\n",
    "$$\n",
    "\\frac{df}{d\\sigma}=\\frac{P_{ln}}{d\\sigma}=\\text{Vega}_{ln}\n",
    "$$\n",
    "\n",
    "\n",
    "* $$P_{ln}=e^{-r(T-t)}[F_0N(d_1)-KN(d_2)]$$\n",
    "with \n",
    "$$\n",
    "d_{1,2}=\\frac{log(\\frac{F_0}{K})\\pm \\frac{\\sigma^2}{2}(T-t)}{\\sigma\\sqrt{(T-t)}}\n",
    "$$\n",
    "$\\Rightarrow$\n",
    "$$\n",
    "\\text{Vega}_{ln}=e^{-r(T-t)}[F_0N'(d_1)\\frac{dd_1}{d\\sigma}-KN'(d_2)\\frac{dd_2}{d\\sigma}]\n",
    "$$\n",
    "with\n",
    "$$\n",
    "N'(x)=\\frac{1}{\\sqrt{2\\pi}}e^{\\frac{-x^2}{2}}\\\\\n",
    "\\frac{dd_1}{d\\sigma}=\\frac{log(\\frac{F_0}{K})}{\\sqrt{(T-t)}}\\left(-\\frac{1}{\\sigma^2}\\right)+\\frac{\\sqrt{(T-t)}}{2}\\\\\n",
    "\\frac{dd_2}{d\\sigma}=\\frac{log(\\frac{F_0}{K})}{\\sqrt{(T-t)}}\\left(-\\frac{1}{\\sigma^2}\\right)-\\frac{\\sqrt{(T-t)}}{2}\n",
    "$$"
   ]
  },
  {
   "cell_type": "markdown",
   "metadata": {},
   "source": [
    "* Define function to compute Vega"
   ]
  },
  {
   "cell_type": "code",
   "execution_count": 6,
   "metadata": {
    "collapsed": true
   },
   "outputs": [],
   "source": [
    "# Define a function to compute N'(x)\n",
    "\n",
    "def N_prime(x):\n",
    "    return math.exp(-0.5*x*x)/math.sqrt(2*np.pi)\n",
    "\n",
    "def Vega_forward(r,t,T,K,F0,vol):\n",
    "    '''\n",
    "    :param r: interest rate, 0 in this question\n",
    "    :param t: start date\n",
    "    :param T: maturity data\n",
    "    :param K: strike\n",
    "    :param F0: forward price at time t\n",
    "    No option type needed, since Vega for BS put and BS call are the same\n",
    "    return: Vega in BS formed by forward price\n",
    "    '''\n",
    "    d1=(np.log(F0/K)+(0.5*vol*vol)*(T-t))/(vol*math.sqrt(T-t))\n",
    "    d2=d1-vol*math.sqrt(T-t)    \n",
    "    \n",
    "    d1_prime=-np.log(F0/K)/(math.sqrt(T-t)*vol*vol)+math.sqrt(T-t)/2\n",
    "    d2_prime=d1_prime-math.sqrt(T-t)\n",
    "    \n",
    "    return math.exp(-r*(T-t))*(F0*N_prime(d1)*d1_prime-K*N_prime(d2)*d2_prime)\n",
    "    "
   ]
  },
  {
   "cell_type": "code",
   "execution_count": 7,
   "metadata": {
    "collapsed": false
   },
   "outputs": [],
   "source": [
    "def imp_vol_BS_forward(r,t,T,K,F0,P,tol,opt_type=None):\n",
    "    '''\n",
    "    :param r: interest rate, 0 in this question\n",
    "    :param t: start date\n",
    "    :param T: maturity data\n",
    "    :param K: strike\n",
    "    :param F0: forward price at time t\n",
    "    :param P: market price\n",
    "    :param opt_type: indicator of call or put option\n",
    "    :param tol: tolerence for declaring convergence of Newtown's method\n",
    "    return: implied lognormal volatility\n",
    "    '''\n",
    "    x0=0.25 # Initial guess: 25% volatility\n",
    "    x_new=x0\n",
    "    x_old=x0-1\n",
    "    # f_x and f_prime is given here\n",
    "\n",
    "    while abs(x_new-x_old)>tol:\n",
    "        x_old=x_new\n",
    "        V_BS=BS_forward(r,t,T,K,F0,x_new,opt_type)\n",
    "        V_vega=Vega_forward(r,t,T,K,F0,x_new)\n",
    "        x_new=x_new-(V_BS-P)/V_vega\n",
    "\n",
    "    return x_new"
   ]
  },
  {
   "cell_type": "code",
   "execution_count": 8,
   "metadata": {
    "collapsed": false
   },
   "outputs": [
    {
     "name": "stdout",
     "output_type": "stream",
     "text": [
      "The implied lognormal volatility computed by given Call option is:  0.365656\n",
      "The implied lognormal volatility computed by given Put option is:  0.365656\n"
     ]
    }
   ],
   "source": [
    "# Compute lognormal volatility\n",
    "# Use parameters in Q1\n",
    "r=0\n",
    "t=0\n",
    "T_ln=2\n",
    "K=1\n",
    "F0_ln=0.8\n",
    "#vol=0.4\n",
    "option=[\"CALL\",\"PUT\"]\n",
    "# Market Put price\n",
    "P_m=0.3\n",
    "# Market Call price\n",
    "C_m=0.1\n",
    "sigma_ln_C=imp_vol_BS_forward(r,t,T_ln,K,F0_ln,C_m,tol=1e-6,opt_type=option[0])\n",
    "sigma_ln_P=imp_vol_BS_forward(r,t,T_ln,K,F0_ln,P_m,tol=1e-6,opt_type=option[1])\n",
    "print(\"The implied lognormal volatility computed by given Call option is: \",\n",
    "      '{:.6f}'.format(sigma_ln_C))\n",
    "print(\"The implied lognormal volatility computed by given Put option is: \",\n",
    "      '{:.6f}'.format(sigma_ln_P))"
   ]
  },
  {
   "cell_type": "markdown",
   "metadata": {},
   "source": [
    "* Convert implied lognormal volatility to normal implied volatility based on formula of Q2(a) in HW3\n",
    "\n",
    "* The formula is given as:\n",
    "$$\n",
    "\\sigma_n=\\sqrt{\\frac{2\\pi}{T}}F_0\\text{erf} \\left(\\frac{\\sqrt{T}}{2\\sqrt{2}}\\sigma_{ln}\\right)\n",
    "$$\n",
    "with\n",
    "$$\n",
    "\\text{erf}(x)=\\frac{2}{\\sqrt{\\pi}}\\int_0^xe^{-u^2}du\n",
    "$$"
   ]
  },
  {
   "cell_type": "markdown",
   "metadata": {},
   "source": [
    "* Define the error function by using Simpson's rule\n",
    "\n",
    "* Reference: https://github.com/hongchaopan/Baruch_AC/blob/master/Numerical_integration_methods.py"
   ]
  },
  {
   "cell_type": "code",
   "execution_count": 9,
   "metadata": {
    "collapsed": true
   },
   "outputs": [],
   "source": [
    "def f_x(x):\n",
    "    '''\n",
    "    Function in the integration part\n",
    "    '''\n",
    "    return math.exp(-x*x)\n",
    "\n",
    "# Simpson's rule\n",
    "def simpson_rule(a,b,f,n):\n",
    "    '''\n",
    "    :param a: left endpoint\n",
    "    :param b: right endpoint\n",
    "    :param f: to be integrated function\n",
    "    :param n: number of partition intervals\n",
    "    '''\n",
    "    h= (b-a)/n\n",
    "    result=(f(a) + f(b))/6\n",
    "\n",
    "    for i in range(1, n):\n",
    "        result += f(a + i*h)/3\n",
    "    for i in range(1, n+1):\n",
    "        result += 2*f(a + (i-0.5)*h)/3\n",
    "\n",
    "    return result*h\n",
    "\n",
    "# Convergence\n",
    "def approx_val_tol(f_med,a,b,f,n,tol):\n",
    "    '''\n",
    "    :param f_med: approximation method: mid_point/Trapezoidal/Simpson's rule\n",
    "    :param a: left endpoint\n",
    "    :param b: right endpoint\n",
    "    :param f: to be integrated function\n",
    "    :param n: starting number of partition intervals\n",
    "    :param tol: tolerence for declaring convergence\n",
    "    '''\n",
    "    #tol=5e-7\n",
    "    result_old=f_med(a,b,f,n)\n",
    "    n=2*n # Using doubling strategy\n",
    "    result_new=f_med(a,b,f,n)\n",
    "\n",
    "    while(abs(result_old-result_new)>tol):\n",
    "        result_old=result_new\n",
    "        n=2*n\n",
    "        result_new=f_med(a,b,f,n)\n",
    "\n",
    "    return result_new\n",
    "\n",
    "# erf function\n",
    "\n",
    "def erf(a,b,f,n,tol):\n",
    "    '''\n",
    "    :param a: left endpoint\n",
    "    :param b: right endpoint\n",
    "    :param f: to be integrated function\n",
    "    :param n: starting number of partition intervals\n",
    "    :param tol: tolerence for declaring convergence\n",
    "    '''\n",
    "    return approx_val_tol(simpson_rule,a,b,f,n,tol)"
   ]
  },
  {
   "cell_type": "code",
   "execution_count": 10,
   "metadata": {
    "collapsed": false
   },
   "outputs": [
    {
     "name": "stdout",
     "output_type": "stream",
     "text": [
      "The value of erf is:  0.180811357\n"
     ]
    }
   ],
   "source": [
    "# Compute erf\n",
    "a=0\n",
    "b=math.sqrt(T_ln)*sigma_ln_C/(2*math.sqrt(2))\n",
    "n=4 # Starting intervals\n",
    "tol=1e-9\n",
    "erf_ln=erf(a,b,f_x,n,tol)\n",
    "print(\"The value of erf is: \",'{:.9f}'.format(erf_ln))"
   ]
  },
  {
   "cell_type": "markdown",
   "metadata": {},
   "source": [
    "* Convert the implied lognormal volatility to implied normal volatility"
   ]
  },
  {
   "cell_type": "code",
   "execution_count": 11,
   "metadata": {
    "collapsed": false
   },
   "outputs": [
    {
     "name": "stdout",
     "output_type": "stream",
     "text": [
      "The implied normal volatility converted from implied lognormal volatility is:  0.256384\n"
     ]
    }
   ],
   "source": [
    "sigma_n=math.sqrt(2*np.pi/T_ln)*F0_ln*erf_ln\n",
    "print(\"The implied normal volatility converted from implied lognormal volatility is: \",\n",
    "      '{:.6f}'.format(sigma_n))"
   ]
  },
  {
   "cell_type": "markdown",
   "metadata": {},
   "source": [
    "### Q3: Implement SABR implied normal volatility\n",
    "\n",
    "* Reference: Use formula (14) approximately SABR implied normal volatility in Lecture notes 4 to avoid $O(\\epsilon)$ in formula (13) and SABR item in Wikipedia: https://en.wikipedia.org/wiki/SABR_volatility_model\n",
    "\n",
    "\n",
    "* $$C(F_{mid})=F_{mid}^{\\beta}$$\n",
    "$\\Rightarrow$\n",
    "$$\n",
    "\\frac{C'(F_{mid})}{C(F_{mid})}=\\frac{\\beta}{F_{mid}}\\\\\n",
    "\\frac{C''(F_{mid})}{C(F_{mid})}=\\frac{-\\beta(1-\\beta)}{F_{mid}^2}\n",
    "$$\n",
    "\n",
    "\n",
    "* $$\\epsilon=T\\alpha^2<<1$$\n",
    "\n",
    "\n",
    "* Also include SABR implied lognormal volatility\n",
    "\n",
    "\n",
    "* For ATM SABR implied vol, used formula in the original paper introducing the SABR model by Andrew. However the notations are slightly different than what we used in the class. The comparison of notations is showing below:\n",
    "\n",
    "**Original Paper** | **Our class**\n",
    "----- | -----\n",
    "$\\nu$|$\\alpha$\n",
    "$\\alpha$|$\\sigma$\n",
    "$\\beta$|$\\beta$\n",
    "$\\rho$|$\\rho$\n",
    "\n",
    "* Original paper introducing the SABR model: http://www.javaquant.net/papers/managing_smile_risk.pdf\n",
    "\n",
    "\n",
    "* Boundary conditions for SABR model with our class's notation is:\n",
    "\n",
    "$$\\sigma>0, 0<\\beta<1, -1<\\rho<1, \\alpha>0$$"
   ]
  },
  {
   "cell_type": "code",
   "execution_count": 12,
   "metadata": {
    "collapsed": true
   },
   "outputs": [],
   "source": [
    "def SABR_implied_Vol(T,K,F0,sigma0,alpha,beta,rho,flag):\n",
    "    '''\n",
    "    :param T: maturity\n",
    "    :param K: strike\n",
    "    :param sigma0: initial guess of market vol\n",
    "    :param alpha,beta,rho: model parameters\n",
    "    :param flag: return type: normal vol or lognormal vol\n",
    "    :return: SABR implied normal vol \n",
    "    '''\n",
    "    # Same notations in the formula\n",
    "    \n",
    "    epsilon=T*np.power(alpha,2)\n",
    "    \n",
    "    eta=alpha*(np.power(F0,(1-beta))-np.power(K,(1-beta)))/(sigma0*(1-beta))\n",
    "    \n",
    "    D_eta=np.log((math.sqrt(1-2*rho*eta+np.power(eta,2))+eta-rho)/(1-rho))\n",
    "    \n",
    "    F_mid=(F0+K)/2\n",
    "    \n",
    "    C_mid=np.power(F_mid,beta)\n",
    "    \n",
    "    gamma1=beta/F_mid\n",
    "    gamma2=-beta*(1-beta)/np.power(F_mid,2)\n",
    "    \n",
    "    sigma_n=alpha*(F0-K)*(1+((2*gamma2-np.power(gamma1,2))*np.power((sigma0*C_mid/alpha),2)+\n",
    "                            rho*gamma1*sigma0*C_mid/(4*alpha)+(2-3*np.power(rho,2))/24)*epsilon)/D_eta\n",
    "    \n",
    "    \n",
    "    sigma_ln=alpha*np.log(F0/K)*(1+((2*gamma2-np.power(gamma1,2)+1/np.power(F_mid,2))*np.power((sigma0*C_mid/alpha),2)+\n",
    "                            rho*gamma1*sigma0*C_mid/(4*alpha)+(2-3*np.power(rho,2))/24)*epsilon)/D_eta\n",
    "    \n",
    "    # For ATM SABR implied vol\n",
    "    V = np.power(F0,(1-beta))\n",
    "    A = 1+(np.power((1-beta),2)*np.power(sigma0,2)/(24*np.power(F0,(2-2*beta)))+\n",
    "          rho*beta*alpha*sigma0/(4*np.power(F0,(1-beta)))+\n",
    "           (2-3*np.power(rho,2))*np.power(alpha,2)/24)*T\n",
    "    \n",
    "    sigma_ATM=sigma0*A/V\n",
    "    \n",
    "    if (F0==K):\n",
    "        return sigma_ATM\n",
    "    if (F0!=K):\n",
    "        if (flag==\"n\"):\n",
    "            # SABR implied normal vol\n",
    "            return sigma_n\n",
    "        if (flag==\"ln\"):\n",
    "            # SABR implied lognormal vol\n",
    "            return sigma_ln\n",
    "    "
   ]
  },
  {
   "cell_type": "markdown",
   "metadata": {},
   "source": [
    "* Test SABR implied vol function"
   ]
  },
  {
   "cell_type": "code",
   "execution_count": 13,
   "metadata": {
    "collapsed": false
   },
   "outputs": [
    {
     "name": "stdout",
     "output_type": "stream",
     "text": [
      "The SABR implied normal volatility is:  0.067835\n",
      "The SABR implied lognormal volatility is:  0.158223\n"
     ]
    }
   ],
   "source": [
    "# Set up parameters\n",
    "# require: T*alpha^2<<1\n",
    "T=2\n",
    "K=0.5\n",
    "F0=0.4\n",
    "vol0=0.1\n",
    "alpha=0.3\n",
    "beta=0.5\n",
    "rho=0.0\n",
    "\n",
    "sigma_imp_n=SABR_implied_Vol(T,K,F0,vol0,alpha,beta,rho,\"n\")\n",
    "sigma_imp_ln=SABR_implied_Vol(T,K,F0,vol0,alpha,beta,rho,\"ln\")\n",
    "\n",
    "print(\"The SABR implied normal volatility is: \",\n",
    "      '{:.6f}'.format(sigma_imp_n))\n",
    "print(\"The SABR implied lognormal volatility is: \",\n",
    "      '{:.6f}'.format(sigma_imp_ln))"
   ]
  },
  {
   "cell_type": "markdown",
   "metadata": {},
   "source": [
    "### Q4: Calibrate the SABR model parameters"
   ]
  },
  {
   "cell_type": "markdown",
   "metadata": {},
   "source": [
    "* Read data from given excel file"
   ]
  },
  {
   "cell_type": "code",
   "execution_count": 14,
   "metadata": {
    "collapsed": false
   },
   "outputs": [],
   "source": [
    "# Get the data of implied vol\n",
    "df_imp=pd.read_excel(io='SwaptionVolData.xls',sheetname=0,parse_cols=\"B:O\",skiprows=4)[:6]\n",
    "# Get the data of forward swap rates\n",
    "df_fsr=pd.read_excel(io='SwaptionVolData.xls',sheetname=0,parse_cols=\"B:C\",skiprows=16)[:6]"
   ]
  },
  {
   "cell_type": "markdown",
   "metadata": {},
   "source": [
    "* From lecture notes, we know if we calibrate the parameters by fixing $\\beta=0.5$, ***\"this methodology works quite well under 'Normal' conditions\" (Quoted from lecture notes).***\n",
    "\n",
    "\n",
    "* Therefore, we calibrate the parameters by using SABR implied normal volatility\n",
    "\n",
    "\n",
    "* Use optimize.minimize in scipy. to calibrate.\n",
    "    * Ref: https://docs.scipy.org/doc/scipy/reference/generated/scipy.optimize.minimize.html\n",
    "    \n",
    "    \n",
    "* Reference paper: SABR calibration in Python.\n",
    "    * URL: https://papers.ssrn.com/sol3/papers.cfm?abstract_id=2725485"
   ]
  },
  {
   "cell_type": "code",
   "execution_count": 15,
   "metadata": {
    "collapsed": false
   },
   "outputs": [],
   "source": [
    "# Define an object function to be given to minimize() function\n",
    "def objfunc(para,beta,T,K,F0,MKvol,flag):\n",
    "    '''\n",
    "    All parameters are array like\n",
    "    :param para: model parameters: alpha,rho,sigma0\n",
    "    :param beta: model parameter beta fixed at 0.5\n",
    "    :param T: maturity\n",
    "    :param K: strike\n",
    "    :param F0: Forward swap rate\n",
    "    :MKvol: market volatility\n",
    "    :flag: Compute SABR normal or lognormal implied vol\n",
    "    '''\n",
    "    alpha=para[0]\n",
    "    rho=para[1]\n",
    "    sigma0=para[2]\n",
    "    \n",
    "    sum_sq_diff=0\n",
    "    for i in range(len(F0)):\n",
    "        for j in range(len(K[0])):\n",
    "            sigma_n=SABR_implied_Vol(T[i],K[i][j],F0[i],sigma0,alpha,beta,rho,flag)\n",
    "            sum_sq_diff=sum_sq_diff+np.power((sigma_n-MKvol[i][j]),2)\n",
    "#            if(sigma_n ==np.nan):\n",
    "#                print(\"Sigma_n\",sigma_n)\n",
    "#            print(\"i:\",i,\"j:\",j,\"Sigma_n\",sigma_n)\n",
    "\n",
    "    return math.sqrt(sum_sq_diff)\n",
    "    "
   ]
  },
  {
   "cell_type": "code",
   "execution_count": 16,
   "metadata": {
    "collapsed": true
   },
   "outputs": [],
   "source": [
    "# Deinfe the calibration function by using minimize() function\n",
    "def calibration(initial_para,beta,T,K,F0,MKvol,flag):\n",
    "    '''\n",
    "    All parameters are array like: 1darray except K is matrix\n",
    "    :param initial_para: initial guess of model parameters: alpha,rho,sigma0\n",
    "    :param beta: model parameter beta fixed at 0.5\n",
    "    :param T: maturity\n",
    "    :param K: strike\n",
    "    :param F0: Forward swap rate\n",
    "    :MKvol: market volatility\n",
    "    :flag: Compute SABR normal or lognormal implied vol\n",
    "    '''    \n",
    "    \n",
    "    x0=initial_para\n",
    "    # Boundary conditionary for alpha, rho, and sigma0 based on the paper\n",
    "    # alpha: Min:0.001~Max:None\n",
    "    # rho: Min:0.001~Max:None\n",
    "    # sigma0: Min:0~Max:1\n",
    "    bound_cond=((0.001,None) , (-0.999,0.999),(0.001,None))\n",
    "        \n",
    "    res=minimize(objfunc,x0,(beta,T,K,F0,MKvol,flag),bounds=bound_cond,method='SLSQP')\n",
    "    # SLSQP: constrained minimization of multivariate scalar functions\n",
    "    \n",
    "    return res\n",
    "    "
   ]
  },
  {
   "cell_type": "code",
   "execution_count": 17,
   "metadata": {
    "collapsed": false
   },
   "outputs": [],
   "source": [
    "# Get the corresponding data sets\n",
    "F=df_fsr['Rate']\n",
    "bps=[-250+50*x for x  in range(5)]+[-25,0,25]+[50+50*i for i in range(5)]\n",
    "bps=[i/10000 for i in bps] # Change bps to %\n",
    "K=np.zeros((len(F),len(bps)))\n",
    "for i in range(len(F)):\n",
    "    for j in range(len(bps)):\n",
    "        K[i][j]=F[i]-bps[j]\n",
    "T=df_fsr['Mat yrs']\n",
    "# Convert pandas dataframe to matrix\n",
    "MKvol=df_imp.as_matrix(columns=df_imp.columns[1:])\n",
    "beta=0.5\n",
    "flag=\"n\" # SABR normal vol; \"ln\" for SABR lognormal vol\n",
    "# Initial guess of alpha, rho, sigma0\n",
    "initial_guess=[0.3,0.0,0.1]"
   ]
  },
  {
   "cell_type": "code",
   "execution_count": 18,
   "metadata": {
    "collapsed": false
   },
   "outputs": [
    {
     "name": "stderr",
     "output_type": "stream",
     "text": [
      "/Users/hongchao/anaconda/envs/py27/lib/python2.7/site-packages/ipykernel/__main__.py:26: RuntimeWarning: invalid value encountered in double_scalars\n",
      "/Users/hongchao/anaconda/envs/py27/lib/python2.7/site-packages/ipykernel/__main__.py:30: RuntimeWarning: invalid value encountered in double_scalars\n"
     ]
    }
   ],
   "source": [
    "# Calibration of SABR implied normal vol\n",
    "calibration_res=calibration(initial_guess,beta=0.5,T=T,K=K,F0=F,MKvol=MKvol,flag=\"n\")\n"
   ]
  },
  {
   "cell_type": "code",
   "execution_count": 19,
   "metadata": {
    "collapsed": false
   },
   "outputs": [
    {
     "name": "stdout",
     "output_type": "stream",
     "text": [
      "Optimization terminated successfully. \n",
      " Optimization completed?  True\n"
     ]
    }
   ],
   "source": [
    "print(calibration_res.message,\"\\n\",\"Optimization completed? \",calibration_res.success)"
   ]
  },
  {
   "cell_type": "code",
   "execution_count": 20,
   "metadata": {
    "collapsed": false
   },
   "outputs": [
    {
     "name": "stdout",
     "output_type": "stream",
     "text": [
      "Calibrated alpha is:  79.809374\n",
      "Calibrated rho is:  0.817438\n",
      "Calibrated sigma0 is:  0.036119937\n"
     ]
    }
   ],
   "source": [
    "# Get the calibrated parameters\n",
    "alpha_cal=calibration_res.x[0]\n",
    "rho_cal=calibration_res.x[1]\n",
    "sigma0_cal=calibration_res.x[2]\n",
    "print(\"Calibrated alpha is: \",'{:.6f}'.format(alpha_cal))\n",
    "print(\"Calibrated rho is: \",'{:.6f}'.format(rho_cal))\n",
    "print(\"Calibrated sigma0 is: \",'{:.9f}'.format(sigma0_cal))"
   ]
  },
  {
   "cell_type": "markdown",
   "metadata": {},
   "source": [
    "* Compute SABR implied normal volatility by using calibrated parameters"
   ]
  },
  {
   "cell_type": "code",
   "execution_count": 21,
   "metadata": {
    "collapsed": false
   },
   "outputs": [
    {
     "name": "stderr",
     "output_type": "stream",
     "text": [
      "/Users/hongchao/anaconda/envs/py27/lib/python2.7/site-packages/ipykernel/__main__.py:26: RuntimeWarning: invalid value encountered in double_scalars\n",
      "/Users/hongchao/anaconda/envs/py27/lib/python2.7/site-packages/ipykernel/__main__.py:30: RuntimeWarning: invalid value encountered in double_scalars\n"
     ]
    }
   ],
   "source": [
    "F=df_fsr['Rate']\n",
    "bps=[-250+50*x for x  in range(5)]+[-25,0,25]+[50+50*i for i in range(5)]\n",
    "bps=[i/10000 for i in bps] # Change bps to %\n",
    "K=np.zeros((len(F),len(bps)))\n",
    "for i in range(len(F)):\n",
    "    for j in range(len(bps)):\n",
    "        K[i][j]=F[i]-bps[j]\n",
    "T=df_fsr['Mat yrs']\n",
    "# Convert pandas dataframe to matrix\n",
    "MKvol=df_imp.as_matrix(columns=df_imp.columns[1:])\n",
    "beta=0.5\n",
    "\n",
    "IMPvol=np.zeros((len(MKvol),len(MKvol[0])))\n",
    "for i in range(len(IMPvol)):\n",
    "    for j in range(len(IMPvol[0])):\n",
    "        IMPvol[i][j]=SABR_implied_Vol(T[i],K[i][j],F[i],\n",
    "                                      sigma0_cal,alpha_cal,0.5,rho_cal,\"n\")\n",
    "# Convert matrix to pandas dataframe\n",
    "IMPvol=pd.DataFrame(IMPvol)"
   ]
  },
  {
   "cell_type": "code",
   "execution_count": 22,
   "metadata": {
    "collapsed": false
   },
   "outputs": [
    {
     "data": {
      "text/plain": [
       "0        0.01\n",
       "1    0.453976\n",
       "2    0.411018\n",
       "3    0.363079\n",
       "4    0.330425\n",
       "5    0.296923\n",
       "Name: -250, dtype: object"
      ]
     },
     "execution_count": 22,
     "metadata": {},
     "output_type": "execute_result"
    }
   ],
   "source": [
    "df_imp.iloc[:,1]"
   ]
  },
  {
   "cell_type": "markdown",
   "metadata": {},
   "source": [
    "#### Plot the fitted value (SABR implied vol) and market vol\n",
    "\n",
    "* Fix strike(-250 bp), plot implied vol and market vol VS froward rate"
   ]
  },
  {
   "cell_type": "code",
   "execution_count": 27,
   "metadata": {
    "collapsed": false
   },
   "outputs": [
    {
     "data": {
      "image/png": "[encoded data removed]",
      "text/plain": [
       "<matplotlib.figure.Figure at 0x111312450>"
      ]
     },
     "metadata": {},
     "output_type": "display_data"
    }
   ],
   "source": [
    "# Plot the market value and fitted value\n",
    "plt.figure(1, figsize=(12,5))\n",
    "plt.plot(F,IMPvol[:][0],'r-',F,df_imp.iloc[:,1],'bo')\n",
    "plt.show()"
   ]
  },
  {
   "cell_type": "code",
   "execution_count": null,
   "metadata": {
    "collapsed": true
   },
   "outputs": [],
   "source": []
  }
 ],
 "metadata": {
  "kernelspec": {
   "display_name": "Python 2",
   "language": "python",
   "name": "python2"
  },
  "language_info": {
   "codemirror_mode": {
    "name": "ipython",
    "version": 2
   },
   "file_extension": ".py",
   "mimetype": "text/x-python",
   "name": "python",
   "nbconvert_exporter": "python",
   "pygments_lexer": "ipython2",
   "version": "2.7.13"
  }
 },
 "nbformat": 4,
 "nbformat_minor": 2
}
